{
  "nbformat": 4,
  "nbformat_minor": 0,
  "metadata": {
    "colab": {
      "name": "Project_book_1_cloud.ipynb",
      "provenance": [],
      "collapsed_sections": [],
      "authorship_tag": "ABX9TyOwU7lhXiR6+Qhgdr2R83Z9",
      "include_colab_link": true
    },
    "kernelspec": {
      "name": "python3",
      "display_name": "Python 3"
    },
    "language_info": {
      "name": "python"
    }
  },
  "cells": [
    {
      "cell_type": "markdown",
      "metadata": {
        "id": "view-in-github",
        "colab_type": "text"
      },
      "source": [
        "<a href=\"https://colab.research.google.com/github/prachi1294/599-Team-1/blob/main/Project_book_1_cloud.ipynb\" target=\"_parent\"><img src=\"https://colab.research.google.com/assets/colab-badge.svg\" alt=\"Open In Colab\"/></a>"
      ]
    },
    {
      "cell_type": "code",
      "metadata": {
        "id": "Sd9AJweFjpEy"
      },
      "source": [
        "import spacy\n",
        "import nltk\n",
        "#nltk.download(\"gutenberg\")\n",
        "#from nltk.corpus import gutenberg\n",
        "import requests\n",
        "import re\n",
        "from collections import defaultdict\n",
        "from collections import Counter\n",
        "import operator\n",
        "\n",
        "from IPython.display import Javascript\n",
        "def resize_colab_cell():\n",
        "  display(Javascript('google.colab.output.setIframeHeight(0, true, {maxHeight: 5000})'))\n",
        "get_ipython().events.register('pre_run_cell', resize_colab_cell)"
      ],
      "execution_count": 1,
      "outputs": []
    },
    {
      "cell_type": "code",
      "metadata": {
        "colab": {
          "base_uri": "https://localhost:8080/",
          "height": 17
        },
        "id": "WY0Jm5bdjtQY",
        "outputId": "53135c07-ddc4-4e99-b325-be9674b40ec4"
      },
      "source": [
        "nlp = spacy.load('en')\n",
        "import pandas as pd\n",
        "import matplotlib.pyplot as plt\n",
        "import random"
      ],
      "execution_count": 2,
      "outputs": [
        {
          "output_type": "display_data",
          "data": {
            "application/javascript": [
              "google.colab.output.setIframeHeight(0, true, {maxHeight: 5000})"
            ],
            "text/plain": [
              "<IPython.core.display.Javascript object>"
            ]
          },
          "metadata": {}
        }
      ]
    },
    {
      "cell_type": "code",
      "metadata": {
        "colab": {
          "base_uri": "https://localhost:8080/",
          "height": 17
        },
        "id": "DRMwD4ongnG3",
        "outputId": "e564c59d-0483-46fe-fc83-242e19f9b965"
      },
      "source": [
        "def read_books(url):\n",
        "  r = requests.get(url)\n",
        "  # What comes back includes headers and other HTTP stuff, get just the body of the response\n",
        "  t = r.text\n",
        "  return t\n",
        "\n",
        "\n",
        "#save all the books\n",
        "the_extra_ordinary_adv_lupin = 'https://www.gutenberg.org/files/6133/6133-0.txt'\n",
        "arsene_lupin = 'https://www.gutenberg.org/cache/epub/4014/pg4014.txt'\n",
        "lupin_vs_herlock_sholmes = 'https://www.gutenberg.org/files/40203/40203-0.txt'\n",
        "the_hollow_needle = 'https://www.gutenberg.org/files/4017/4017-0.txt'\n",
        "the_confession_of_lupin = 'https://www.gutenberg.org/cache/epub/28093/pg28093.txt'\n",
        "\n",
        "\n",
        "#read all the books one by one\n",
        "\n",
        "book1 = read_books(the_extra_ordinary_adv_lupin)\n",
        "book2 = read_books(arsene_lupin)\n",
        "book3 = read_books(lupin_vs_herlock_sholmes)\n",
        "book4 = read_books(the_hollow_needle)\n",
        "book5 = read_books(the_confession_of_lupin)\n",
        "\n",
        "\n",
        "\n",
        "book_list=[book1,book2,book3,book4,book5]\n",
        "\n"
      ],
      "execution_count": 32,
      "outputs": [
        {
          "output_type": "display_data",
          "data": {
            "application/javascript": [
              "google.colab.output.setIframeHeight(0, true, {maxHeight: 5000})"
            ],
            "text/plain": [
              "<IPython.core.display.Javascript object>"
            ]
          },
          "metadata": {}
        }
      ]
    },
    {
      "cell_type": "code",
      "metadata": {
        "colab": {
          "base_uri": "https://localhost:8080/",
          "height": 17
        },
        "id": "AWd-j7QFDHJ3",
        "outputId": "ad939950-a6b8-4d84-dcbf-9bd3d89475e5"
      },
      "source": [
        "# Answers for question 1-6\n",
        "Q1_list=[None]*5\n",
        "Q2_list=[None]*5\n",
        "Q3_list=[None]*5\n",
        "Q4_list=[None]*5\n",
        "Q5_list=[None]*5\n",
        "Q6_list=[None]*5\n",
        "\n",
        "book_index = 1\n",
        "text = book_list[book_index-1]\n",
        "\n",
        "#print(text)\n"
      ],
      "execution_count": 38,
      "outputs": [
        {
          "output_type": "display_data",
          "data": {
            "application/javascript": [
              "google.colab.output.setIframeHeight(0, true, {maxHeight: 5000})"
            ],
            "text/plain": [
              "<IPython.core.display.Javascript object>"
            ]
          },
          "metadata": {}
        }
      ]
    },
    {
      "cell_type": "code",
      "metadata": {
        "colab": {
          "base_uri": "https://localhost:8080/",
          "height": 17
        },
        "id": "L71rc0QMhP1y",
        "outputId": "57cdef78-1a1f-41ae-a4f3-4ccc50bb9f44"
      },
      "source": [
        "##my regex = (IX|IV|V?I{1,3}\\.\\s)([A-Z].*)(\\W*[a-zA-Z])\n",
        "## regex for selecting chapter name = (IX|IV|V|V?I{1,3})(\\.\\s[A-Z].*)\n",
        "pattern = (\"(IX|IV|V|V?I{1,3})(\\.\\s[A-Z].*)\") #get the chapter name. Group 1 will get the chapter no followed by . and space. Group 2 will get chapter name\n",
        "matches = []\n",
        "matches = re.findall(pattern, book1)"
      ],
      "execution_count": 4,
      "outputs": [
        {
          "output_type": "display_data",
          "data": {
            "application/javascript": [
              "google.colab.output.setIframeHeight(0, true, {maxHeight: 5000})"
            ],
            "text/plain": [
              "<IPython.core.display.Javascript object>"
            ]
          },
          "metadata": {}
        }
      ]
    },
    {
      "cell_type": "code",
      "metadata": {
        "colab": {
          "base_uri": "https://localhost:8080/",
          "height": 34
        },
        "id": "nf84r70__yx3",
        "outputId": "98166c6e-e9c9-4fe1-991c-023c512c0478"
      },
      "source": [
        "words_pattern = (\"(?!\\[?[0-9]+[\\[\\]]?)[A-Za-z]?[a-z][a-z\\']*\") #extract words from book and ignores numeric and capital letters\n",
        "words = []\n",
        "words = re.findall(words_pattern, book1)\n",
        "print(words[:10])"
      ],
      "execution_count": 5,
      "outputs": [
        {
          "output_type": "display_data",
          "data": {
            "application/javascript": [
              "google.colab.output.setIframeHeight(0, true, {maxHeight: 5000})"
            ],
            "text/plain": [
              "<IPython.core.display.Javascript object>"
            ]
          },
          "metadata": {}
        },
        {
          "output_type": "stream",
          "name": "stdout",
          "text": [
            "['The', 'Project', 'Gutenberg', 'e', 'Book', 'of', 'The', 'Extraordinary', 'Adventures', 'of']\n"
          ]
        }
      ]
    },
    {
      "cell_type": "code",
      "metadata": {
        "colab": {
          "base_uri": "https://localhost:8080/",
          "height": 54
        },
        "id": "Eug-AlN_I6RU",
        "outputId": "05b1ac0a-a79a-4b81-9654-2d1cf0d532a6"
      },
      "source": [
        "sentence_pattern = ((\"[A-Z][^.]*[\\.!?]\"))\n",
        "sentence = []\n",
        "sentence = re.findall(sentence_pattern, book1)\n",
        "print(sentence[:10])"
      ],
      "execution_count": 6,
      "outputs": [
        {
          "output_type": "display_data",
          "data": {
            "application/javascript": [
              "google.colab.output.setIframeHeight(0, true, {maxHeight: 5000})"
            ],
            "text/plain": [
              "<IPython.core.display.Javascript object>"
            ]
          },
          "metadata": {}
        },
        {
          "output_type": "stream",
          "name": "stdout",
          "text": [
            "['The Project Gutenberg eBook of The Extraordinary Adventures of ArsÃ¨ne Lupin, Gentleman-Burglar, by Maurice Leblanc\\r\\n\\r\\nThis eBook is for the use of anyone anywhere in the United States and\\r\\nmost other parts of the world at no cost and with almost no restrictions\\r\\nwhatsoever.', 'You may copy it, give it away or re-use it under the terms\\r\\nof the Project Gutenberg License included with this eBook or online at\\r\\nwww.', 'If you are not located in the United States, you\\r\\nwill have to check the laws of the country where you are located before\\r\\nusing this eBook.', 'Title: The Extraordinary Adventures of ArsÃ¨ne Lupin, Gentleman-Burglar\\r\\n\\r\\nAuthor: Maurice Leblanc\\r\\n\\r\\nRelease Date: November 17, 2002 [eBook #6133]\\r\\n[Last updated: February 6, 2021]\\r\\n\\r\\nLanguage: English\\r\\n\\r\\nCharacter set encoding: UTF-8\\r\\n\\r\\nProduced by: Nathan J.', 'Miller, and David Widger\\r\\n\\r\\n*** START OF THE PROJECT GUTENBERG EBOOK THE EXTRAORDINARY ADVENTURES OF ARSÃ\\x88NE LUPIN ***\\r\\n\\r\\n\\r\\n\\r\\n\\r\\nTHE EXTRAORDINARY ADVENTURES OF ARSÃ\\x88NE LUPIN, GENTLEMAN-BURGLAR\\r\\n\\r\\nBy Maurice Leblanc\\r\\n\\r\\n\\r\\n\\r\\n     Table of Contents:\\r\\n\\r\\n     I.', 'The Arrest of ArsÃ¨ne Lupin\\r\\n     II.', 'ArsÃ¨ne Lupin in Prison\\r\\n     III.', 'The Escape of ArsÃ¨ne Lupin\\r\\n     IV.', 'The Mysterious Traveller\\r\\n     V.', 'The Queenâ\\x80\\x99s Necklace\\r\\n     VI.']\n"
          ]
        }
      ]
    },
    {
      "cell_type": "code",
      "metadata": {
        "colab": {
          "base_uri": "https://localhost:8080/",
          "height": 275
        },
        "id": "CN6RqTkayGOk",
        "outputId": "97c9204e-b85a-4a34-c24b-72e57d7220ca"
      },
      "source": [
        "# divide chapter function1\n",
        "def chapter_divider1(text):\n",
        "    Roman_numeric = [\"I\",\"II\",\"III\",\"IV\",\"V\",\"VI\",\"VII\",\"VIII\",\"IX\",\"X\",\n",
        "                 \"XI\",\"XII\",\"XIII\",\"XIV\",\"XV\",\"XVI\",\"XVII\",\"XVIII\",\"XIX\",\"XX\",\n",
        "                 \"XXI\",\"XXII\",\"XXIII\",\"XXIV\",\"XXV\",\"XXVI\",\"XXVII\",\"XXVIII\",\"XXIX\",\"XXX\",\n",
        "                 \"XXXI\",\"XXXII\",\"XXXIII\",\"XXXIV\",\"XXXV\",\"XXXVI\",\"XXXVII\",\"XXXVIII\",\"XXXIX\",\"XL\",\n",
        "                ]\n",
        "\n",
        "    chapter_list1 = []\n",
        "    for i in range(0,len(Roman_numeric)-1):\n",
        "        Rn1=Roman_numeric[i]\n",
        "        Rn2=Roman_numeric[i+1]\n",
        "        #print(Rn1,Rn2)\n",
        "        pattern=\"\\s\"+Rn1+\"\\.\"+\".*[\\.\\w\\s\\r\\n]*?\"+Rn2+\"\\.\\s\"\n",
        "        match = re.search(pattern, text) \n",
        "\n",
        "        if match:\n",
        "    #         print(match.group())\n",
        "    #         print(match.start())\n",
        "#             print(match.end())\n",
        "            last_end=match.end()\n",
        "            pattern=\"(?<=\"+Rn1+\"\\.)\"+\".*(?=\\r)\"\n",
        "            result=re.findall(pattern, match.group())\n",
        "            #print(result[0])\n",
        "            pattern=\"(?<=\\s)\\w.*\"\n",
        "            result=re.findall(pattern, result[0])\n",
        "            pattern=\"(\\s){3,}\"\n",
        "            match=re.search(pattern, result[0])\n",
        "            if match:\n",
        "                result[0]=result[0][0:match.start()]\n",
        "#             print(result[0])\n",
        "            chapter_list1.append(result[0])\n",
        "        else:\n",
        "            pattern=\"(?<=\"+Rn1+\"\\.)\"+\".*(?=\\r)\"\n",
        "#             print(text[last_end-10:last_end+80])\n",
        "            result=re.findall(pattern, text[last_end-10:last_end+100])\n",
        "            if result:\n",
        "#                 print(result[0])\n",
        "                pattern=\"(?<=\\s)\\w.*\"\n",
        "                result=re.findall(pattern, result[0])\n",
        "                pattern=\"(\\s){3,}\"\n",
        "                match=re.search(pattern, result[0])\n",
        "                if match:\n",
        "                    result[0]=result[0][0:match.start()]\n",
        "                chapter_list1.append(result[0])\n",
        "            break\n",
        "            #print(\"pattern not found\")\n",
        "    \n",
        "    print(\"list1:\",len(chapter_list1),chapter_list1)\n",
        "    return(chapter_list1)\n",
        "\n",
        "\n",
        "\n",
        "chapter_list1=chapter_divider1(book1)\n",
        "\n",
        "# divide chapter function2\n",
        "def chapter_divider2(text):\n",
        "    chapter_list2 = []\n",
        "    pattern=\"[IVX]\\.[\\s\\r\\n]+\"+\".*(?=\\r)\"\n",
        "    result=re.findall(pattern, text)\n",
        "    #print(result)\n",
        "    #print(len(result))\n",
        "\n",
        "    chapter_count=len(result)\n",
        "    \n",
        "    position_list=[]\n",
        "    \n",
        "    for r in result:\n",
        "        #print(r)\n",
        "        match=re.search(r, text)\n",
        "        if match:\n",
        "            position=match.end()\n",
        "            position_list.append(position)\n",
        "        else:\n",
        "            position_list.append(0)\n",
        "    \n",
        "    for i in range(0,len(result)):\n",
        "        if abs(position_list[i+1]-position_list[i])<100:\n",
        "            r=result[i]\n",
        "            pattern=\"(?<=\\s)\\w.*\"\n",
        "            new_r=re.findall(pattern, r)\n",
        "            pattern=\"(\\s){3,}\"\n",
        "            match=re.search(pattern, new_r[0])\n",
        "            if match:\n",
        "                new_r[0]=new_r[0][0:match.start()]\n",
        "            if (new_r[0] in chapter_list2):\n",
        "                break\n",
        "            else:\n",
        "                chapter_list2.append(new_r[0])\n",
        "        else:\n",
        "            r=result[i]\n",
        "            pattern=\"(?<=\\s)\\w.*\"\n",
        "            new_r=re.findall(pattern, r)\n",
        "            pattern=\"(\\s){3,}\"\n",
        "            match=re.search(pattern, new_r[0])\n",
        "            if match:\n",
        "                new_r[0]=new_r[0][0:match.start()]\n",
        "            if (new_r[0] in chapter_list2):\n",
        "                break\n",
        "            else:\n",
        "                chapter_list2.append(new_r[0])\n",
        "            break\n",
        "    \n",
        "    \n",
        "    #print(position_list)\n",
        "    \n",
        "    print(\"list2:\",len(chapter_list2),chapter_list2)\n",
        "    \n",
        "    return(chapter_list2)\n",
        "    \n",
        "\n",
        "chapter_list2=chapter_divider2(book2)\n",
        "#print(len(chapter_list))\n",
        "\n",
        "def chapter_divider(text):\n",
        "    chapter_list1=chapter_divider1(text)\n",
        "    chapter_list2=chapter_divider2(text)\n",
        "    \n",
        "    correct_flag_short=True\n",
        "    \n",
        "    for i in range(0,min(len(chapter_list1),len(chapter_list2))):\n",
        "        if chapter_list1[i] != chapter_list2[i]:\n",
        "            correct_flag_short=False\n",
        "            \n",
        "    if correct_flag_short:\n",
        "        if len(chapter_list1)<len(chapter_list2):\n",
        "            correct_flag_long = chapter_check(chapter_list1,chapter_list2)\n",
        "        else:\n",
        "            correct_flag_long = chapter_check(chapter_list2,chapter_list1)\n",
        "    else:\n",
        "        return(\"wrong list\")\n",
        "        \n",
        "    if correct_flag_long:\n",
        "        print(\"Correct:\",len(chapter_list2),chapter_list2)\n",
        "        return(chapter_list2)\n",
        "    else:\n",
        "        print(\"Correct:\",len(chapter_list1),chapter_list1)\n",
        "        return chapter_list1\n",
        "\n",
        "def chapter_check(chapter_short,chapter_long):\n",
        "    correct_flag = True\n",
        "    for i in range(len(chapter_short),len(chapter_long)):\n",
        "        chaptername_check = chapter_long[i]\n",
        "        print(chaptername_check)\n",
        "        for chaptername in chapter_short:\n",
        "            \n",
        "            Uppercheck1 = (chaptername_check.upper() in chaptername.upper())\n",
        "            Uppercheck2 = (chaptername.upper() in chaptername_check.upper())\n",
        "            Uppercheck  = Uppercheck1 | Uppercheck2\n",
        "            Lowercheck1 = (chaptername_check.lower() in chaptername.lower())\n",
        "            Lowercheck2 = (chaptername.lower() in chaptername_check.lower())\n",
        "            Lowercheck  = Lowercheck1 | Lowercheck2\n",
        "#             print(chaptername_check.upper(),chaptername.upper(),Uppercheck)\n",
        "#             print(chaptername_check.lower(),chaptername.lower(),Lowercheck)\n",
        "            if Uppercheck | Lowercheck :\n",
        "                correct_flag = False\n",
        "                break\n",
        "    \n",
        "    return correct_flag \n",
        "        \n",
        "chapter_divider(book1)\n",
        "\n",
        "\n",
        "\n",
        "\n"
      ],
      "execution_count": 39,
      "outputs": [
        {
          "output_type": "display_data",
          "data": {
            "application/javascript": [
              "google.colab.output.setIframeHeight(0, true, {maxHeight: 5000})"
            ],
            "text/plain": [
              "<IPython.core.display.Javascript object>"
            ]
          },
          "metadata": {}
        },
        {
          "output_type": "stream",
          "name": "stdout",
          "text": [
            "list1: 9 ['The Arrest of ArsÃ¨ne Lupin', 'ArsÃ¨ne Lupin in Prison', 'The Escape of ArsÃ¨ne Lupin', 'The Mysterious Traveller', 'The Queenâ\\x80\\x99s Necklace', 'The Seven of Hearts', 'Madame Imbertâ\\x80\\x99s Safe', 'The Black Pearl', 'Sherlock Holmes Arrives Too Late']\n",
            "list2: 23 [\"THE MILLIONAIRE'S DAUGHTER\", 'THE COMING OF THE CHAROLAIS', \"LUPIN'S WAY\", 'THE DUKE INTERVENES', 'A LETTER FROM LUPIN', 'AGAIN THE CHAROLAIS', 'THE THEFT OF THE MOTOR-CARS', 'THE DUKE ARRIVES', 'M. FORMERY OPENS THE INQUIRY', 'GUERCHARD ASSISTS', 'THE FAMILY ARRIVES', 'THE THEFT OF THE PENDANT', 'LUPIN WIRES', 'GUERCHARD PICKS UP THE TRUE SCENT', 'THE EXAMINATION OF SONIA', \"VICTOIRE'S SLIP\", \"SONIA'S ESCAPE\", 'THE DUKE STAYS', 'THE DUKE GOES', 'LUPIN COMES HOME', 'THE CUTTING OF THE TELEPHONE WIRES', 'THE BARGAIN', 'THE END OF THE DUEL']\n",
            "list1: 9 ['The Arrest of ArsÃ¨ne Lupin', 'ArsÃ¨ne Lupin in Prison', 'The Escape of ArsÃ¨ne Lupin', 'The Mysterious Traveller', 'The Queenâ\\x80\\x99s Necklace', 'The Seven of Hearts', 'Madame Imbertâ\\x80\\x99s Safe', 'The Black Pearl', 'Sherlock Holmes Arrives Too Late']\n",
            "list2: 9 ['The Arrest of ArsÃ¨ne Lupin', 'ArsÃ¨ne Lupin in Prison', 'The Escape of ArsÃ¨ne Lupin', 'The Mysterious Traveller', 'The Queenâ\\x80\\x99s Necklace', 'The Seven of Hearts', 'Madame Imbertâ\\x80\\x99s Safe', 'The Black Pearl', 'Sherlock Holmes Arrives Too Late']\n",
            "Correct: 9 ['The Arrest of ArsÃ¨ne Lupin', 'ArsÃ¨ne Lupin in Prison', 'The Escape of ArsÃ¨ne Lupin', 'The Mysterious Traveller', 'The Queenâ\\x80\\x99s Necklace', 'The Seven of Hearts', 'Madame Imbertâ\\x80\\x99s Safe', 'The Black Pearl', 'Sherlock Holmes Arrives Too Late']\n"
          ]
        },
        {
          "output_type": "execute_result",
          "data": {
            "text/plain": [
              "['The Arrest of ArsÃ¨ne Lupin',\n",
              " 'ArsÃ¨ne Lupin in Prison',\n",
              " 'The Escape of ArsÃ¨ne Lupin',\n",
              " 'The Mysterious Traveller',\n",
              " 'The Queenâ\\x80\\x99s Necklace',\n",
              " 'The Seven of Hearts',\n",
              " 'Madame Imbertâ\\x80\\x99s Safe',\n",
              " 'The Black Pearl',\n",
              " 'Sherlock Holmes Arrives Too Late']"
            ]
          },
          "metadata": {},
          "execution_count": 39
        }
      ]
    },
    {
      "cell_type": "code",
      "metadata": {
        "colab": {
          "base_uri": "https://localhost:8080/",
          "height": 581
        },
        "id": "HfM77p5D0bgW",
        "outputId": "c8788113-05e7-4647-9874-126f60d5b799"
      },
      "source": [
        "#identify text in each chapter\n",
        "def chapter_text_find(text):\n",
        "    chapter_list=chapter_divider(text)\n",
        "    \n",
        "    chapter_text=[]\n",
        "    chapter_count=len(chapter_list)\n",
        "    chapter_name = chapter_list[chapter_count-1]\n",
        "    match = re.search(chapter_name, text) \n",
        "    n_text=text[match.end():len(text)]\n",
        "\n",
        "    span_list=[]\n",
        "    for i in range(0,chapter_count):\n",
        "        chapter_name=chapter_list[i]\n",
        "        pattern=\"[^a-zA-Z\\s]\"\n",
        "        chapter_name_clear=re.sub(pattern, \".\",chapter_name)\n",
        "        match = re.search(chapter_name_clear, n_text) \n",
        "        if match:\n",
        "            print(chapter_name_clear)\n",
        "            print(match.group())\n",
        "            print(match.span())\n",
        "        else:\n",
        "            match = re.search(chapter_name_clear.upper(), n_text)\n",
        "            print(chapter_name_clear.upper())\n",
        "            if match:\n",
        "                print(match.group())\n",
        "                print(match.span())\n",
        "        span_list.append(match.span())\n",
        "    span_list.append([len(n_text),len(n_text)])\n",
        "    print(span_list)\n",
        "    for i in range(0,chapter_count):\n",
        "        textinchapter=n_text[span_list[i][1]:span_list[i+1][0]]\n",
        "        chapter_text.append(textinchapter)\n",
        "    print(\"Chapter text number:\",len(chapter_text))\n",
        "    return chapter_text\n",
        "    \n",
        "chapter_text=chapter_text_find(book1)\n"
      ],
      "execution_count": 40,
      "outputs": [
        {
          "output_type": "display_data",
          "data": {
            "application/javascript": [
              "google.colab.output.setIframeHeight(0, true, {maxHeight: 5000})"
            ],
            "text/plain": [
              "<IPython.core.display.Javascript object>"
            ]
          },
          "metadata": {}
        },
        {
          "output_type": "stream",
          "name": "stdout",
          "text": [
            "list1: 9 ['The Arrest of ArsÃ¨ne Lupin', 'ArsÃ¨ne Lupin in Prison', 'The Escape of ArsÃ¨ne Lupin', 'The Mysterious Traveller', 'The Queenâ\\x80\\x99s Necklace', 'The Seven of Hearts', 'Madame Imbertâ\\x80\\x99s Safe', 'The Black Pearl', 'Sherlock Holmes Arrives Too Late']\n",
            "list2: 9 ['The Arrest of ArsÃ¨ne Lupin', 'ArsÃ¨ne Lupin in Prison', 'The Escape of ArsÃ¨ne Lupin', 'The Mysterious Traveller', 'The Queenâ\\x80\\x99s Necklace', 'The Seven of Hearts', 'Madame Imbertâ\\x80\\x99s Safe', 'The Black Pearl', 'Sherlock Holmes Arrives Too Late']\n",
            "Correct: 9 ['The Arrest of ArsÃ¨ne Lupin', 'ArsÃ¨ne Lupin in Prison', 'The Escape of ArsÃ¨ne Lupin', 'The Mysterious Traveller', 'The Queenâ\\x80\\x99s Necklace', 'The Seven of Hearts', 'Madame Imbertâ\\x80\\x99s Safe', 'The Black Pearl', 'Sherlock Holmes Arrives Too Late']\n",
            "The Arrest of Ars..ne Lupin\n",
            "The Arrest of ArsÃ¨ne Lupin\n",
            "(15, 42)\n",
            "Ars..ne Lupin in Prison\n",
            "ArsÃ¨ne Lupin in Prison\n",
            "(25694, 25717)\n",
            "The Escape of Ars..ne Lupin\n",
            "The Escape of ArsÃ¨ne Lupin\n",
            "(62459, 62486)\n",
            "The Mysterious Traveller\n",
            "The Mysterious Traveller\n",
            "(103296, 103320)\n",
            "The Queen...s Necklace\n",
            "The Queenâs Necklace\n",
            "(133463, 133485)\n",
            "The Seven of Hearts\n",
            "The Seven of Hearts\n",
            "(165362, 165381)\n",
            "Madame Imbert...s Safe\n",
            "Madame Imbertâs Safe\n",
            "(227189, 227211)\n",
            "The Black Pearl\n",
            "The Black Pearl\n",
            "(248916, 248931)\n",
            "Sherlock Holmes Arrives Too Late\n",
            "Sherlock Holmes Arrives Too Late\n",
            "(276684, 276716)\n",
            "[(15, 42), (25694, 25717), (62459, 62486), (103296, 103320), (133463, 133485), (165362, 165381), (227189, 227211), (248916, 248931), (276684, 276716), [342960, 342960]]\n",
            "Chapter text number: 9\n"
          ]
        }
      ]
    },
    {
      "cell_type": "code",
      "metadata": {
        "id": "eMpV-6873F6T",
        "colab": {
          "base_uri": "https://localhost:8080/",
          "height": 54
        },
        "outputId": "9501d4f2-bf03-4517-ae4e-47ae6532c755"
      },
      "source": [
        "# sentence divider function\n",
        "def sentence_divider(text):\n",
        "    ellipsis = \"(\\.\\.\\.+)\"\n",
        "    temp_text = re.sub(ellipsis,\"^\",text)\n",
        "    Mr = \"M\\.\"\n",
        "    Mr_temp = \"M&\"\n",
        "    Mme = \"Mme\\.\"\n",
        "    Mme_temp = \"M%\"\n",
        "    temp_text = re.sub(Mr,Mr_temp,temp_text)\n",
        "    temp_text = re.sub(Mme,Mme_temp,temp_text)\n",
        "    special_quote1 = book3[1761:1764]\n",
        "    temp_text=re.sub(special_quote1,'\"',temp_text)\n",
        "    special_quote2 = book3[1761+29:1764+29]\n",
        "    temp_text=re.sub(special_quote2,\"'\",temp_text)\n",
        "    special_quote3 = book3[1761+51:1764+51]\n",
        "    temp_text=re.sub(special_quote3,'\"',temp_text)\n",
        "    \n",
        "    pattern = \"\"\n",
        "    mid_puncatuation=\"[\\w,:;'\\\"\\\\s\\-_\\[\\]\\(\\)\\&\\^\\%]+\"\n",
        "    # \".....\"\n",
        "    pattern = pattern+\"(\\\\s+\\\"+\"+mid_puncatuation+\"[:.?!]+(\\^)?\\\"(?=\\\\s))\"\n",
        "    # .....\n",
        "    pattern = pattern+\"|(\\\\s+\"+mid_puncatuation+\"[.?!]+(\\^)?(?=\\\\s))\"\n",
        "    # \".....\n",
        "    pattern = pattern+\"|(\\\\s+\\\"+\"+mid_puncatuation+\"[:.?!]+(\\^)?(?=\\\\s))\"\n",
        "    # .....\"\n",
        "    pattern = pattern+\"|(\\\\s+\"+mid_puncatuation+\"[:.?!]+(\\^)?\\\"(?=\\\\s))\"\n",
        "    sentence_find = re.findall(pattern, temp_text) \n",
        "    line_number=0\n",
        "    sentence_result = []\n",
        "    for sent in sentence_find:\n",
        "        line_number=line_number+1\n",
        "        #print(line_number)\n",
        "        len_sent = 0\n",
        "        for s in sent:\n",
        "            if(len(s)>len_sent):\n",
        "                len_sent=len(s)\n",
        "                sent_sub=s\n",
        "            \n",
        "        sent_sub=re.sub(r'[\\r\\n]+',' ',sent_sub)\n",
        "        sent_sub=re.sub(\"\\^\",\"...\",sent_sub)\n",
        "        sent_sub=re.sub(\"M\\&\",\"M.\",sent_sub)\n",
        "        sent_sub=re.sub(\"M\\%\",\"Mme.\",sent_sub)\n",
        "        #print(sent_sub)\n",
        "        sentence_result.append(sent_sub)\n",
        "    return sentence_result\n",
        "\n",
        "chapter = chapter_text[0]\n",
        "sentence_result=sentence_divider(chapter)\n",
        "print(sentence_result)"
      ],
      "execution_count": 41,
      "outputs": [
        {
          "output_type": "display_data",
          "data": {
            "application/javascript": [
              "google.colab.output.setIframeHeight(0, true, {maxHeight: 5000})"
            ],
            "text/plain": [
              "<IPython.core.display.Javascript object>"
            ]
          },
          "metadata": {}
        },
        {
          "output_type": "stream",
          "name": "stdout",
          "text": [
            "[' It was a strange ending to a voyage that had commenced in a most auspicious manner.', \" Provence' was a swift and comfortable vessel, under the command of a most affable man.\", ' The passengers constituted a select and delightful society.', ' The charm of new acquaintances and improvised amusements served to make the time pass agreeably.', ' We enjoyed the pleasant sensation of being separated from the world, living, as it were, upon an unknown island, and consequently obliged to be sociable with each other.', ' Have you ever stopped to consider how much originality and spontaneity emanate from these various individuals who, on the preceding evening, did not even know each other, and who are now, for several days, condemned to lead a life of extreme intimacy, jointly defying the anger of the ocean, the terrible onslaught of the waves, the violence of the tempest and the agonizing monotony of the calm and sleepy water?', ' Such a life becomes a sort of tragic existence, with its storms and its grandeurs, its monotony and its diversity; and that is why, perhaps, we embark upon that short voyage with mingled feelings of pleasure and fear.', ' But, during the past few years, a new sensation had been added to the life of the transatlantic traveler.', ' The little floating island is now attached to the world from which it was once quite free.', ' A bond united them, even in the very heart of the watery wastes of the Atlantic.', ' That bond is the wireless telegraph, by means of which we receive news in the most mysterious manner.', ' We know full well that the message is not transported by the medium of a hollow wire.', ' No, the mystery is even more inexplicable, more romantic, and we must have recourse to the wings of the air in order to explain this new miracle.', ' During the first day of the voyage, we felt that we were being followed, escorted, preceded even, by that distant voice, which, from time to time, whispered to one of us a few words from the receding world.', ' Two friends spoke to me.', ' Ten, twenty others sent gay or somber words of parting to other passengers.', ' Lupin is on your vessel, first cabin, blonde hair, wound right fore-arm, traveling alone under name of R...\" At that moment, a terrible flash of lightning rent the stormy skies.', ' The electric waves were interrupted.', ' The remainder of the dispatch never reached us.', ' Lupin was concealing himself, we knew only the initial.', ' If the news had been of some other character, I have no doubt that the secret would have been carefully guarded by the telegraphic operator as well as by the officers of the vessel.', ' But it was one of those events calculated to escape from the most rigorous discretion.', ' Lupin was hiding in our midst.', ' Lupin in our midst!', ' the irresponsible burglar whose exploits had been narrated in all the newspapers during the past few months!', ' the mysterious individual with whom Ganimard, our shrewdest detective, had been engaged in an implacable conflict amidst interesting and picturesque surroundings.', ' Lupin, gentleman-burglar, will return when the furniture is genuine.\"', ' Lupin, the man of a thousand disguises: in turn a chauffer, detective, bookmaker, Russian physician, Spanish bull-fighter, commercial traveler, robust youth, or decrepit old man.', ' Lupin was wandering about within the limited bounds of a transatlantic steamer; in that very small corner of the world, in that dining saloon, in that smoking room, in that music room!', ' Lupin was, perhaps, this gentleman... or that one... my neighbor at the table... the sharer of my stateroom... \"And this condition of affairs will last for five days!\"', ' exclaimed Miss Nelly Underdown, next morning.', ' \"It is unbearable!', ' I hope he will be arrested.\"', ' you are on intimate terms with the captain; surely you know something?\"', ' I should have been delighted had I possessed any information that would interest Miss Nelly.', ' She was one of those magnificent creatures who inevitably attract attention in every assembly.', ' Wealth and beauty form an irresistible combination, and Nelly possessed both.', ' Educated in Paris under the care of a French mother, she was now going to visit her father, the millionaire Underdown of Chicago.', ' She was accompanied by one of her friends, Lady Jerland.', ' At first, I had decided to open a flirtation with her; but, in the rapidly growing intimacy of the voyage, I was soon impressed by her charming manner and my feelings became too deep and reverential for a mere flirtation.', ' Moreover, she accepted my attentions with a certain degree of favor.', ' She condescended to laugh at my witticisms and display an interest in my stories.', ' Yet I felt that I had a rival in the person of a young man with quiet and refined tastes; and it struck me, at times, that she preferred his taciturn humor to my Parisian frivolity.', ' He formed one in the circle of admirers that surrounded Miss Nelly at the time she addressed to me the foregoing question.', ' We were all comfortably seated in our deck-chairs.', ' The storm of the preceding evening had cleared the sky.', ' The weather was now delightful.', ' Lupin?\"', ' \"Oh!', ' oh!', ' you are progressing very fast, monsieur.\"', ' \"Not at all, mademoiselle.', ' In the first place, let me ask, do you find the problem a complicated one?\"', ' \"Very complicated.\"', ' \"Have you forgotten the key we hold for the solution to the problem?\"', ' \"What key?\"', ' \"In the first place, Lupin calls himself Monsieur R-------.\"', ' \"Rather vague information,\" she replied.', ' \"Secondly, he is traveling alone.\"', ' \"Does that help you?\"', ' she asked.', ' \"Thirdly, he is blonde.\"', ' \"Well?\"', ' \"Then we have only to peruse the passenger-list, and proceed by process of elimination.\"', ' I had that list in my pocket.', ' I took it out and glanced through it.', ' Then I remarked: \"I find that there are only thirteen men on the passenger-list whose names begin with the letter R.\"', ' \"Only thirteen?\"', ' \"Yes, in the first cabin.', ' And of those thirteen, I find that nine of them are accompanied by women, children or servants.', ' That leaves only four who are traveling alone.', ' First, the Marquis de Raverdan----\" \"Secretary to the American Ambassador,\" interrupted Miss Nelly.', ' \"I know him.\"', ' \"Major Rawson,\" I continued.', ' \"He is my uncle,\" some one said.', ' \"Mon.', ' Rivolta.\"', ' \"Here!\"', ' exclaimed an Italian, whose face was concealed beneath a heavy black beard.', ' Miss Nelly burst into laughter, and exclaimed: \"That gentleman can scarcely be called a blonde.\"', ' \"Very well, then,\" I said, \"we are forced to the conclusion that the guilty party is the last one on the list.\"', ' \"What is his name?\"', ' \"Mon.', ' Rozaine.', ' Does anyone know him?\"', ' No one answered.', ' But Miss Nelly turned to the taciturn young man, whose attentions to her had annoyed me, and said: \"Well, Monsieur Rozaine, why do you not answer?\"', ' All eyes were now turned upon him.', ' He was a blonde.', ' I must confess that I myself felt a shock of surprise, and the profound silence that followed her question indicated that the others present also viewed the situation with a feeling of sudden alarm.', ' However, the idea was an absurd one, because the gentleman in question presented an air of the most perfect innocence.', ' \"Why do I not answer?\"', ' he said.', ' \"Because, considering my name, my position as a solitary traveler and the color of my hair, I have already reached the same conclusion, and now think that I should be arrested.\"', ' He presented a strange appearance as he uttered these words.', ' His thin lips were drawn closer than usual and his face was ghastly pale, whilst his eyes were streaked with blood.', ' Of course, he was joking, yet his appearance and attitude impressed us strangely.', ' \"But you have not the wound?\"', ' said Miss Nelly, naively.', ' \"That is true,\" he replied, \"I lack the wound.\"', ' Then he pulled up his sleeve, removing his cuff, and showed us his arm.', ' But that action did not deceive me.', ' He had shown us his left arm, and I was on the point of calling his attention to the fact, when another incident diverted our attention.', ' Lady Jerland, Miss Nelly\\'s friend, came running towards us in a state of great excitement, exclaiming: \"My jewels, my pearls!', ' Some one has stolen them all!\"', ' No, they were not all gone, as we soon found out.', ' The thief had taken only part of them; a very curious thing.', ' Of the diamond sunbursts, jeweled pendants, bracelets and necklaces, the thief had taken, not the largest but the finest and most valuable stones.', ' The mountings were lying upon the table.', ' I saw them there, despoiled of their jewels, like flowers from which the beautiful colored petals had been ruthlessly plucked.', ' And this theft must have been committed at the time Lady Jerland was taking her tea; in broad daylight, in a stateroom opening on a much frequented corridor; moreover, the thief had been obliged to force open the door of the stateroom, search for the jewel-case, which was hidden at the bottom of a hat-box, open it, select his booty and remove it from the mountings.', ' Lupin.', ' That day, at the dinner table, the seats to the right and left of Rozaine remained vacant; and, during the evening, it was rumored that the captain had placed him under arrest, which information produced a feeling of safety and relief.', ' We breathed once more.', ' That evening, we resumed our games and dances.', \" Miss Nelly, especially, displayed a spirit of thoughtless gayety which convinced me that if Rozaine's attentions had been agreeable to her in the beginning, she had already forgotten them.\", ' Her charm and good-humor completed my conquest.', ' At midnight, under a bright moon, I declared my devotion with an ardor that did not seem to displease her.', ' But, next day, to our general amazement, Rozaine was at liberty.', ' We learned that the evidence against him was not sufficient.', ' He had produced documents that were perfectly regular, which showed that he was the son of a wealthy merchant of Bordeaux.', ' Besides, his arms did not bear the slightest trace of a wound.', ' \"Documents!', ' Certificates of birth!\"', ' Lupin will furnish you as many as you desire.', ' And as to the wound, he never had it, or he has removed it.\"', ' Then it was proven that, at the time of the theft, Rozaine was promenading on the deck.', ' Lupin could commit a crime without being actually present.', ' And then, apart from all other circumstances, there remained one point which even the most skeptical could not answer: Who except Rozaine, was traveling alone, was a blonde, and bore a name beginning with R?', ' To whom did the telegram point, if it were not Rozaine?', ' And when Rozaine, a few minutes before breakfast, came boldly toward our group, Miss Nelly and Lady Jerland arose and walked away.', ' An hour later, a manuscript circular was passed from hand to hand amongst the sailors, the stewards, and the passengers of all classes.', ' It announced that Mon.', ' Lupin or other person in possession of the stolen jewels.', ' \"And if no one assists me, I will unmask the scoundrel myself,\" declared Rozaine.', ' Lupin; the contest promised to be interesting.', ' Nothing developed during the next two days.', ' We saw Rozaine wandering about, day and night, searching, questioning, investigating.', ' The captain, also, displayed commendable activity.', \" He caused the vessel to be searched from stem to stern; ransacked every stateroom under the plausible theory that the jewels might be concealed anywhere, except in the thief's own room.\", ' \"I suppose they will find out something soon,\" remarked Miss Nelly to me.', ' \"He may be a wizard, but he cannot make diamonds and pearls become invisible.\"', ' \"Certainly not,\" I replied, \"but he should examine the lining of our hats and vests and everything we carry with us.\"', ' Then, exhibiting my Kodak, a 9x12 with which I had been photographing her in various poses, I added: \"In an apparatus no larger than that, a person could hide all of Lady Jerland\\'s jewels.', ' He could pretend to take pictures and no one would suspect the game.\"', ' \"But I have heard it said that every thief leaves some clue behind him.\"', ' \"That may be generally true,\" I replied, \"but there is one exception:', ' Lupin.\"', ' \"Why?\"', ' \"Because he concentrates his thoughts not only on the theft, but on all the circumstances connected with it that could serve as a clue to his identity.\"', ' \"A few days ago, you were more confident.\"', ' \"Yes, but since then I have seen him at work.\"', ' \"And what do you think about it now?\"', ' she asked.', ' \"Well, in my opinion, we are wasting our time.\"', ' And, as a matter of fact, the investigation had produced no result.', \" But, in the meantime, the captain's watch had been stolen.\", ' He was furious.', ' He quickened his efforts and watched Rozaine more closely than before.', \" But, on the following day, the watch was found in the second officer's collar box.\", ' Lupin, burglar though he was, but dilettante as well.', ' He combined business with pleasure.', ' He reminded us of the author who almost died in a fit of laughter provoked by his own play.', ' Certainly, he was an artist in his particular line of work, and whenever I saw Rozaine, gloomy and reserved, and thought of the double role that he was playing, I accorded him a certain measure of admiration.', ' On the following evening, the officer on deck duty heard groans emanating from the darkest corner of the ship.', ' He approached and found a man lying there, his head enveloped in a thick gray scarf and his hands tied together with a heavy cord.', ' It was Rozaine.', ' He had been assaulted, thrown down and robbed.', ' Lupin accepts with pleasure the ten thousand francs offered by Mon.', ' Rozaine.\"', ' As a matter of fact, the stolen pocket-book contained twenty thousand francs.', ' Of course, some accused the unfortunate man of having simulated this attack on himself.', ' Lupin as it was reproduced in an old newspaper found on board.', ' Lupin; but was Rozaine, the son of a Bordeaux merchant.', ' Lupin was once more affirmed, and that in a most alarming manner.', ' Such was the state of terror amongst the passengers that none would remain alone in a stateroom or wander singly in unfrequented parts of the vessel.', ' We clung together as a matter of safety.', ' And yet the most intimate acquaintances were estranged by a mutual feeling of distrust.', ' Lupin was, now, anybody and everybody.', ' Our excited imaginations attributed to him miraculous and unlimited power.', ' We supposed him capable of assuming the most unexpected disguises; of being, by turns, the highly respectable Major Rawson or the noble Marquis de Raverdan, or even--for we no longer stopped with the accusing letter of R--or even such or such a person well known to all of us, and having wife, children and servants.', ' The first wireless dispatches from America brought no news; at least, the captain did not communicate any to us.', ' The silence was not reassuring.', ' Our last day on the steamer seemed interminable.', ' We lived in constant fear of some disaster.', ' This time, it would not be a simple theft or a comparatively harmless assault; it would be a crime, a murder.', ' Lupin would confine himself to those two trifling offenses.', ' Absolute master of the ship, the authorities powerless, he could do whatever he pleased; our property and lives were at his mercy.', ' Yet those were delightful hours for me, since they secured to me the confidence of Miss Nelly.', ' Deeply moved by those startling events and being of a highly nervous nature, she spontaneously sought at my side a protection and security that I was pleased to give her.', ' Lupin.', ' Had he not been the means of bringing me and Miss Nelly closer to each other?', ' Thanks to him, I could now indulge in delicious dreams of love and happiness--dreams that, I felt, were not unwelcome to Miss Nelly.', ' Her smiling eyes authorized me to make them; the softness of her voice bade me hope.', ' As we approached the American shore, the active search for the thief was apparently abandoned, and we were anxiously awaiting the supreme moment in which the mysterious enigma would be explained.', ' Lupin?', ' Lupin concealing himself?', ' And, at last, that supreme moment arrived.', ' If I live one hundred years, I shall not forget the slightest details of it.', ' \"How pale you are, Miss Nelly,\" I said to my companion, as she leaned upon my arm, almost fainting.', ' \"And you!\"', ' she replied, \"ah!', ' you are so changed.\"', ' \"Just think!', ' this is a most exciting moment, and I am delighted to spend it with you, Miss Nelly.', ' I hope that your memory will sometimes revert---\" But she was not listening.', ' She was nervous and excited.', ' The gangway was placed in position, but, before we could use it, the uniformed customs officers came on board.', ' Lupin escaped from the vessel during the voyage.\"', ' \"Perhaps he preferred death to dishonor, and plunged into the Atlantic rather than be arrested.\"', ' \"Oh, do not laugh,\" she said.', ' Suddenly I started, and, in answer to her question, I said: \"Do you see that little old man standing at the bottom of the gangway?\"', ' \"With an umbrella and an olive-green coat?\"', ' \"It is Ganimard.\"', ' \"Ganimard?\"', ' Lupin.', ' Ah!', ' I can understand now why we did not receive any news from this side of the Atlantic.', ' Ganimard was here!', ' and he always keeps his business secret.\"', ' Lupin?\"', ' \"Who can tell?', ' Lupin is concerned in the affair.\"', ' \"Oh!\"', ' she exclaimed, with that morbid curiosity peculiar to women, \"I should like to see him arrested.\"', ' \"You will have to be patient.', ' Lupin has already seen his enemy and will not be in a hurry to leave the steamer.\"', ' The passengers were now leaving the steamer.', ' Leaning on his umbrella, with an air of careless indifference, Ganimard appeared to be paying no attention to the crowd that was hurrying down the gangway.', ' The Marquis de Raverdan, Major Rawson, the Italian Rivolta, and many others had already left the vessel before Rozaine appeared.', ' Poor Rozaine!', ' \"Perhaps it is he, after all,\" said Miss Nelly to me.', ' \"What do you think?\"', ' \"I think it would be very interesting to have Ganimard and Rozaine in the same picture.', ' You take the camera.', ' I am loaded down.\"', ' I gave her the camera, but too late for her to use it.', ' Rozaine was already passing the detective.', ' An American officer, standing behind Ganimard, leaned forward and whispered in his ear.', ' The French detective shrugged his shoulders and Rozaine passed on.', ' Lupin?', ' \"Yes,\" said Miss Nelly, aloud, \"who can it be?\"', ' Not more than twenty people now remained on board.', ' Lupin was not amongst them.', ' \"We cannot wait much longer,\" I said to her.', ' She started toward the gangway.', ' I followed.', ' But we had not taken ten steps when Ganimard barred our passage.', ' \"Well, what is it?\"', ' I exclaimed.', ' \"One moment, monsieur.', ' What\\'s your hurry?\"', ' \"I am escorting mademoiselle.\"', ' \"One moment,\" he repeated, in a tone of authority.', ' Lupin, is it not?\"', ' died in Macedonia three years ago.\"', ' were dead, I should not be here.', ' But you are mistaken.', ' Here are my papers.\"', ' \"They are his; and I can tell you exactly how they came into your possession.\"', ' \"You are a fool!\"', ' I exclaimed.', ' Lupin sailed under the name of R---\" \"Yes, another of your tricks; a false scent that deceived them at Havre.', ' You play a good game, my boy, but this time luck is against you.\"', ' I hesitated a moment.', ' Then he hit me a sharp blow on the right arm, which caused me to utter a cry of pain.', ' He had struck the wound, yet unhealed, referred to in the telegram.', ' I was obliged to surrender.', ' There was no alternative.', ' I turned to Miss Nelly, who had heard everything.', ' Our eyes met; then she glanced at the Kodak I had placed in her hands, and made a gesture that conveyed to me the impression that she understood everything.', \" Yes, there, between the narrow folds of black leather, in the hollow centre of the small object that I had taken the precaution to place in her hands before Ganimard arrested me, it was there I had deposited Rozaine's twenty thousand francs and Lady Jerland's pearls and diamonds.\", ' Oh!', ' I pledge my oath that, at that solemn moment, when I was in the grasp of Ganimard and his two assistants, I was perfectly indifferent to everything, to my arrest, the hostility of the people, everything except this one question: what will Miss Nelly do with the things I had confided to her?', ' In the absence of that material and conclusive proof, I had nothing to fear; but would Miss Nelly decide to furnish that proof?', ' Would she betray me?', ' Would she act the part of an enemy who cannot forgive, or that of a woman whose scorn is softened by feelings of indulgence and involuntary sympathy?', ' She passed in front of me.', ' I said nothing, but bowed very low.', ' Mingled with the other passengers, she advanced to the gangway with my Kodak in her hand.', ' It occurred to me that she would not dare to expose me publicly, but she might do so when she reached a more private place.', ' However, when she had passed only a few feet down the gangway, with a movement of simulated awkwardness, she let the camera fall into the water between the vessel and the pier.', ' Then she walked down the gangway, and was quickly lost to sight in the crowd.', ' She had passed out of my life forever.', ' For a moment, I stood motionless.', ' Then, to Ganimard\\'s great astonishment, I muttered: \"What a pity that I am not an honest man!\"', ' Lupin himself.', ' The various incidents, which I shall record in writing at a later day, have established between us certain ties... shall I say of friendship?', ' Lupin honors me with his friendship, and that it is through friendship that he occasionally calls on me, and brings, into the silence of my library, his youthful exuberance of spirits, the contagion of his enthusiasm, and the mirth of a man for whom destiny has naught but favors and smiles.', ' His portrait?', ' How can I describe him?', ' I have seen him twenty times and each time he was a different person; even he himself said to me on one occasion: \"I no longer know who I am.', ' I cannot recognize myself in the mirror.\"', ' Certainly, he was a great actor, and possessed a marvelous faculty for disguising himself.', ' Without the slightest effort, he could adopt the voice, gestures and mannerisms of another person.', ' \"Why,\" said he, \"why should I retain a definite form and feature?', ' Why not avoid the danger of a personality that is ever the same?', ' My actions will serve to identify me.\"', ' \"So much the better if no one can ever say with absolute certainty:', ' Lupin!', ' Lupin did that!\"', ' II.']\n"
          ]
        }
      ]
    },
    {
      "cell_type": "code",
      "metadata": {
        "colab": {
          "base_uri": "https://localhost:8080/",
          "height": 170
        },
        "id": "LNpHA2W_71ag",
        "outputId": "d972542d-1448-4ad3-b33a-8a50333f046c"
      },
      "source": [
        "# search Name\n",
        "\n",
        "#test_sentence=sentence_nltk[]\n",
        "class entities:\n",
        "    def __init__(self, name, count,position,label):\n",
        "        self.name = name\n",
        "        self.count = count\n",
        "        self.position = [position]\n",
        "        self.label = label\n",
        "    def addonce(self,position):\n",
        "        self.count = self.count + 1\n",
        "        self.position.append(position)\n",
        "\n",
        "\n",
        "\n",
        "pattern=\"(?<!^)[A-Z][a-z]+\"\n",
        "# pattern = \"[A-Z]\"+\"([a-z]+|\\.)\"\n",
        "# pattern = \"[A-Z]([a-z]+|\\.)(?:\\s+[A-Z]([a-z]+|\\.))*(?:\\s+[a-z][a-z\\-]+){0,2}\\s+[A-Z]([a-z]+|\\.)\"\n",
        "chapter_number=0\n",
        "entities_list=[]\n",
        "entities_count=[]\n",
        "entities_objects=[]\n",
        "sentence_total = []\n",
        "for chapter in chapter_text:\n",
        "    linenumber = 0\n",
        "    chapter_number = chapter_number+1\n",
        "    print(chapter_number)\n",
        "    sentence = sentence_divider(chapter)\n",
        "    sentence_total.append(sentence)\n",
        "    for sent in sentence:\n",
        "        linenumber = linenumber +1\n",
        "        match=re.findall(pattern, sent)\n",
        "        if match:\n",
        "            #print(sent)\n",
        "            #print(match)\n",
        "            for temp_ent in match:\n",
        "                if (temp_ent in entities_list):\n",
        "                    ent_index=entities_list.index(temp_ent)\n",
        "                    entities_count[ent_index]=entities_count[ent_index]+1\n",
        "                    position = [chapter_number,linenumber]\n",
        "                    entities_objects[ent_index].addonce(position)\n",
        "                else:\n",
        "                    entities_list.append(temp_ent)\n",
        "                    entities_count.append(1)\n",
        "                    position = [chapter_number,linenumber]\n",
        "                    entities_objects.append(entities(temp_ent,1,position,\"\"))\n",
        "\n",
        "# print(entities_list)                                        \n",
        "# print(entities_count)                                        \n",
        "entities_objects_sorted=sorted(entities_objects, key=lambda entities: entities.count, reverse=True)\n"
      ],
      "execution_count": 42,
      "outputs": [
        {
          "output_type": "display_data",
          "data": {
            "application/javascript": [
              "google.colab.output.setIframeHeight(0, true, {maxHeight: 5000})"
            ],
            "text/plain": [
              "<IPython.core.display.Javascript object>"
            ]
          },
          "metadata": {}
        },
        {
          "output_type": "stream",
          "name": "stdout",
          "text": [
            "1\n",
            "2\n",
            "3\n",
            "4\n",
            "5\n",
            "6\n",
            "7\n",
            "8\n",
            "9\n"
          ]
        }
      ]
    },
    {
      "cell_type": "code",
      "metadata": {
        "colab": {
          "base_uri": "https://localhost:8080/",
          "height": 3434
        },
        "id": "4qmrRYISS57G",
        "outputId": "67a39676-c6c3-4371-b87e-8fe789ffc82f"
      },
      "source": [
        "#top 25 characters\n",
        "topnum = 200\n",
        "top_entities_objects=[]\n",
        "top_count=0\n",
        "for i in range(0,len(entities_objects_sorted)):\n",
        "    if(entities_objects_sorted[i].label != \"CARDINAL\")&(entities_objects_sorted[i].label != \"ORDINAL\"):\n",
        "        top_entities_objects.append(entities_objects_sorted[i])\n",
        "        top_count = top_count+1\n",
        "    if top_count == topnum:\n",
        "        break\n",
        "    \n",
        "\n",
        "#top_entities_objects = entities_objects_sorted[0:25]\n",
        "print(\"Name, Count, First appear Chapter-Sentence, Label\")\n",
        "for i in range(0,topnum):\n",
        "    print(top_entities_objects[i].name,top_entities_objects[i].count,\n",
        "          top_entities_objects[i].position[0],top_entities_objects[i].label)"
      ],
      "execution_count": 43,
      "outputs": [
        {
          "output_type": "display_data",
          "data": {
            "application/javascript": [
              "google.colab.output.setIframeHeight(0, true, {maxHeight: 5000})"
            ],
            "text/plain": [
              "<IPython.core.display.Javascript object>"
            ]
          },
          "metadata": {}
        },
        {
          "output_type": "stream",
          "name": "stdout",
          "text": [
            "Name, Count, First appear Chapter-Sentence, Label\n",
            "The 332 [1, 3] \n",
            "He 300 [1, 44] \n",
            "Lupin 290 [1, 17] \n",
            "But 171 [1, 8] \n",
            "It 156 [1, 1] \n",
            "And 125 [1, 30] \n",
            "What 103 [1, 56] \n",
            "Mon 97 [1, 76] \n",
            "You 97 [1, 226] \n",
            "Yes 88 [1, 69] \n",
            "Ganimard 87 [1, 26] \n",
            "Then 86 [1, 64] \n",
            "No 74 [1, 13] \n",
            "That 68 [1, 11] \n",
            "She 68 [1, 36] \n",
            "In 65 [1, 53] \n",
            "Project 60 [9, 623] \n",
            "Gutenberg 60 [9, 623] \n",
            "At 59 [1, 17] \n",
            "They 57 [1, 260] \n",
            "Ah 53 [1, 217] \n",
            "Daspry 53 [6, 15] \n",
            "Varin 53 [6, 220] \n",
            "Andermatt 52 [6, 199] \n",
            "Devanne 51 [9, 6] \n",
            "There 50 [1, 269] \n",
            "We 46 [1, 5] \n",
            "If 45 [1, 21] \n",
            "Oh 41 [1, 49] \n",
            "Well 41 [1, 63] \n",
            "How 36 [1, 200] \n",
            "Why 35 [1, 92] \n",
            "Nelly 33 [1, 31] \n",
            "My 32 [1, 104] \n",
            "To 32 [1, 130] \n",
            "Louis 32 [2, 46] \n",
            "Madame 32 [4, 198] \n",
            "Monsieur 31 [1, 57] \n",
            "His 30 [1, 96] \n",
            "Holmes 30 [2, 342] \n",
            "Miss 29 [1, 31] \n",
            "Now 29 [2, 125] \n",
            "Imbert 27 [7, 22] \n",
            "Velmont 27 [9, 5] \n",
            "Lacombe 26 [6, 265] \n",
            "One 24 [1, 251] \n",
            "For 24 [1, 285] \n",
            "After 24 [2, 154] \n",
            "Of 23 [1, 97] \n",
            "On 23 [1, 165] \n",
            "Baron 23 [2, 8] \n",
            "When 23 [2, 90] \n",
            "Not 22 [1, 52] \n",
            "Rozaine 22 [1, 84] \n",
            "Who 22 [1, 129] \n",
            "As 22 [1, 171] \n",
            "Sherlock 22 [2, 342] \n",
            "This 21 [1, 186] \n",
            "Henriette 21 [5, 65] \n",
            "All 20 [1, 88] \n",
            "Do 20 [1, 212] \n",
            "Foundation 19 [9, 638] \n",
            "Your 16 [2, 36] \n",
            "Did 16 [2, 274] \n",
            "Floriani 16 [5, 164] \n",
            "Here 15 [1, 78] \n",
            "Certainly 15 [1, 143] \n",
            "Cahorn 15 [2, 8] \n",
            "Rouen 15 [2, 59] \n",
            "Are 15 [2, 142] \n",
            "Was 15 [2, 397] \n",
            "Is 15 [5, 90] \n",
            "Paris 14 [1, 38] \n",
            "So 14 [1, 299] \n",
            "Come 14 [2, 134] \n",
            "Saint 14 [3, 117] \n",
            "Very 13 [1, 54] \n",
            "An 13 [1, 132] \n",
            "Suddenly 13 [1, 212] \n",
            "From 13 [2, 173] \n",
            "Baudru 13 [3, 320] \n",
            "Yet 12 [1, 43] \n",
            "Because 12 [1, 94] \n",
            "Some 12 [1, 105] \n",
            "With 12 [1, 213] \n",
            "By 12 [2, 236] \n",
            "Where 12 [2, 307] \n",
            "Besides 11 [1, 122] \n",
            "Nothing 11 [1, 137] \n",
            "France 11 [2, 287] \n",
            "Dieu 11 [2, 348] \n",
            "Salvator 11 [6, 262] \n",
            "United 11 [9, 622] \n",
            "States 11 [9, 622] \n",
            "Literary 11 [9, 638] \n",
            "Archive 11 [9, 638] \n",
            "Have 10 [1, 6] \n",
            "Two 10 [1, 15] \n",
            "Dudouis 10 [2, 461] \n",
            "Victor 10 [3, 370] \n",
            "Dreux 10 [5, 1] \n",
            "June 10 [6, 10] \n",
            "During 9 [1, 14] \n",
            "However 9 [1, 91] \n",
            "Her 9 [1, 117] \n",
            "Perhaps 9 [1, 210] \n",
            "Really 9 [2, 168] \n",
            "Let 9 [4, 192] \n",
            "Queen 9 [5, 1] \n",
            "Thibermesnil 9 [9, 14] \n",
            "America 8 [1, 182] \n",
            "Had 8 [1, 192] \n",
            "Without 8 [1, 295] \n",
            "Bah 8 [2, 247] \n",
            "These 8 [3, 112] \n",
            "Countess 8 [5, 1] \n",
            "Necklace 8 [5, 1] \n",
            "Brawford 8 [7, 66] \n",
            "Imberts 8 [7, 98] \n",
            "Lady 7 [1, 39] \n",
            "Moreover 7 [1, 41] \n",
            "Malaquis 7 [2, 1] \n",
            "Exactly 7 [2, 85] \n",
            "Can 7 [2, 232] \n",
            "Quite 7 [2, 355] \n",
            "Dieuzy 7 [3, 8] \n",
            "Berlat 7 [4, 186] \n",
            "Renaud 7 [4, 198] \n",
            "Massol 7 [4, 275] \n",
            "Dieppe 7 [4, 297] \n",
            "Soubise 7 [5, 1] \n",
            "Georges 7 [6, 199] \n",
            "Englishman 7 [9, 378] \n",
            "Section 7 [9, 629] \n",
            "Jerland 6 [1, 39] \n",
            "Does 6 [1, 60] \n",
            "Only 6 [1, 68] \n",
            "First 6 [1, 72] \n",
            "Our 6 [1, 180] \n",
            "Jean 6 [2, 13] \n",
            "Everything 6 [2, 225] \n",
            "Thus 6 [2, 431] \n",
            "Consequently 6 [3, 14] \n",
            "English 6 [3, 33] \n",
            "Immediately 6 [3, 43] \n",
            "Twenty 6 [4, 298] \n",
            "Count 6 [5, 4] \n",
            "Andillot 6 [8, 123] \n",
            "Horace 6 [9, 5] \n",
            "National 6 [9, 48] \n",
            "Library 6 [9, 48] \n",
            "License 6 [9, 642] \n",
            "Ten 5 [1, 16] \n",
            "Would 5 [1, 276] \n",
            "Watteau 5 [2, 13] \n",
            "Will 5 [2, 136] \n",
            "Good 5 [2, 190] \n",
            "Impossible 5 [2, 415] \n",
            "Tell 5 [3, 166] \n",
            "Listen 5 [3, 176] \n",
            "Under 5 [3, 240] \n",
            "Delivet 5 [4, 275] \n",
            "Pierre 5 [4, 369] \n",
            "Onfrey 5 [4, 369] \n",
            "Valorbe 5 [5, 42] \n",
            "Nonsense 5 [5, 194] \n",
            "Maillot 5 [6, 16] \n",
            "Alfred 5 [6, 225] \n",
            "Has 5 [6, 405] \n",
            "Or 5 [6, 480] \n",
            "Ludovic 5 [7, 22] \n",
            "Gervaise 5 [7, 80] \n",
            "Zalti 5 [8, 123] \n",
            "Grimaudan 5 [8, 213] \n",
            "Books 5 [9, 624] \n",
            "Information 5 [9, 659] \n",
            "Such 4 [1, 7] \n",
            "French 4 [1, 38] \n",
            "American 4 [1, 72] \n",
            "Major 4 [1, 74] \n",
            "Kodak 4 [1, 144] \n",
            "Poor 4 [1, 231] \n",
            "Havre 4 [1, 263] \n",
            "Seine 4 [2, 1] \n",
            "Rubens 4 [2, 13] \n",
            "September 4 [2, 19] \n",
            "Caudebec 4 [2, 70] \n",
            "Sometimes 4 [2, 253] \n",
            "Look 4 [2, 320] \n",
            "Pardon 4 [2, 531] \n",
            "Bouvier 4 [2, 539] \n",
            "Inspector 4 [3, 8] \n",
            "Finally 4 [3, 37] \n",
            "Three 4 [3, 75] \n",
            "Another 4 [3, 126] \n",
            "Those 4 [3, 386] \n",
            "Absolutely 4 [3, 468] \n",
            "Never 4 [4, 166] \n",
            "Guillaume 4 [4, 186] \n",
            "God 4 [5, 86] \n"
          ]
        }
      ]
    },
    {
      "cell_type": "code",
      "metadata": {
        "colab": {
          "base_uri": "https://localhost:8080/",
          "height": 51
        },
        "id": "X9_VF_7OCKbK",
        "outputId": "c4188dfd-af59-48b5-c804-7863d409a2dc"
      },
      "source": [
        "# define character\n",
        "protagonist=\"Lupin\"\n",
        "if book_index==1:\n",
        "  character_list=['Lupin','Ganimard', 'Daspry', 'Varin','Devanne',\"Andermatt\",\n",
        "                    'Velmont','Rozaine','Henriette','Floriani','Sherlock Holmes',\n",
        "                    'Louis Lacombe','Baudru','Holmes'\n",
        "                  ]\n",
        "\n",
        "if book_index==2:\n",
        "    character_list=['Lupin','Duke', 'Guerchard', 'Germaine','Sonia',\"Bonavent\",\n",
        "                    'Gournay-Martin','Firmin','Dieusy','Jean','Mademoiselle',\n",
        "                    'Kritchnoff','Irma','Jacques','Jeanne','Bernard','Marie',\n",
        "                    'Charolais','Gournay-Martin',\n",
        "                   ]\n",
        "\n",
        "if book_index==3:\n",
        "    character_list=[\"Lupin\",\"Ganimard\",\"Wilson\",\"Gerbois\",\"Herlock\",\"Sholmes\",\n",
        "                    \"Englishman\",\"Jewish\",\"Monsieur\",\"Clotilde\",\"Bresson\",\n",
        "                    \"Charles\",\"Mademoiselle\",\"Suzanne\",\"Baron\",\"Antoinette\",\n",
        "                    \"Bleichen\",\"Madame\",\"Destange\"\n",
        "                   ]\n",
        "\n",
        "#book4 characters\n",
        "if book_index==4:\n",
        "    character_list=[\"Beautrelet\",\"Lupin\",\"Ganimard\",\"Isidore\",\"ValmÃ©ras\",\n",
        "                    \"Filleul\",\"Mlle\",\"LycÃ©e\",\"Norman\",\"BrÃ©doux\",\"Marie\",\n",
        "                    \"Dieppe\",\"Raymonde\",\"Jean\",\"Louis\",\"Saint-VÃ©ran\",\"Don\",\n",
        "                    \"Larbeyrie\",\n",
        "                    \"Suzanne\",\"Maurice\",\"FrÃ©fossÃ©\",\"Albert\",\"Gaffer\",\n",
        "                    \"Holmlock\"\n",
        "                   ]\n",
        "\n",
        "#book5 characters\n",
        "if book_index==5:\n",
        "    character_list=[\"Lupin\",\"Ganimard\",\"Gutenberg\",\"Dugrival\",\"Mme\",\n",
        "                   \"Yvonne\",\"Gabriel\",\"Jeanne\",\"Darcieux\",\"Dudouis\",\n",
        "                    \"Goussot\",\"Sparmiento\",\"Angélique\",\"Mlle\",\"Jove\",\n",
        "                    \"Maître\",\"Valandier\",\"Louise\",\"Ernemont\",\"Jeanniot\",\n",
        "                    \"Lavernoux\",\"Charles\",\"Trainard\",\"Jenny\",\"Saphir\",\n",
        "                    \"Emboise\",\"Velmont\",\"Boulevard\"\n",
        "                   ]\n",
        "\n",
        "character_object_list=[]\n",
        "\n",
        "for character in character_list:\n",
        "    mark = True\n",
        "    for ent in entities_objects_sorted:\n",
        "        if character == ent.name:\n",
        "            character_object_list.append(ent)\n",
        "            #print(character+\" found\")\n",
        "            mark = False\n",
        "            break\n",
        "    if mark:\n",
        "        print(character+\" not found\")\n"
      ],
      "execution_count": 45,
      "outputs": [
        {
          "output_type": "display_data",
          "data": {
            "application/javascript": [
              "google.colab.output.setIframeHeight(0, true, {maxHeight: 5000})"
            ],
            "text/plain": [
              "<IPython.core.display.Javascript object>"
            ]
          },
          "metadata": {}
        },
        {
          "output_type": "stream",
          "name": "stdout",
          "text": [
            "Sherlock Holmes not found\n",
            "Louis Lacombe not found\n"
          ]
        }
      ]
    },
    {
      "cell_type": "code",
      "metadata": {
        "colab": {
          "base_uri": "https://localhost:8080/",
          "height": 204
        },
        "id": "zvmTdAMHClLS",
        "outputId": "39101b06-cfaf-48ad-fa2d-934c3f525ebc"
      },
      "source": [
        "for character in character_object_list:\n",
        "    if (protagonist in character.name):\n",
        "        if 'protagonist_ent' in locals():\n",
        "            protagonist_ent.position = protagonist_ent.position + character.position\n",
        "        else:\n",
        "            protagonist_ent = entities(protagonist,character.count,character.position,\"\")\n",
        "    else:\n",
        "        print(character.name)\n",
        "        #print(character.position)\n",
        "        for position in character.position:\n",
        "            sent = sentence_total[position[0]-1][position[1]-1]\n",
        "            #print(position)\n",
        "            #print(sent)"
      ],
      "execution_count": 46,
      "outputs": [
        {
          "output_type": "display_data",
          "data": {
            "application/javascript": [
              "google.colab.output.setIframeHeight(0, true, {maxHeight: 5000})"
            ],
            "text/plain": [
              "<IPython.core.display.Javascript object>"
            ]
          },
          "metadata": {}
        },
        {
          "output_type": "stream",
          "name": "stdout",
          "text": [
            "Ganimard\n",
            "Daspry\n",
            "Varin\n",
            "Devanne\n",
            "Andermatt\n",
            "Velmont\n",
            "Rozaine\n",
            "Henriette\n",
            "Floriani\n",
            "Baudru\n",
            "Holmes\n"
          ]
        }
      ]
    },
    {
      "cell_type": "code",
      "metadata": {
        "colab": {
          "base_uri": "https://localhost:8080/",
          "height": 85
        },
        "id": "iIyxZn2SExKz",
        "outputId": "5b3577a0-1016-4a1a-9081-0b9b2b32eb5d"
      },
      "source": [
        "# define character\n",
        "detective_ent=[]\n",
        "perpetrator_ent=[]\n",
        "suspect_ent = []\n",
        "\n",
        "if book_index==1:\n",
        "    detective=[\"Ganimard\",\"Folenfant\",\"Dieuzy\"]\n",
        "    perpetrator=[\"Lupin\"]\n",
        "    suspect = [\"Varin\",\"Henriette\"]\n",
        "    crime_list=[[1,127],[3, 391]]\n",
        "    crime_sent=[\"Then it was proven that, at the time of the theft, Rozaine was promenading on the deck\" ,\n",
        "                \"Lupin made only a slight movement, and, as suddenly as he had made the attack, Ganimard released his hold\",\n",
        "               ]\n",
        "    crime_type=[\"Theft\",\"attack\"]\n",
        "\n",
        "if book_index==2:\n",
        "    detective=[\"Guerchard\",\"Dieusy\",\"Bonavent\"]\n",
        "    perpetrator=[\"Lupin\",\"Duke\"]\n",
        "    suspect = [\"Mademoiselle\",\"Duke\"]\n",
        "    crime_list=[[8,181],[8, 110],[9, 35]]\n",
        "    crime_sent=[\"Lupin said, between his teeth: \\\"Failing my instructions to the contrary, two of my friends have orders to enter your father's room to-night, at three o'clock in the morning, to seize him and carry him off to join Ganimard and Holmlock Shears.\\\"\",\n",
        "                \"In the course of his fight with Lupin, Beautrelet had met with many surprises and he was still prepared, at the moment of the final catastrophe, to experience any number of further emotions; but the shock which he received this time was utterly unexpected.\",\n",
        "               \"How could any one suspect ValmÃ©ras of being Lupin, when ValmÃ©ras was Beautrelet's friend and after ValmÃ©ras had snatched from Lupin's clutches the girl whom Lupin loved?\",\n",
        "               ]\n",
        "    crime_type=[\"Burglary\",\"Plundered\",\"Theft\"]\n",
        "\n",
        "\n",
        "if book_index==3:\n",
        "    detective = [\"Ganimard\",\"Herlock\",\"Sholmes\"]\n",
        "    perpetrator=[\"Lupin\"]\n",
        "    suspect  = ['Antoinette', 'Herr','Bleichen',\n",
        "                'Madame','de Réal', 'Réal', 'Destange', 'Clotilde']\n",
        "    \n",
        "    suspects = ['drayman, wearing a badge', 'a blonde woman—extremely blonde',\n",
        "                'A young man named Ernest', 'Antoinette', 'Herr Bleichen',\n",
        "                'Madame de Réal', 'Madame Réal', 'Destange', 'Clotilde']\n",
        "    crimes = [r'desk is gone', r'abduction of', r'lay the', r'rings was']\n",
        "    crime_type = [\"Burglary\",\"Abduction\",\"Murder\",\"Framed\"]\n",
        "    crime_list=[[1,57],[1,296],[2,40],[2,337]]\n",
        "    \n",
        "\n",
        "if book_index==4:\n",
        "    detective=[\"Ganimard\",\"Filleul\",\"Beautrelet\"]\n",
        "    perpetrator=[\"Lupin\",\"ValmÃ©ras\"]\n",
        "    suspect = [\"BrÃ©doux\"]\n",
        "    crime_list=[[4,312],[10, 7],[10, 52]]\n",
        "    crime_sent=[\"Lupin said, between his teeth: \\\"Failing my instructions to the contrary, two of my friends have orders to enter your father's room to-night, at three o'clock in the morning, to seize him and carry him off to join Ganimard and Holmlock Shears.\\\"\",\n",
        "                \"In the course of his fight with Lupin, Beautrelet had met with many surprises and he was still prepared, at the moment of the final catastrophe, to experience any number of further emotions; but the shock which he received this time was utterly unexpected.\",\n",
        "               \"How could any one suspect ValmÃ©ras of being Lupin, when ValmÃ©ras was Beautrelet's friend and after ValmÃ©ras had snatched from Lupin's clutches the girl whom Lupin loved?\",\n",
        "               ]\n",
        "    crime_type=[\"Seize\",\"Fight\",\"Disguise & deceive\"]\n",
        "    \n",
        "if book_index==5:\n",
        "    detective=[\"Ganimard\",\"Dudouis\"]\n",
        "    perpetrator=[\"Lupin\"]\n",
        "    suspect = [\"Sparmiento\"]\n",
        "    crime_list=[[4, 112]]\n",
        "    crime_sent=[\"By the light of a lantern carried by one of the neighbours, he found Gabriel stretched at full-length in his bedroom, with his wrists and ankles bound and a gag forced into his mouth, while, in the next room, Mme. Dugrival lay with her life's blood ebbing away through a great gash in her breast.\",\n",
        "               ]\n",
        "    crime_type=[\"Attack\"]\n",
        "\n",
        "\n",
        "\n",
        "for character in character_object_list:\n",
        "    for d in detective:\n",
        "        if (d==character.name):\n",
        "            print(d)\n",
        "            detective_ent.append(character)\n",
        "    for p in perpetrator:\n",
        "        if (p==character.name):\n",
        "            print(p)\n",
        "            perpetrator_ent.append(character)            \n",
        "    for s in suspect:\n",
        "        if (s==character.name):\n",
        "            print(s)\n",
        "            suspect_ent.append(character)\n",
        "\n",
        "if book_index==3:\n",
        "    print(detective)\n",
        "    d1=entities(detective_ent[1].name,detective_ent[1].count,detective_ent[1].position,detective_ent[1].label)\n",
        "    d1.merge(detective_ent[2])\n",
        "    detective_ent=[detective_ent[0],d1]\n",
        "    print(detective_ent[1])\n",
        "    #detective_ent[1].merge(detective_ent[2])\n",
        "    print(detective_ent[1].position)"
      ],
      "execution_count": 54,
      "outputs": [
        {
          "output_type": "display_data",
          "data": {
            "application/javascript": [
              "google.colab.output.setIframeHeight(0, true, {maxHeight: 5000})"
            ],
            "text/plain": [
              "<IPython.core.display.Javascript object>"
            ]
          },
          "metadata": {}
        },
        {
          "output_type": "stream",
          "name": "stdout",
          "text": [
            "Lupin\n",
            "Ganimard\n",
            "Varin\n",
            "Henriette\n"
          ]
        }
      ]
    },
    {
      "cell_type": "code",
      "metadata": {
        "colab": {
          "base_uri": "https://localhost:8080/",
          "height": 34
        },
        "id": "KUngXC_1HLCI",
        "outputId": "dc0d928e-c8cf-464f-d0dc-af9e1db78759"
      },
      "source": [
        "print(Q1_list)\n",
        "\n",
        "#print(Q2_list)\n",
        "#print(Q3_list)\n",
        "# print(Q4_list)\n",
        "# print(Q5_list)\n",
        "#print(Q6_list)"
      ],
      "execution_count": 49,
      "outputs": [
        {
          "output_type": "display_data",
          "data": {
            "application/javascript": [
              "google.colab.output.setIframeHeight(0, true, {maxHeight: 5000})"
            ],
            "text/plain": [
              "<IPython.core.display.Javascript object>"
            ]
          },
          "metadata": {}
        },
        {
          "output_type": "stream",
          "name": "stdout",
          "text": [
            "[None, None, None, None, None]\n"
          ]
        }
      ]
    },
    {
      "cell_type": "code",
      "metadata": {
        "colab": {
          "base_uri": "https://localhost:8080/",
          "height": 68
        },
        "id": "sMD-L45sHYko",
        "outputId": "df78c4aa-6ace-42d5-d98a-171b423322f2"
      },
      "source": [
        "# Q1:When does the investigator occur for the first time -  chapter #, the sentence(s) # in a chapter,\n",
        "#speical adjustment\n",
        "\n",
        "Q1_answer=[]\n",
        "\n",
        "\n",
        "for d in detective_ent:\n",
        "    print(d.name)\n",
        "    print(d.position[0])\n",
        "    Q1_answer.append([d.name,d.position[0]])\n",
        "print(Q1_answer)\n",
        "Q1_list[book_index-1]=Q1_answer"
      ],
      "execution_count": 50,
      "outputs": [
        {
          "output_type": "display_data",
          "data": {
            "application/javascript": [
              "google.colab.output.setIframeHeight(0, true, {maxHeight: 5000})"
            ],
            "text/plain": [
              "<IPython.core.display.Javascript object>"
            ]
          },
          "metadata": {}
        },
        {
          "output_type": "stream",
          "name": "stdout",
          "text": [
            "Ganimard\n",
            "[1, 26]\n",
            "[['Ganimard', [1, 26]]]\n"
          ]
        }
      ]
    },
    {
      "cell_type": "code",
      "metadata": {
        "colab": {
          "base_uri": "https://localhost:8080/",
          "height": 4964
        },
        "id": "DwJBFKswHzEg",
        "outputId": "333683d1-2b22-4854-89a3-1d16d6d6d1cc"
      },
      "source": [
        "word_dict={}\n",
        "\n",
        "pattern = \"(?<!^)[\\w©-]+(?=\\W)\"\n",
        "for p in perpetrator_ent:\n",
        "    for position in p.position:\n",
        "        sent=sentence_total[position[0]-1][position[1]-1]\n",
        "        #print(position)\n",
        "        #print(sent)\n",
        "        result = re.findall(pattern, sent)\n",
        "        #print(result)\n",
        "        if (p.name in result):\n",
        "            index = result.index(p.name)\n",
        "        else:\n",
        "            for r in result:\n",
        "                match = re.search(p.name,r)\n",
        "                if match:\n",
        "                    print(r)\n",
        "                    index = result.index(r)\n",
        "            \n",
        "        preceding_index = min(3,index)\n",
        "        preceding3 = result[index-preceding_index-1:index-1]\n",
        "        following_index = min(3,len(result)-1-index)\n",
        "        following3 = result[index+1:index+following_index+1]\n",
        "        print(p.name,index,preceding3,following3)\n",
        "        for word in preceding3:\n",
        "            if (word in word_dict):\n",
        "                word_dict[word]=word_dict[word]+1\n",
        "            else:\n",
        "                word_dict[word]=1\n",
        "        for word in following3:\n",
        "            if (word in word_dict):\n",
        "                word_dict[word]=word_dict[word]+1\n",
        "            else:\n",
        "                word_dict[word]=1"
      ],
      "execution_count": 52,
      "outputs": [
        {
          "output_type": "display_data",
          "data": {
            "application/javascript": [
              "google.colab.output.setIframeHeight(0, true, {maxHeight: 5000})"
            ],
            "text/plain": [
              "<IPython.core.display.Javascript object>"
            ]
          },
          "metadata": {}
        },
        {
          "output_type": "stream",
          "name": "stdout",
          "text": [
            "Lupin 0 [] ['is', 'on', 'your']\n",
            "Lupin 0 [] ['was', 'concealing', 'himself']\n",
            "Lupin 0 [] ['was', 'hiding', 'in']\n",
            "Lupin 0 [] ['in', 'our', 'midst']\n",
            "Lupin 0 [] ['gentleman-burglar', 'will', 'return']\n",
            "Lupin 0 [] ['the', 'man', 'of']\n",
            "Lupin 0 [] ['was', 'wandering', 'about']\n",
            "Lupin 0 [] ['was', 'perhaps', 'this']\n",
            "Lupin 0 [] []\n",
            "Lupin 4 ['In', 'the', 'first'] ['calls', 'himself', 'Monsieur']\n",
            "Lupin 0 [] []\n",
            "Lupin 0 [] ['will', 'furnish', 'you']\n",
            "Lupin 0 [] ['could', 'commit', 'a']\n",
            "Lupin 0 [] ['or', 'other', 'person']\n",
            "Lupin 0 [] ['the', 'contest', 'promised']\n",
            "Lupin 0 [] []\n",
            "Lupin 0 [] ['burglar', 'though', 'he']\n",
            "Lupin 0 [] ['accepts', 'with', 'pleasure']\n",
            "Lupin 0 [] ['as', 'it', 'was']\n",
            "Lupin 0 [] ['but', 'was', 'Rozaine']\n",
            "Lupin 0 [] ['was', 'once', 'more']\n",
            "Lupin 0 [] ['was', 'now', 'anybody']\n",
            "Lupin 0 [] ['would', 'confine', 'himself']\n",
            "Lupin 0 [] []\n",
            "Lupin 0 [] []\n",
            "Lupin 0 [] ['concealing', 'himself']\n",
            "Lupin 0 [] ['escaped', 'from', 'the']\n",
            "Lupin 0 [] []\n",
            "Lupin 0 [] []\n",
            "Lupin 0 [] ['is', 'concerned', 'in']\n",
            "Lupin 0 [] ['has', 'already', 'seen']\n",
            "Lupin 0 [] []\n",
            "Lupin 0 [] ['was', 'not', 'amongst']\n",
            "Lupin 0 [] ['is', 'it', 'not']\n",
            "Lupin 0 [] ['sailed', 'under', 'the']\n",
            "Lupin 0 [] ['himself']\n",
            "Lupin 0 [] ['honors', 'me', 'with']\n",
            "Lupin 0 [] []\n",
            "Lupin 0 [] ['did', 'that']\n",
            "Lupin 0 [] []\n",
            "Lupin 0 [] []\n",
            "Lupin 0 [] []\n",
            "Lupin 0 [] []\n",
            "Lupin 0 [] []\n",
            "Lupin 0 [] ['had', 'decided', 'to']\n",
            "Lupin 2 [] ['s', 'letter', 'over']\n",
            "Lupin 0 [] []\n",
            "Lupin 0 [] ['better', 'than', 'Ganimard']\n",
            "Lupin 0 [] ['especially', 'would', 'not']\n",
            "Lupin 0 [] ['would', 'place', 'me']\n",
            "Lupin 20 ['advisability', 'of', 'yielding'] ['s', 'demands']\n",
            "Lupin 13 ['know', 'about', 'this'] []\n",
            "Lupin--Baron\n",
            "Lupin 0 [] ['Cahorn', 'arranged', 'all']\n",
            "Lupin 0 [] ['we', 'are', 'quite']\n",
            "Lupin 8 ['story', 'to', 'my'] []\n",
            "Lupin 5 ['is', 'very', 'improbable'] ['would', 'use', 'an']\n",
            "Lupin 0 [] ['he', 'muttered']\n",
            "Lupin 0 [] []\n",
            "Lupin 0 [] ['never', 'leaves', 'any']\n",
            "Lupin 0 [] ['problem', 'in', 'five']\n",
            "Lupin 8 ['making', 'the', 'charge'] ['when', 'he', 'saw']\n",
            "Lupin 0 [] ['excited', 'the', 'public']\n",
            "Lupin 0 [] []\n",
            "Lupin 0 [] []\n",
            "Lupin 0 [] ['is', 'in', 'prison']\n",
            "Lupin 0 [] ['is', 'in', 'prison']\n",
            "Lupin 0 [] ['is', 'the', 'only']\n",
            "Lupin 1 [] ['doesn', 't', 'employ']\n",
            "Lupin 0 [] []\n",
            "Lupin 0 [] ['would', 'be', 'foolish']\n",
            "Lupin 0 [] ['paced', 'his', 'cell']\n",
            "Lupin 0 [] ['ever', 'waste', 'my']\n",
            "Lupin 0 [] ['is', 'plotting', 'to']\n",
            "Lupin 0 [] ['is', 'actually', 'in']\n",
            "Lupin 0 [] []\n",
            "Lupin 0 [] ['s', 'personal', 'enemy--the']\n",
            "Lupin 0 [] ['laughed', 'heartily']\n",
            "Lupin 0 [] ['s', 'luncheon', 'furnished']\n",
            "Lupin 0 [] ['broke', 'his', 'bread']\n",
            "Lupin 9 ['me---', 'You', 'are'] []\n",
            "Lupin 0 [] ['assumed', 'a', 'modest']\n",
            "Lupin 0 [] ['repeated', 'positively', 'I']\n",
            "Lupin 0 [] ['remains', 'in', 'prison']\n",
            "Lupin 0 [] ['you', 'are', 'not']\n",
            "Lupin 3 [] []\n",
            "Lupin 0 [] ['I', 'will', 'expect']\n",
            "Lupin 0 [] ['gave', 'a', 'hasty']\n",
            "Lupin 0 [] ['had', 'just', 'finished']\n",
            "Lupin 9 ['my', 'dear', 'boy'] ['in', 'his', 'accustomed']\n",
            "Lupin 0 [] ['was', 'in', 'communication']\n",
            "Lupin 0 [] []\n",
            "Lupin 0 [] []\n",
            "Lupin 17 ['precautions', 'necessary', 'to'] ['s', 'safety']\n",
            "Lupin 4 ['We', 'will', 'look'] ['s', 'reply', 'this']\n",
            "Lupin 0 [] ['slips', 'through', 'your']\n",
            "Lupin 0 [] ['had', 'very', 'little']\n",
            "Lupin 0 [] ['would', 'speak']\n",
            "Lupin 0 [] ['first', 'thus', 'he']\n",
            "Lupin 0 [] ['looked', 'out']\n",
            "Lupin 0 [] ['was', 'already', 'far']\n",
            "Lupin 0 [] []\n",
            "Lupin 0 [] ['strolled', 'along', 'the']\n",
            "Lupin 0 [] ['from', 'entering', 'the']\n",
            "Lupin 0 [] []\n",
            "Lupin 0 [] ['--it', 'was', 'said']\n",
            "Lupin 16 ['variety', 'of', 'resources'] ['possessed', 'the', 'prison-van']\n",
            "Lupin 0 [] ['was', 'not', 'doubted']\n",
            "Lupin 0 [] ['exclaimed', 'with', 'an']\n",
            "Lupin 0 [] ['secrets', 'that', 'he']\n",
            "Lupin 0 [] ['was', 'changed', 'to']\n",
            "Lupin 0 [] ['must', 'escape']\n",
            "Lupin 0 [] ['always', 'keeps', 'his']\n",
            "Lupin 0 [] []\n",
            "Lupin 0 [] ['by', 'which', 'you']\n",
            "Lupin 0 [] ['presenting', 'to', 'us']\n",
            "Lupin 0 [] []\n",
            "Lupin 0 [] []\n",
            "Lupin 0 [] ['was', 'the', 'professor']\n",
            "Lupin 0 [] ['was', 'the', 'bicyclist']\n",
            "Lupin 0 [] ['may', 'have', 'been']\n",
            "Lupin 0 [] []\n",
            "Lupin 13 ['and', 'forgeries', 'charged'] []\n",
            "Lupin 0 [] ['was', 'well', 'known']\n",
            "Lupin 0 [] ['he', 'stopped', 'twice']\n",
            "Lupin 0 [] []\n",
            "Lupin 0 [] []\n",
            "Lupin 0 [] ['has', 'in', 'some']\n",
            "Lupin 0 [] []\n",
            "Lupin 0 [] []\n",
            "Lupin 0 [] []\n",
            "Lupin 0 [] ['two', 'months', 'ago']\n",
            "Lupin 22 ['express', 'purpose', 'of'] ['s', 'place']\n",
            "Lupin 0 [] []\n",
            "Lupin 0 [] ['I', 'shall', 'not']\n",
            "Lupin 0 [] ['had', 'played', 'with']\n",
            "Lupin 0 [] ['or', 'at', 'least']\n",
            "Lupin 18 ['other', 'the', 'real'] []\n",
            "Lupin 0 [] ['he', 'stammered']\n",
            "Lupin 9 ['of', 'rage', 'he'] ['by', 'the', 'throat']\n",
            "Lupin 0 [] ['made', 'only', 'a']\n",
            "Lupin 1 [] ['you', 'would', 'know']\n",
            "Lupin 0 [] ['ought', 'to', 'be']\n",
            "Lupin 0 [] ['I', 'held', 'in']\n",
            "Lupin 0 [] ['guilty', 'of', 'such']\n",
            "Lupin 0 [] ['cries', 'from', 'the']\n",
            "Lupin 0 [] ['would', 'not', 'be']\n",
            "Lupin 0 [] ['everybody', 'was', 'prepared']\n",
            "Lupin 0 [] ['then', 'despite', 'all']\n",
            "Lupin 0 [] []\n",
            "Lupin 0 [] []\n",
            "Lupin 0 [] []\n",
            "Lupin 2 [] ['I', 'am', 'going']\n",
            "Lupin 0 [] ['once', 'more']\n",
            "Lupin 0 [] ['who', 'was', 'discharged']\n",
            "Lupin 0 [] []\n",
            "Lupin 0 [] ['was', 'sentenced', 'to']\n",
            "Lupin 0 [] []\n",
            "Lupin 0 [] ['is', 'on', 'this']\n",
            "Lupin 0 [] ['s', 'trial', 'but']\n",
            "Lupin 0 [] ['held', 'an', 'important']\n",
            "Lupin 0 [] ['assumed', 'a', 'more']\n",
            "Lupin 0 [] []\n",
            "Lupin 0 [] ['seized', 'and', 'bound']\n",
            "Lupin 0 [] ['a', 'victim', 'duped']\n",
            "Lupin 0 [] ['was', 'a', 'subject']\n",
            "Lupin 0 [] ['bound', 'hand', 'and']\n",
            "Lupin 0 [] []\n",
            "Lupin 0 [] []\n",
            "Lupin 0 [] []\n",
            "Lupin 0 [] ['he', 'attacked', 'us']\n",
            "Lupin 0 [] ['while', 'monsieur', 'was']\n",
            "Lupin 0 [] []\n",
            "Lupin 0 [] []\n",
            "Lupin 0 [] ['is', 'getting', 'the']\n",
            "Lupin 0 [] []\n",
            "Lupin 0 [] ['will', 'not', 'allow']\n",
            "Lupin 0 [] ['consulted', 'my', 'railway']\n",
            "Lupin 0 [] ['so', 'different', 'from']\n",
            "Lupin 0 [] []\n",
            "Lupin 0 [] []\n",
            "Lupin 0 [] ['would', 'have', 'made']\n",
            "Lupin 0 [] []\n",
            "Lupin 0 [] []\n",
            "Lupin 0 [] []\n",
            "Lupin 0 [] ['effected', 'the', 'arrest']\n",
            "Lupin 0 [] ['restored', 'to', 'Madame']\n",
            "Lupin 0 [] ['who', 'hastened', 'to']\n",
            "Lupin 0 [] []\n",
            "Lupin 0 [] ['was', 'well', 'known']\n",
            "Lupin 0 [] []\n",
            "Lupin 0 [] []\n",
            "Lupin 0 [] []\n",
            "Lupin 0 [] ['will', 'wait', 'for']\n",
            "Lupin 0 [] []\n",
            "Lupin 0 [] []\n",
            "Lupin 0 [] []\n",
            "Lupin 0 [] ['will', 'remain']\n",
            "Lupin 0 [] ['is', 'simply', 'at']\n",
            "Lupin 0 [] ['has', 'solved', 'the']\n",
            "Lupin 0 [] []\n",
            "Lupin 0 [] ['gentleman-thief']\n",
            "Lupin 0 [] []\n",
            "Lupin 0 [] []\n",
            "Lupin 0 [] ['was', 'baptized']\n",
            "Lupin 0 [] ['was', 'then', 'merely']\n",
            "Lupin 7 ['this', 'man', 'said'] ['Well', 'governor']\n",
            "Lupin 4 ['My', 'dear', 'boy'] ['When', 'I', 'arranged']\n",
            "Lupin 4 ['The', 'man', 'whispered'] ['What', 'am', 'I']\n",
            "Lupin 0 [] ['was', 'ascending', 'the']\n",
            "Lupin 2 [] ['a', 'cordial', 'welcome']\n",
            "Lupin 5 ['think', 'of', 'it'] ['the', 'bonds', 'are']\n",
            "Lupin 1 [] ['shivered', 'at', 'the']\n",
            "Lupin 7 ['quite', 'certain', 'that'] ['would', 'never', 'suffer']\n",
            "Lupin 0 [] ['confessed', 'his', 'poverty']\n",
            "Lupin 0 [] ['was', 'not', 'discouraged']\n",
            "Lupin 3 [] ['come', 'in', 'cried']\n",
            "Lupin 1 [] ['with', 'surprise']\n",
            "Lupin 0 [] ['did', 'not', 'feel']\n",
            "Lupin 0 [] ['was', 'present', 'at']\n",
            "Lupin 6 ['do', 'it', 'to-night'] []\n",
            "Lupin 6 ['get', 'to', 'work'] []\n",
            "Lupin 0 [] ['and', 'his', 'assistant']\n",
            "Lupin 0 [] ['was', 'not', 'disappointed']\n",
            "Lupin 9 ['very', 'respectable', 'sum'] ['expressed', 'his', 'satisfaction']\n",
            "Lupin 0 [] ['had', 'left--nothing']\n",
            "Lupin 0 [] ['was', 'in', 'a']\n",
            "Lupin 5 ['was', 'the', 'meaning'] ['s', 'reticence']\n",
            "Lupin 0 [] ['even', 'a', 'momentary']\n",
            "Lupin 0 [] ['done', 'out', 'of']\n",
            "Lupin 2 [] ['surely', 'fortune', 'favors']\n",
            "Lupin 0 [] ['was', 'employed', 'fully']\n",
            "Lupin 0 [] ['controls', 'himself', 'and']\n",
            "Lupin 0 [] ['quickly', 'brought', 'his']\n",
            "Lupin 11 ['too', 'soon', 'my'] []\n",
            "Lupin 0 [] []\n",
            "Lupin 0 [] ['himself']\n",
            "Lupin 0 [] ['is', 'at', 'the']\n",
            "Lupin 5 ['the', 'judge', 'you'] ['on', 'the', 'brain']\n",
            "Lupin 0 [] ['who', 'recovered', 'it']\n",
            "Lupin 0 [] ['will', 'be', 'pleased']\n",
            "Lupin 0 [] ['after', 'he', 'had']\n",
            "Lupin 0 [] []\n",
            "Lupin 0 [] ['has', 'been', 'furnished']\n",
            "Lupin 0 [] ['really', 'in', 'this']\n",
            "Lupin 0 [] ['and', 'his', 'band']\n",
            "Lupin 0 [] ['is', 'concerned', 'in']\n",
            "Lupin 0 [] []\n",
            "Lupin 0 [] []\n",
            "Lupin 0 [] ['gets', 'ahead', 'of']\n",
            "Lupin 0 [] ['passed', 'quickly', 'from']\n",
            "Lupin 1 [] ['would', 'linger', 'before']\n",
            "Lupin 0 [] ['said', 'to', 'the']\n",
            "Lupin 14 ['cabinet', 'which', 'had'] ['s', 'attentions']\n",
            "Lupin 12 ['against', 'the', 'window-curtain'] ['felt', 'that', 'she']\n",
            "Lupin 0 [] ['had', 'disappeared']\n",
            "Lupin 0 [] []\n",
            "Lupin 0 [] ['the', 'famous', 'Chronique']\n",
            "Lupin 0 [] ['on', 'the', 'steamer']\n",
            "Lupin 0 [] ['the', 'stolen', 'goods']\n",
            "Lupin 8 ['forgotten', 'for', 'one'] ['s', 'solemn', 'promise']\n",
            "Lupin 0 [] ['would', 'carry', 'out']\n",
            "Lupin 0 [] ['had', 'given', 'her']\n",
            "Lupin 0 [] ['stood', 'close', 'to']\n",
            "Lupin 0 [] ['and', 'he', 'realized']\n",
            "Lupin 0 [] ['blushed']\n",
            "Lupin 0 [] []\n",
            "Lupin 0 [] ['stood', 'watching', 'the']\n",
            "Lupin 0 [] ['experienced', 'the', 'sensation']\n",
            "Lupin 1 [] ['was', 'thinking', 'It']\n",
            "Lupin 0 [] ['gazed', 'at', 'each']\n",
            "Lupin 0 [] []\n",
            "Lupin 0 [] ['went', 'toward', 'the']\n",
            "Lupin 0 [] ['would', 'have', 'been']\n",
            "Lupin 1 [] []\n",
            "Lupin 0 [] ['is', 'far', 'away--there']\n",
            "Lupin 0 [] ['solved', 'the', 'problem']\n",
            "Lupin 0 [] ['or', 'Horace', 'Velmont--same']\n",
            "Lupin 14 ['o', 'clock', 'you'] ['with', 'the', 'information']\n",
            "Lupin 0 [] ['broke', 'into', 'and']\n",
            "Lupin 3 [] ['got', 'out', 'of']\n",
            "Lupin 0 [] ['worked', 'the', 'combination']\n",
            "Lupin 0 [] ['foresaw', 'that', 'the']\n",
            "Lupin 0 [] ['and', 'myself']\n",
            "Lupin 0 [] []\n",
            "Lupin 0 [] ['I', 'do', 'not']\n",
            "Lupin 5 ['time', 'pressed', 'and'] ['had', 'been', 'so']\n",
            "Lupin 0 [] []\n",
            "Lupin 0 [] ['returns', 'your', 'watch']\n",
            "Lupin 0 [] []\n",
            "Lupin 0 [] ['and', 'Sherlock', 'Holmes']\n"
          ]
        }
      ]
    },
    {
      "cell_type": "code",
      "metadata": {
        "colab": {
          "base_uri": "https://localhost:8080/",
          "height": 514
        },
        "id": "6aoGVrr9IT3g",
        "outputId": "e72db024-7c18-4edf-a488-47628bc64a4b"
      },
      "source": [
        "from wordcloud import WordCloud\n",
        "def word_cloud(char, title):\n",
        "    f = plt.figure (figsize=(10, 10))\n",
        "    f.suptitle(title, fontsize=20)\n",
        "    word_cloud = WordCloud(collocations = False,background_color = 'white', width=800, height=400, max_words=200).generate_from_frequencies(char)\n",
        "    plt.imshow(word_cloud, interpolation='bilinear')\n",
        "    plt.axis(\"off\")\n",
        "    plt.show()\n",
        "\n",
        "plot1 = word_cloud(word_dict, 'Wordcloud of Q4')\n",
        "Q4_list[book_index-1]=word_dict"
      ],
      "execution_count": 53,
      "outputs": [
        {
          "output_type": "display_data",
          "data": {
            "application/javascript": [
              "google.colab.output.setIframeHeight(0, true, {maxHeight: 5000})"
            ],
            "text/plain": [
              "<IPython.core.display.Javascript object>"
            ]
          },
          "metadata": {}
        },
        {
          "output_type": "display_data",
          "data": {
            "image/png": "[encoded data removed]",
            "text/plain": [
              "<Figure size 720x720 with 1 Axes>"
            ]
          },
          "metadata": {
            "needs_background": "light"
          }
        }
      ]
    },
    {
      "cell_type": "code",
      "metadata": {
        "id": "KGphoCbdIbKA"
      },
      "source": [
        ""
      ],
      "execution_count": null,
      "outputs": []
    }
  ]
}