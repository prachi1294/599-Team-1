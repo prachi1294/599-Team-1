{
  "nbformat": 4,
  "nbformat_minor": 0,
  "metadata": {
    "colab": {
      "name": "Project_1.ipynb",
      "provenance": [],
      "authorship_tag": "ABX9TyNY8LhAGD6x69n/vNR9k3XS",
      "include_colab_link": true
    },
    "kernelspec": {
      "name": "python3",
      "display_name": "Python 3"
    },
    "language_info": {
      "name": "python"
    }
  },
  "cells": [
    {
      "cell_type": "markdown",
      "metadata": {
        "id": "view-in-github",
        "colab_type": "text"
      },
      "source": [
        "<a href=\"https://colab.research.google.com/github/prachi1294/599-Team-1/blob/main/Project_1.ipynb\" target=\"_parent\"><img src=\"https://colab.research.google.com/assets/colab-badge.svg\" alt=\"Open In Colab\"/></a>"
      ]
    },
    {
      "cell_type": "code",
      "metadata": {
        "id": "Sd9AJweFjpEy"
      },
      "source": [
        "import spacy\n",
        "import nltk\n",
        "#nltk.download(\"gutenberg\")\n",
        "#from nltk.corpus import gutenberg\n",
        "import requests"
      ],
      "execution_count": 2,
      "outputs": []
    },
    {
      "cell_type": "code",
      "metadata": {
        "id": "WY0Jm5bdjtQY"
      },
      "source": [
        "nlp = spacy.load('en')\n",
        "import pandas as pd\n",
        "import matplotlib.pyplot as plt\n",
        "import random"
      ],
      "execution_count": 3,
      "outputs": []
    },
    {
      "cell_type": "code",
      "metadata": {
        "id": "DRMwD4ongnG3"
      },
      "source": [
        "def read_books(url):\n",
        "  r = requests.get(url)\n",
        "  # What comes back includes headers and other HTTP stuff, get just the body of the response\n",
        "  t = r.text\n",
        "  return t\n",
        "\n",
        "\n",
        "#save all the books\n",
        "the_extra_ordinary_adv_lupin = 'https://www.gutenberg.org/files/6133/6133-0.txt'\n",
        "arsene_lupin = 'https://www.gutenberg.org/cache/epub/4014/pg4014.txt'\n",
        "lupin_vs_herlock_sholmes = 'https://www.gutenberg.org/files/40203/40203-0.txt'\n",
        "the_hollow_needle = 'https://www.gutenberg.org/files/4017/4017-0.txt'\n",
        "the_confession_of_lupin = 'https://www.gutenberg.org/cache/epub/28093/pg28093.txt'\n",
        "\n",
        "\n",
        "#read all the books one by one\n",
        "\n",
        "book1 = read_books(the_extra_ordinary_adv_lupin)\n",
        "book2 = read_books(arsene_lupin)\n",
        "book3 = read_books(lupin_vs_herlock_sholmes)\n",
        "book4 = read_books(the_hollow_needle)\n",
        "book5 = read_books(the_confession_of_lupin)"
      ],
      "execution_count": 4,
      "outputs": []
    },
    {
      "cell_type": "code",
      "metadata": {
        "id": "L71rc0QMhP1y"
      },
      "source": [
        ""
      ],
      "execution_count": null,
      "outputs": []
    }
  ]
}