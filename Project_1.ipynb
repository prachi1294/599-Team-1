{
  "nbformat": 4,
  "nbformat_minor": 0,
  "metadata": {
    "colab": {
      "name": "Project_1.ipynb",
      "provenance": [],
      "authorship_tag": "ABX9TyPbuPYlq1J1bTJZuD8br5JT",
      "include_colab_link": true
    },
    "kernelspec": {
      "name": "python3",
      "display_name": "Python 3"
    },
    "language_info": {
      "name": "python"
    }
  },
  "cells": [
    {
      "cell_type": "markdown",
      "metadata": {
        "id": "view-in-github",
        "colab_type": "text"
      },
      "source": [
        "<a href=\"https://colab.research.google.com/github/prachi1294/599-Team-1/blob/main/Project_1.ipynb\" target=\"_parent\"><img src=\"https://colab.research.google.com/assets/colab-badge.svg\" alt=\"Open In Colab\"/></a>"
      ]
    },
    {
      "cell_type": "code",
      "metadata": {
        "id": "Sd9AJweFjpEy",
        "colab": {
          "base_uri": "https://localhost:8080/",
          "height": 17
        },
        "outputId": "585fc1d3-e02b-421f-fe68-37738c948ecc"
      },
      "source": [
        "import spacy\n",
        "import nltk\n",
        "#nltk.download(\"gutenberg\")\n",
        "#from nltk.corpus import gutenberg\n",
        "import requests\n",
        "import re\n",
        "from collections import defaultdict\n",
        "from nltk import clean_html\n",
        "from collections import Counter\n",
        "import operator\n",
        "\n",
        "\n",
        "from IPython.display import Javascript\n",
        "def resize_colab_cell():\n",
        "  display(Javascript('google.colab.output.setIframeHeight(0, true, {maxHeight: 5000})'))\n",
        "get_ipython().events.register('pre_run_cell', resize_colab_cell)"
      ],
      "execution_count": 7,
      "outputs": [
        {
          "output_type": "display_data",
          "data": {
            "application/javascript": [
              "google.colab.output.setIframeHeight(0, true, {maxHeight: 5000})"
            ],
            "text/plain": [
              "<IPython.core.display.Javascript object>"
            ]
          },
          "metadata": {}
        }
      ]
    },
    {
      "cell_type": "code",
      "metadata": {
        "colab": {
          "base_uri": "https://localhost:8080/",
          "height": 17
        },
        "id": "WY0Jm5bdjtQY",
        "outputId": "5422df3f-b26c-47e7-9da2-ac14d4a715e6"
      },
      "source": [
        "nlp = spacy.load('en')\n",
        "import pandas as pd\n",
        "import matplotlib.pyplot as plt\n",
        "import random\n",
        "import numpy as np\n",
        "import pylab\n"
      ],
      "execution_count": 101,
      "outputs": [
        {
          "output_type": "display_data",
          "data": {
            "application/javascript": [
              "google.colab.output.setIframeHeight(0, true, {maxHeight: 5000})"
            ],
            "text/plain": [
              "<IPython.core.display.Javascript object>"
            ]
          },
          "metadata": {}
        },
        {
          "output_type": "display_data",
          "data": {
            "application/javascript": [
              "google.colab.output.setIframeHeight(0, true, {maxHeight: 5000})"
            ],
            "text/plain": [
              "<IPython.core.display.Javascript object>"
            ]
          },
          "metadata": {}
        }
      ]
    },
    {
      "cell_type": "code",
      "metadata": {
        "colab": {
          "base_uri": "https://localhost:8080/",
          "height": 17
        },
        "id": "DRMwD4ongnG3",
        "outputId": "7dfeabcd-0672-4b6d-b448-149fef26fa45"
      },
      "source": [
        "def read_books(url):\n",
        "  r = requests.get(url)\n",
        "  # What comes back includes headers and other HTTP stuff, get just the body of the response\n",
        "  t = r.text\n",
        "  return t\n",
        "\n",
        "\n",
        "#save all the books\n",
        "the_extra_ordinary_adv_lupin = 'https://www.gutenberg.org/files/6133/6133-0.txt'\n",
        "arsene_lupin = 'https://www.gutenberg.org/cache/epub/4014/pg4014.txt'\n",
        "lupin_vs_herlock_sholmes = 'https://www.gutenberg.org/files/40203/40203-0.txt'\n",
        "the_hollow_needle = 'https://www.gutenberg.org/files/4017/4017-0.txt'\n",
        "the_confession_of_lupin = 'https://www.gutenberg.org/cache/epub/28093/pg28093.txt'\n",
        "\n",
        "\n",
        "#read all the books one by one\n",
        "\n",
        "book1 = read_books(the_extra_ordinary_adv_lupin)\n",
        "book2 = read_books(arsene_lupin)\n",
        "book3 = read_books(lupin_vs_herlock_sholmes)\n",
        "book4 = read_books(the_hollow_needle)\n",
        "book5 = read_books(the_confession_of_lupin)\n",
        "\n",
        "\n"
      ],
      "execution_count": 3,
      "outputs": [
        {
          "output_type": "display_data",
          "data": {
            "application/javascript": [
              "google.colab.output.setIframeHeight(0, true, {maxHeight: 5000})"
            ],
            "text/plain": [
              "<IPython.core.display.Javascript object>"
            ]
          },
          "metadata": {}
        }
      ]
    },
    {
      "cell_type": "code",
      "metadata": {
        "colab": {
          "base_uri": "https://localhost:8080/",
          "height": 54
        },
        "id": "L71rc0QMhP1y",
        "outputId": "066ea522-a293-4744-a106-427ffb96fb71"
      },
      "source": [
        "##my regex = (IX|IV|V?I{1,3}\\.\\s)([A-Z].*)(\\W*[a-zA-Z])\n",
        "## regex for selecting chapter name = (IX|IV|V|V?I{1,3})(\\.\\s[A-Z].*)\n",
        "pattern = (\"(IX|IV|V|V?I{1,3})(\\.\\s[A-Z].*)\") #get the chapter name. Group 1 will get the chapter no followed by . and space. Group 2 will get chapter name\n",
        "matches = []\n",
        "matches = re.findall(pattern, book1)\n",
        "print(matches)"
      ],
      "execution_count": 4,
      "outputs": [
        {
          "output_type": "display_data",
          "data": {
            "application/javascript": [
              "google.colab.output.setIframeHeight(0, true, {maxHeight: 5000})"
            ],
            "text/plain": [
              "<IPython.core.display.Javascript object>"
            ]
          },
          "metadata": {}
        },
        {
          "output_type": "stream",
          "name": "stdout",
          "text": [
            "[('I', '. The Arrest of ArsÃ¨ne Lupin\\r'), ('II', '. ArsÃ¨ne Lupin in Prison\\r'), ('III', '. The Escape of ArsÃ¨ne Lupin\\r'), ('IV', '. The Mysterious Traveller\\r'), ('V', '. The Queenâ\\x80\\x99s Necklace\\r'), ('VI', '. The Seven of Hearts\\r'), ('VII', '. Madame Imbertâ\\x80\\x99s Safe\\r'), ('VIII', '. The Black Pearl\\r'), ('IX', '. Sherlock Holmes Arrives Too Late\\r')]\n"
          ]
        }
      ]
    },
    {
      "cell_type": "code",
      "metadata": {
        "colab": {
          "base_uri": "https://localhost:8080/",
          "height": 34
        },
        "id": "nf84r70__yx3",
        "outputId": "f1f5d6a4-8e0f-422a-c080-229badda316f"
      },
      "source": [
        "words_pattern = (\"(?!\\[?[0-9]+[\\[\\]]?)[A-Za-z]?[a-z][a-z\\']*\") #extract words from book and ignores numeric and capital letters\n",
        "words = []\n",
        "words = re.findall(words_pattern, book1)\n",
        "print(words[:10])"
      ],
      "execution_count": null,
      "outputs": [
        {
          "output_type": "display_data",
          "data": {
            "application/javascript": [
              "google.colab.output.setIframeHeight(0, true, {maxHeight: 5000})"
            ],
            "text/plain": [
              "<IPython.core.display.Javascript object>"
            ]
          },
          "metadata": {}
        },
        {
          "output_type": "stream",
          "name": "stdout",
          "text": [
            "['The', 'Project', 'Gutenberg', 'e', 'Book', 'of', 'The', 'Extraordinary', 'Adventures', 'of']\n"
          ]
        }
      ]
    },
    {
      "cell_type": "code",
      "metadata": {
        "colab": {
          "base_uri": "https://localhost:8080/",
          "height": 17
        },
        "id": "SJjCl354fl1R",
        "outputId": "4ce43b2e-17a7-41ed-f226-9196f0e520b7"
      },
      "source": [
        "def sentence_devide(text): ##splitting up book 1 into sentences\n",
        "\n",
        "\n",
        "  sentence_pattern = \"\"\n",
        "  #\".....\"\n",
        "  sentence_pattern = \"(\\\\s+\\\"+[A-Za-z,:;'\\\"\\\\s]+[:.?!]\\\"(?=\\\\s))\"\n",
        "  #.....\n",
        "  sentence_pattern = sentence_pattern+\"|(\\\\s+[A-Za-z,:;'\\\\s]+[.?!](?=\\\\s))\"\n",
        "  #\".....\n",
        "  sentence_pattern = sentence_pattern+\"|(\\\\s+\\\"+[A-Za-z,:;'\\\"\\\\s]+[:.?!](?=\\\\s))\"\n",
        "  # .....\"\n",
        "  sentence_pattern = sentence_pattern+\"|(\\\\s+[A-Za-z,:;'\\\"\\\\s]+[:.?!]\\\"(?=\\\\s))\"\n",
        "  #words_pattern = ('[A-za-z0-9\\']+')\n",
        "  sentences = re.findall(sentence_pattern, book1)\n",
        "  #print(sentences[:20])\n",
        "  line_number=0\n",
        "  sentence_result = []\n",
        "  for sent in sentences:\n",
        "    line_number=line_number+1\n",
        "    print(line_number)\n",
        "    for s in sent:\n",
        "      if s:\n",
        "        sent_sub=re.sub(r'[\\r\\n]+',' ',s)\n",
        "        print(sent_sub)\n",
        "        sentence_result.append(sent_sub)\n",
        "\n",
        "  return sentence_result\n",
        "\n",
        "\n",
        "#sentence_result = sentence_devide(book1)\n"
      ],
      "execution_count": 102,
      "outputs": [
        {
          "output_type": "display_data",
          "data": {
            "application/javascript": [
              "google.colab.output.setIframeHeight(0, true, {maxHeight: 5000})"
            ],
            "text/plain": [
              "<IPython.core.display.Javascript object>"
            ]
          },
          "metadata": {}
        },
        {
          "output_type": "display_data",
          "data": {
            "application/javascript": [
              "google.colab.output.setIframeHeight(0, true, {maxHeight: 5000})"
            ],
            "text/plain": [
              "<IPython.core.display.Javascript object>"
            ]
          },
          "metadata": {}
        }
      ]
    },
    {
      "cell_type": "code",
      "metadata": {
        "colab": {
          "base_uri": "https://localhost:8080/",
          "height": 51
        },
        "id": "gmJeiOAVFiq8",
        "outputId": "577de2c1-bbea-4ef4-f943-1bcd8b4598db"
      },
      "source": [
        "from bs4 import BeautifulSoup\n",
        "nltk.download(\"stopwords\")\n",
        "# we may not care about the usage of stop words\n",
        "stop_words = nltk.corpus.stopwords.words('english') + [\n",
        " 'ut', '\\'re','.', ',', '--', '\\'s', '?','â\\x80\\x9ci', ')', '(', ':', '\\'',\n",
        " '\\\"', '-', '}', '{', '&', '|', u'\\u2014', '' ]\n",
        "\n",
        "\n",
        "\n",
        " # We most likely would like to remove html markup\n",
        "def cleanHtml (html):\n",
        "    soup = BeautifulSoup(html, 'html.parser')\n",
        "    return soup .get_text()"
      ],
      "execution_count": 33,
      "outputs": [
        {
          "output_type": "display_data",
          "data": {
            "application/javascript": [
              "google.colab.output.setIframeHeight(0, true, {maxHeight: 5000})"
            ],
            "text/plain": [
              "<IPython.core.display.Javascript object>"
            ]
          },
          "metadata": {}
        },
        {
          "output_type": "display_data",
          "data": {
            "application/javascript": [
              "google.colab.output.setIframeHeight(0, true, {maxHeight: 5000})"
            ],
            "text/plain": [
              "<IPython.core.display.Javascript object>"
            ]
          },
          "metadata": {}
        },
        {
          "output_type": "stream",
          "name": "stdout",
          "text": [
            "[nltk_data] Downloading package stopwords to /root/nltk_data...\n",
            "[nltk_data]   Package stopwords is already up-to-date!\n"
          ]
        }
      ]
    },
    {
      "cell_type": "code",
      "metadata": {
        "colab": {
          "base_uri": "https://localhost:8080/",
          "height": 17
        },
        "id": "UNACvZY2Hxyt",
        "outputId": "3c6276bc-5c8e-44d6-e1e5-e44842a380ea"
      },
      "source": [
        "# We also want to remove special characters, quotes, etc. from each word\n",
        "def cleanWord (w):\n",
        "    # r in r'[.,\"\\']' tells to treat \\ as a regular character \n",
        "    # but we need to escape ' with \\'\n",
        "    # any character between the brackets [] is to be removed \n",
        "    #we need to get rid of this: â\\x80\\x9ci\n",
        "    #wn = re.sub('â\\x80\\x9ci', '\\\"', w)\n",
        "    wn = re.sub('[,\"\\.\\'&\\|:@>*;/=]', \"\", w)\n",
        "    # get rid of numbers\n",
        "    return re.sub('^[0-9\\.]*$', \"\", wn)\n",
        "\n",
        "\n",
        "def get_wf (text):\n",
        "    \n",
        "    # Now clean\n",
        "    # remove html markup\n",
        "    t = cleanHtml (text) .lower()\n",
        "    \n",
        "    # split string into an array of words using any sequence of spaces \"\\s+\" \n",
        "    wds = re .split('\\s+',t)\n",
        "    \n",
        "    # remove periods, commas, etc stuck to the edges of words\n",
        "    for i in range(len(wds)):\n",
        "        wds [i] = cleanWord (wds [i])\n",
        "    \n",
        "    # If satisfied with results, lets go to the next step: calculate frequencies\n",
        "    # We can write a loop to create a dictionary, but \n",
        "    # there is a special function for everything in python\n",
        "    # in particular for counting frequencies (like function table() in R)\n",
        "    wf = Counter (wds)\n",
        "    \n",
        "    # Remove stop words from the dictionary wf\n",
        "    for k in stop_words:\n",
        "        wf. pop(k, None)\n",
        "        \n",
        "    #how many regular words in the document?\n",
        "    tw = 0\n",
        "    for w in wf:\n",
        "       tw += wf[w] \n",
        "        \n",
        "    \n",
        "    # Get ordered list\n",
        "    wfs = sorted (wf .items(), key = operator.itemgetter(1), reverse=True)\n",
        "    ml = min(len(wfs),15)\n",
        "\n",
        "    #Reverse the list because barh plots items from the bottom\n",
        "    return (wfs [ 0:ml ] [::-1], tw)\n",
        "        "
      ],
      "execution_count": 68,
      "outputs": [
        {
          "output_type": "display_data",
          "data": {
            "application/javascript": [
              "google.colab.output.setIframeHeight(0, true, {maxHeight: 5000})"
            ],
            "text/plain": [
              "<IPython.core.display.Javascript object>"
            ]
          },
          "metadata": {}
        },
        {
          "output_type": "display_data",
          "data": {
            "application/javascript": [
              "google.colab.output.setIframeHeight(0, true, {maxHeight: 5000})"
            ],
            "text/plain": [
              "<IPython.core.display.Javascript object>"
            ]
          },
          "metadata": {}
        }
      ]
    },
    {
      "cell_type": "code",
      "metadata": {
        "colab": {
          "base_uri": "https://localhost:8080/",
          "height": 122
        },
        "id": "ZsmBdjY6IeIa",
        "outputId": "5b198a0c-31a8-4d73-ef65-3c1a28cf43d9"
      },
      "source": [
        "##Frequency count from each book\n",
        "\n",
        "read_text = (book1_text, err1) = get_wf (book1)\n",
        "(book2_text, err2) =  get_wf (book2)\n",
        "(book3_text, err3) =  get_wf (book3)\n",
        "(book4_text, err4) =  get_wf (book4)\n",
        "(book5_text, err5) =  get_wf (book5)\n",
        "print(book1_text)\n",
        "print(book2_text)\n",
        "print(book3_text)\n",
        "print(book4_text)\n",
        "print(book5_text)"
      ],
      "execution_count": 92,
      "outputs": [
        {
          "output_type": "display_data",
          "data": {
            "application/javascript": [
              "google.colab.output.setIframeHeight(0, true, {maxHeight: 5000})"
            ],
            "text/plain": [
              "<IPython.core.display.Javascript object>"
            ]
          },
          "metadata": {}
        },
        {
          "output_type": "display_data",
          "data": {
            "application/javascript": [
              "google.colab.output.setIframeHeight(0, true, {maxHeight: 5000})"
            ],
            "text/plain": [
              "<IPython.core.display.Javascript object>"
            ]
          },
          "metadata": {}
        },
        {
          "output_type": "stream",
          "name": "stdout",
          "text": [
            "[('us', 71), ('ganimard', 76), ('know', 77), ('mon', 86), ('project', 87), ('time', 91), ('could', 100), ('must', 107), ('man', 125), ('would', 138), ('two', 143), ('said', 210), ('one', 235), ('arsã¨ne', 259), ('lupin', 263)]\n",
            "[('eyes', 172), ('came', 176), ('oh', 187), ('went', 188), ('yes', 201), ('sonia', 215), ('one', 223), ('germaine', 225), ('cried', 236), ('door', 246), ('formery', 254), ('lupin', 327), ('guerchard', 626), ('duke', 735), ('said', 1765)]\n",
            "[('mon', 105), ('time', 107), ('man', 113), ('must', 119), ('house', 134), ('would', 137), ('wilson', 139), ('two', 160), ('arsã¨ne', 175), ('ganimard', 183), ('monsieur', 185), ('one', 242), ('said', 286), ('lupin', 370), ('sholmes', 405)]\n",
            "[('first', 89), ('time', 89), ('door', 89), ('must', 92), ('know', 103), ('isidore', 110), ('would', 119), ('little', 136), ('man', 150), ('said', 164), ('de', 175), ('two', 208), ('one', 261), ('lupin', 274), ('beautrelet', 361)]\n",
            "[('went', 100), ('know', 102), ('took', 103), ('well', 103), ('time', 103), ('ganimard', 108), ('see', 114), ('yes', 128), ('old', 129), ('would', 136), ('man', 139), ('two', 142), ('said', 279), ('one', 300), ('lupin', 342)]\n"
          ]
        }
      ]
    },
    {
      "cell_type": "code",
      "metadata": {
        "colab": {
          "base_uri": "https://localhost:8080/",
          "height": 672
        },
        "id": "sXMgBBrRYlNK",
        "outputId": "9cf8e193-54d6-4c22-d36f-53aaf1b6de1b"
      },
      "source": [
        "##read_books(arsene_lupin)\n",
        "#book3 = read_books(lupin_vs_herlock_sholmes)\n",
        "#book4 = read_books(the_hollow_needle)\n",
        "#book5 = read_books(the_confession_of_lupin)\n",
        "\n",
        "%matplotlib inline\n",
        "def plot_frequency_all (book_1, book_2, book_3, book_4, book_5, title):\n",
        "    f = plt.figure (figsize=(20, 10))\n",
        "    # this is painfully tedious....\n",
        "    f .suptitle (title, fontsize=20)\n",
        "    ax = f.add_subplot(111)\n",
        "    ax .spines ['top'] .set_color ('none')\n",
        "    ax .spines ['bottom'] .set_color ('none')\n",
        "    ax .spines ['left'] .set_color ('none')\n",
        "    ax .spines ['right'] .set_color ('none')\n",
        "    ax .tick_params (labelcolor='w', top='off', bottom='off', left='off', right='off', labelsize=20)\n",
        "\n",
        "    # Create two subplots, this is the first one\n",
        "    ax1 = f .add_subplot (231)\n",
        "    plt .subplots_adjust (wspace=.5)\n",
        "\n",
        "    pos = np .arange (len(book1_text)) \n",
        "    ax1 .tick_params (axis='both', which='major', labelsize=14)\n",
        "    ax1.title.set_text('The Extra Ordinary Adventure Lupin')\n",
        "    pylab .yticks (pos, [ x [0] for x in book1_text ])\n",
        "    ax1 .barh (range(len(book1_text)), [ x [1] for x in book1_text ], align='center', color='g')\n",
        "\n",
        "    ax2 = f .add_subplot (232)\n",
        "    ax2 .tick_params (axis='both', which='major', labelsize=14)\n",
        "    ax2.title.set_text('Arsene Lupin')\n",
        "    pos = np .arange (len(book2_text)) \n",
        "    pylab .yticks (pos, [ x [0] for x in book2_text ])\n",
        "    ax2 .barh (range (len(book2_text)), [ x [1] for x in book2_text ], align='center', color='b')\n",
        "\n",
        "    ax3 = f .add_subplot (233)\n",
        "    ax3 .tick_params (axis='both', which='major', labelsize=14)\n",
        "    ax3.title.set_text('Lupin vs Sherlock holmes')\n",
        "    pos = np .arange (len(book3_text)) \n",
        "    pylab .yticks (pos, [ x [0] for x in book3_text ])\n",
        "    ax3 .barh (range (len(book3_text)), [ x [1] for x in book3_text ], align='center', color='r')\n",
        "\n",
        "    ax4 = f .add_subplot (234)\n",
        "    ax4 .tick_params (axis='both', which='major', labelsize=14)\n",
        "    ax4.title.set_text('The Hollow Needle')\n",
        "    pos = np .arange (len(book4_text)) \n",
        "    pylab .yticks (pos, [ x [0] for x in book4_text ])\n",
        "    ax4 .barh (range (len(book4_text)), [ x [1] for x in book4_text ], align='center', color='c')\n",
        "\n",
        "    ax5 = f .add_subplot (235)\n",
        "    ax5 .tick_params (axis='both', which='major', labelsize=14)\n",
        "    ax5.title.set_text('The Confession of Lupin')\n",
        "    pos = np .arange (len(book5_text)) \n",
        "    pylab .yticks (pos, [ x [0] for x in book5_text ])\n",
        "    ax5 .barh (range (len(book5_text)), [ x [1] for x in book5_text ], align='center', color='m')\n",
        "\n",
        "\n",
        "\n",
        "\n",
        "plot_frequency_all (book1_text, book2_text, book3_text, book4_text, book5_text,'Word frequency counts for each book starting from first to fifth in order')"
      ],
      "execution_count": 106,
      "outputs": [
        {
          "output_type": "display_data",
          "data": {
            "application/javascript": [
              "google.colab.output.setIframeHeight(0, true, {maxHeight: 5000})"
            ],
            "text/plain": [
              "<IPython.core.display.Javascript object>"
            ]
          },
          "metadata": {}
        },
        {
          "output_type": "display_data",
          "data": {
            "application/javascript": [
              "google.colab.output.setIframeHeight(0, true, {maxHeight: 5000})"
            ],
            "text/plain": [
              "<IPython.core.display.Javascript object>"
            ]
          },
          "metadata": {}
        },
        {
          "output_type": "display_data",
          "data": {
            "image/png": "[encoded data removed]",
            "text/plain": [
              "<Figure size 1440x720 with 6 Axes>"
            ]
          },
          "metadata": {}
        }
      ]
    },
    {
      "cell_type": "code",
      "metadata": {
        "colab": {
          "base_uri": "https://localhost:8080/",
          "height": 52
        },
        "id": "71fWEPaXTw38",
        "outputId": "ae2f99e1-9143-4b09-ba9e-5485dba73d4f"
      },
      "source": [
        "#def split_chapter(t):\n",
        "'''chapter_list = []\n",
        "reg_ex = (\"(IX|IV|V?I{1,3}\\.\\s)([A-Z].*)(\\W*[a-zA-Z])\")\n",
        "\n",
        "chapters = re.findall(reg_ex, book1)\n",
        "chap_count = len(chapters)\n",
        "print(chap_count)\n",
        "pattern=r\"\\.\"+\"\\w+\\d\"\n",
        "replace=\"\"  \n",
        "chapters = re.findall(pattern, book1)\n",
        "print(chapters)'''\n"
      ],
      "execution_count": null,
      "outputs": [
        {
          "output_type": "display_data",
          "data": {
            "application/javascript": [
              "google.colab.output.setIframeHeight(0, true, {maxHeight: 5000})"
            ],
            "text/plain": [
              "<IPython.core.display.Javascript object>"
            ]
          },
          "metadata": {}
        },
        {
          "output_type": "execute_result",
          "data": {
            "application/vnd.google.colaboratory.intrinsic+json": {
              "type": "string"
            },
            "text/plain": [
              "'chapter_list = []\\nreg_ex = (\"(IX|IV|V?I{1,3}\\\\.\\\\s)([A-Z].*)(\\\\W*[a-zA-Z])\")\\n\\nchapters = re.findall(reg_ex, book1)\\nchap_count = len(chapters)\\nprint(chap_count)\\npattern=r\"\\\\.\"+\"\\\\w+\\\\d\"\\nreplace=\"\"  \\nchapters = re.findall(pattern, book1)\\nprint(chapters)'"
            ]
          },
          "metadata": {},
          "execution_count": 30
        }
      ]
    },
    {
      "cell_type": "code",
      "metadata": {
        "colab": {
          "base_uri": "https://localhost:8080/",
          "height": 51
        },
        "id": "S301wXEqqJdF",
        "outputId": "ffb7c15d-b4e1-4ce7-ba6f-d940a99d2299"
      },
      "source": [
        "# define character\n",
        "protagonist = \"Lupin\"\n",
        "print(\"protagonist:\"+protagonist)\n",
        "perpetrator = \"Ganimard\"\n",
        "print(\"perpetrator:\"+perpetrator)"
      ],
      "execution_count": null,
      "outputs": [
        {
          "output_type": "display_data",
          "data": {
            "application/javascript": [
              "google.colab.output.setIframeHeight(0, true, {maxHeight: 5000})"
            ],
            "text/plain": [
              "<IPython.core.display.Javascript object>"
            ]
          },
          "metadata": {}
        },
        {
          "output_type": "stream",
          "name": "stdout",
          "text": [
            "protagonist:Lupin\n",
            "perpetrator:Ganimard\n"
          ]
        }
      ]
    },
    {
      "cell_type": "code",
      "metadata": {
        "id": "3eCEADwlQRFG"
      },
      "source": [
        ""
      ],
      "execution_count": null,
      "outputs": []
    }
  ]
}