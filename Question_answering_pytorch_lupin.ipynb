{
  "nbformat": 4,
  "nbformat_minor": 0,
  "metadata": {
    "colab": {
      "name": "Question_answering_pytorch_lupin.ipynb",
      "provenance": [],
      "collapsed_sections": [],
      "authorship_tag": "ABX9TyNvauXaVg5/+YF0Q7q6ClfN",
      "include_colab_link": true
    },
    "kernelspec": {
      "name": "python3",
      "display_name": "Python 3"
    },
    "language_info": {
      "name": "python"
    }
  },
  "cells": [
    {
      "cell_type": "markdown",
      "metadata": {
        "id": "view-in-github",
        "colab_type": "text"
      },
      "source": [
        "<a href=\"https://colab.research.google.com/github/prachi1294/599-Team-1/blob/main/Question_answering_pytorch_lupin.ipynb\" target=\"_parent\"><img src=\"https://colab.research.google.com/assets/colab-badge.svg\" alt=\"Open In Colab\"/></a>"
      ]
    },
    {
      "cell_type": "code",
      "metadata": {
        "id": "drJUKrDauknZ"
      },
      "source": [
        "!pip install transformers\n",
        "!pip install torch\n",
        "!pip install tensorflow"
      ],
      "execution_count": null,
      "outputs": []
    },
    {
      "cell_type": "markdown",
      "metadata": {
        "id": "Z0N-WxqQumzg"
      },
      "source": [
        "#Preparing context, question and answer"
      ]
    },
    {
      "cell_type": "code",
      "metadata": {
        "id": "QOr0lIOAyxWZ"
      },
      "source": [
        "import re"
      ],
      "execution_count": 11,
      "outputs": []
    },
    {
      "cell_type": "code",
      "metadata": {
        "id": "2MPRf5tHutZS"
      },
      "source": [
        "#context\n",
        "contexts=[]\n",
        "#For introducing the protagonist and Introducing the antagonist:\n",
        "temp_text=\"Arsène Lupin in our midst! the irresponsible burglar whose exploits had been narrated in all the newspapers during the past few months! the mysterious individual with whom Ganimard, our shrewdest detective, had been engaged in an implacable conflict amidst interesting and picturesque surroundings. Arsène Lupin, the eccentric gentleman who operates only in the châteaux and salons, and who, one night, entered the residence of Baron Schormann, but emerged empty-handed, leaving, however, his card on which he had scribbled these words: “Arsène Lupin, gentleman-burglar, will return when the furniture is genuine.” Arsène Lupin, the man of a thousand disguises: in turn a chauffer, detective, bookmaker, Russian physician, Spanish bull-fighter, commercial traveler, robust youth, or decrepit old man.\"\n",
        "contexts.append(temp_text)\n",
        "#Introducing the crime and crime scene:\n",
        "temp_text=\"First crime was theft and this paragraphs describe that. Then he pulled up his sleeve, removing his cuff, and showed us his arm. But that action did not deceive me. He had shown us his left arm, and I was on the point of calling his attention to the fact, when another incident diverted our attention. Lady Jerland, Miss Nelly’s friend, came running towards us in a state of great excitement, exclaiming: “My jewels, my pearls! Some one has stolen them all!” No, they were not all gone, as we soon found out. The thief had taken only part of them; a very curious thing. Of the diamond sunbursts, jeweled pendants, bracelets and necklaces, the thief had taken, not the largest but the finest and most valuable stones. The mountings were lying upon the table. I saw them there, despoiled of their jewels, like flowers from which the beautiful colored petals had been ruthlessly plucked. And this theft must have been committed at the time Lady Jerland was taking her tea; in broad daylight, in a stateroom opening on a much frequented corridor; moreover, the thief had been obliged to force open the door of the stateroom, search for the jewel-case, which was hidden at the bottom of a hat-box, open it, select his booty and remove it from the mountings. Of course, all the passengers instantly reached the same conclusion; it was the work of Arsène Lupin.\"\n",
        "contexts.append(temp_text)\n",
        "#Crime scene:\n",
        "temp_text=\"“Admitting that we know the guilty party, which we do not, we are confronted by the fact that we do not know how the theft was committed. We are brought face to face with two obstacles: a door and a window—both closed and fastened. It is thus a double mystery. How could anyone enter, and, moreover, how could any one escape, leaving behind him a bolted door and a fastened window?”\"\n",
        "contexts.append(temp_text)\n",
        "#Any significant evidence:\n",
        "temp_text=\"And, as a matter of fact, Arsène Lupin had very little to say. For several months, Mon. Jules Bouvier, the examining judge, had exerted himself in vain. The investigation had been reduced to a few uninteresting arguments between the judge and the advocate, Maître Danval, one of the leaders of the bar. From time to time, through courtesy, Arsène Lupin would speak. One day he said: “Yes, monsieur, le judge, I quite agree with you: the robbery of the Crédit Lyonnais, the theft in the rue de Babylone, the issue of the counterfeit bank-notes, the burglaries at the various châteaux, Armesnil, Gouret, Imblevain, Groseillers, Malaquis, all my work, monsieur, I did it all.” \"\n",
        "contexts.append(temp_text)\n",
        "#Resolution of crime and evidence against perpetrator:\n",
        "temp_text=\"I think it would be very interesting to have Ganimard and Rozaine in the same picture. You take the camera. I am loaded down.” I gave her the camera, but too late for her to use it. Rozaine was already passing the detective. An American officer, standing behind Ganimard, leaned forward and whispered in his ear. The French detective shrugged his shoulders and Rozaine passed on. Then, my God, who was Arsène Lupin? “Yes,” said Miss Nelly, aloud, “who can it be?” Not more than twenty people now remained on board. She scrutinized them one by one, fearful that Arsène Lupin was not amongst them. “We cannot wait much longer,” I said to her. She started toward the gangway. I followed. But we had not taken ten steps when Ganimard barred our passage. “Well, what is it?” I exclaimed. “One moment, monsieur. What’s your hurry?” “I am escorting mademoiselle.” “One moment,” he repeated, in a tone of authority. Then, gazing into my eyes, he said: “Arsène Lupin, is it not?” I laughed, and replied: “No, simply Bernard d’Andrézy.” “Bernard d’Andrézy died in Macedonia three years ago.” “If Bernard d’Andrézy were dead, I should not be here. But you are mistaken. Here are my papers.” “They are his; and I can tell you exactly how they came into your possession.” “You are a fool!” I exclaimed. “Arsène Lupin sailed under the name of R—-” “Yes, another of your tricks; a false scent that deceived them at Havre. You play a good game, my boy, but this time luck is against you.” I hesitated a moment. Then he hit me a sharp blow on the right arm, which caused me to utter a cry of pain. He had struck the wound, yet unhealed, referred to in the telegram. I was obliged to surrender. There was no alternative. I turned to Miss Nelly, who had heard everything. Our eyes met; then she glanced at the Kodak I had placed in her hands, and made a gesture that conveyed to me the impression that she understood everything. Yes, there, between the narrow folds of black leather, in the hollow centre of the small object that I had taken the precaution to place in her hands before Ganimard arrested me, it was there I had deposited Rozaine’s twenty thousand francs and Lady Jerland’s pearls and diamonds. Oh! I pledge my oath that, at that solemn moment, when I was in the grasp of Ganimard and his two assistants, I was perfectly indifferent to everything, to my arrest, the hostility of the people, everything except this one question: what will Miss Nelly do with the things I had confided to her?\"\n",
        "contexts.append(temp_text)\n",
        "\n"
      ],
      "execution_count": 36,
      "outputs": []
    },
    {
      "cell_type": "code",
      "metadata": {
        "colab": {
          "base_uri": "https://localhost:8080/"
        },
        "id": "5k0SiGc8vjDi",
        "outputId": "640949f1-5eaa-441e-f275-836a9a1f3d75"
      },
      "source": [
        "(contexts)"
      ],
      "execution_count": 37,
      "outputs": [
        {
          "output_type": "execute_result",
          "data": {
            "text/plain": [
              "['Arsène Lupin in our midst! the irresponsible burglar whose exploits had been narrated in all the newspapers during the past few months! the mysterious individual with whom Ganimard, our shrewdest detective, had been engaged in an implacable conflict amidst interesting and picturesque surroundings. Arsène Lupin, the eccentric gentleman who operates only in the châteaux and salons, and who, one night, entered the residence of Baron Schormann, but emerged empty-handed, leaving, however, his card on which he had scribbled these words: “Arsène Lupin, gentleman-burglar, will return when the furniture is genuine.” Arsène Lupin, the man of a thousand disguises: in turn a chauffer, detective, bookmaker, Russian physician, Spanish bull-fighter, commercial traveler, robust youth, or decrepit old man.',\n",
              " 'First crime was theft and this paragraphs describe that. Then he pulled up his sleeve, removing his cuff, and showed us his arm. But that action did not deceive me. He had shown us his left arm, and I was on the point of calling his attention to the fact, when another incident diverted our attention. Lady Jerland, Miss Nelly’s friend, came running towards us in a state of great excitement, exclaiming: “My jewels, my pearls! Some one has stolen them all!” No, they were not all gone, as we soon found out. The thief had taken only part of them; a very curious thing. Of the diamond sunbursts, jeweled pendants, bracelets and necklaces, the thief had taken, not the largest but the finest and most valuable stones. The mountings were lying upon the table. I saw them there, despoiled of their jewels, like flowers from which the beautiful colored petals had been ruthlessly plucked. And this theft must have been committed at the time Lady Jerland was taking her tea; in broad daylight, in a stateroom opening on a much frequented corridor; moreover, the thief had been obliged to force open the door of the stateroom, search for the jewel-case, which was hidden at the bottom of a hat-box, open it, select his booty and remove it from the mountings. Of course, all the passengers instantly reached the same conclusion; it was the work of Arsène Lupin.',\n",
              " '“Admitting that we know the guilty party, which we do not, we are confronted by the fact that we do not know how the theft was committed. We are brought face to face with two obstacles: a door and a window—both closed and fastened. It is thus a double mystery. How could anyone enter, and, moreover, how could any one escape, leaving behind him a bolted door and a fastened window?”',\n",
              " 'And, as a matter of fact, Arsène Lupin had very little to say. For several months, Mon. Jules Bouvier, the examining judge, had exerted himself in vain. The investigation had been reduced to a few uninteresting arguments between the judge and the advocate, Maître Danval, one of the leaders of the bar. From time to time, through courtesy, Arsène Lupin would speak. One day he said: “Yes, monsieur, le judge, I quite agree with you: the robbery of the Crédit Lyonnais, the theft in the rue de Babylone, the issue of the counterfeit bank-notes, the burglaries at the various châteaux, Armesnil, Gouret, Imblevain, Groseillers, Malaquis, all my work, monsieur, I did it all.” ',\n",
              " 'I think it would be very interesting to have Ganimard and Rozaine in the same picture. You take the camera. I am loaded down.” I gave her the camera, but too late for her to use it. Rozaine was already passing the detective. An American officer, standing behind Ganimard, leaned forward and whispered in his ear. The French detective shrugged his shoulders and Rozaine passed on. Then, my God, who was Arsène Lupin? “Yes,” said Miss Nelly, aloud, “who can it be?” Not more than twenty people now remained on board. She scrutinized them one by one, fearful that Arsène Lupin was not amongst them. “We cannot wait much longer,” I said to her. She started toward the gangway. I followed. But we had not taken ten steps when Ganimard barred our passage. “Well, what is it?” I exclaimed. “One moment, monsieur. What’s your hurry?” “I am escorting mademoiselle.” “One moment,” he repeated, in a tone of authority. Then, gazing into my eyes, he said: “Arsène Lupin, is it not?” I laughed, and replied: “No, simply Bernard d’Andrézy.” “Bernard d’Andrézy died in Macedonia three years ago.” “If Bernard d’Andrézy were dead, I should not be here. But you are mistaken. Here are my papers.” “They are his; and I can tell you exactly how they came into your possession.” “You are a fool!” I exclaimed. “Arsène Lupin sailed under the name of R—-” “Yes, another of your tricks; a false scent that deceived them at Havre. You play a good game, my boy, but this time luck is against you.” I hesitated a moment. Then he hit me a sharp blow on the right arm, which caused me to utter a cry of pain. He had struck the wound, yet unhealed, referred to in the telegram. I was obliged to surrender. There was no alternative. I turned to Miss Nelly, who had heard everything. Our eyes met; then she glanced at the Kodak I had placed in her hands, and made a gesture that conveyed to me the impression that she understood everything. Yes, there, between the narrow folds of black leather, in the hollow centre of the small object that I had taken the precaution to place in her hands before Ganimard arrested me, it was there I had deposited Rozaine’s twenty thousand francs and Lady Jerland’s pearls and diamonds. Oh! I pledge my oath that, at that solemn moment, when I was in the grasp of Ganimard and his two assistants, I was perfectly indifferent to everything, to my arrest, the hostility of the people, everything except this one question: what will Miss Nelly do with the things I had confided to her?']"
            ]
          },
          "metadata": {},
          "execution_count": 37
        }
      ]
    },
    {
      "cell_type": "markdown",
      "metadata": {
        "id": "S9-98VGh3XGG"
      },
      "source": [
        "#Questions and answers template\n",
        "Q=\"What is Lupin's job?\", A=\"gentleman-burglar\",Paragraph=1"
      ]
    },
    {
      "cell_type": "code",
      "metadata": {
        "id": "6DqH4IKPw6Om"
      },
      "source": [
        "#Questions \n",
        "train_questions=[]\n",
        "#\n",
        "temp_question=\"What is Lupin's job?\"\n",
        "train_questions.append(temp_question)"
      ],
      "execution_count": 12,
      "outputs": []
    },
    {
      "cell_type": "code",
      "metadata": {
        "colab": {
          "base_uri": "https://localhost:8080/"
        },
        "id": "U9czwE5Uw9hf",
        "outputId": "b34f7938-4e73-4c05-8a94-96e7287d974d"
      },
      "source": [
        "train_questions"
      ],
      "execution_count": 13,
      "outputs": [
        {
          "output_type": "execute_result",
          "data": {
            "text/plain": [
              "[\"What is Lupin's job?\"]"
            ]
          },
          "metadata": {},
          "execution_count": 13
        }
      ]
    },
    {
      "cell_type": "code",
      "metadata": {
        "id": "3ev_iKFSyNNw"
      },
      "source": [
        "def answer_position_find(contexts,paragraph_index,answer):\n",
        "  search_context = contexts[paragraph_index-1]\n",
        "  match = re.search(answer,search_context)\n",
        "  if match:\n",
        "    return match.span()\n",
        "  else:\n",
        "    print(answer+\" has error\")\n",
        "    return False"
      ],
      "execution_count": 26,
      "outputs": []
    },
    {
      "cell_type": "code",
      "metadata": {
        "id": "99eG_HP0w9wU"
      },
      "source": [
        "#Answers \n",
        "train_answers=[]\n",
        "#\n",
        "paragraph_index=1\n",
        "temp_answer=\"gentleman-burglar\"\n",
        "answer_position=answer_position_find(contexts,paragraph_index,temp_answer)\n",
        "if answer_position:\n",
        "  answer_template={\"answer_end\":answer_position[1],\"answer_start\":answer_position[0],\"text\":temp_answer};\n",
        "  train_answers.append(answer_template)\n",
        "#\n",
        "\n"
      ],
      "execution_count": 42,
      "outputs": []
    },
    {
      "cell_type": "code",
      "metadata": {
        "colab": {
          "base_uri": "https://localhost:8080/"
        },
        "id": "6ihGaz2S0cuJ",
        "outputId": "6064d3fc-9a18-4d6e-ef26-98eb1aa9af8e"
      },
      "source": [
        "train_answers[0]"
      ],
      "execution_count": 43,
      "outputs": [
        {
          "output_type": "execute_result",
          "data": {
            "text/plain": [
              "{'answer_end': 569, 'answer_start': 552, 'text': 'gentleman-burglar'}"
            ]
          },
          "metadata": {},
          "execution_count": 43
        }
      ]
    }
  ]
}