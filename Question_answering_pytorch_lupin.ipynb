{
  "nbformat": 4,
  "nbformat_minor": 0,
  "metadata": {
    "colab": {
      "name": "Question_answering_pytorch_lupin.ipynb",
      "provenance": [],
      "collapsed_sections": [],
      "authorship_tag": "ABX9TyMbTOg4tVoi2gg+SBjXbgB9",
      "include_colab_link": true
    },
    "kernelspec": {
      "name": "python3",
      "display_name": "Python 3"
    },
    "language_info": {
      "name": "python"
    }
  },
  "cells": [
    {
      "cell_type": "markdown",
      "metadata": {
        "id": "view-in-github",
        "colab_type": "text"
      },
      "source": [
        "<a href=\"https://colab.research.google.com/github/prachi1294/599-Team-1/blob/main/Question_answering_pytorch_lupin.ipynb\" target=\"_parent\"><img src=\"https://colab.research.google.com/assets/colab-badge.svg\" alt=\"Open In Colab\"/></a>"
      ]
    },
    {
      "cell_type": "code",
      "metadata": {
        "id": "drJUKrDauknZ"
      },
      "source": [
        "!pip install transformers\n",
        "!pip install torch\n",
        "!pip install tensorflow"
      ],
      "execution_count": null,
      "outputs": []
    },
    {
      "cell_type": "markdown",
      "metadata": {
        "id": "Z0N-WxqQumzg"
      },
      "source": [
        "#Preparing context"
      ]
    },
    {
      "cell_type": "code",
      "metadata": {
        "id": "QOr0lIOAyxWZ"
      },
      "source": [
        "import re"
      ],
      "execution_count": 2,
      "outputs": []
    },
    {
      "cell_type": "code",
      "metadata": {
        "id": "2MPRf5tHutZS"
      },
      "source": [
        "#context\n",
        "contexts=[]\n",
        "#For introducing the protagonist and Introducing the antagonist:\n",
        "temp_text=\"Arsène Lupin in our midst! the irresponsible burglar whose exploits had been narrated in all the newspapers during the past few months! the mysterious individual with whom Ganimard, our shrewdest detective, had been engaged in an implacable conflict amidst interesting and picturesque surroundings.\"\n",
        "contexts.append(temp_text)\n",
        "temp_text=\"Arsène Lupin, the eccentric gentleman who operates only in the châteaux and salons, and who, one night, entered the residence of Baron Schormann, but emerged empty-handed, leaving, however, his card on which he had scribbled these words: “Arsène Lupin, gentleman-burglar, will return when the furniture is genuine.”\"\n",
        "contexts.append(temp_text)\n",
        "temp_text=\"Arsène Lupin, the man of a thousand disguises: in turn a chauffer, detective, bookmaker, Russian physician, Spanish bull-fighter, commercial traveler, robust youth, or decrepit old man.\"\n",
        "contexts.append(temp_text)\n",
        "\n",
        "#Introducing the crime and crime scene:\n",
        "temp_text=\"Then he pulled up his sleeve, removing his cuff, and showed us his arm. But that action did not deceive me. He had shown us his left arm, and I was on the point of calling his attention to the fact, when another incident diverted our attention. Lady Jerland, Miss Nelly’s friend, came running towards us in a state of great excitement, exclaiming: “My jewels, my pearls! Some one has stolen them all!”\"\n",
        "contexts.append(temp_text)\n",
        "temp_text=\"No, they were not all gone, as we soon found out. The thief had taken only part of them; a very curious thing. Of the diamond sunbursts, jeweled pendants, bracelets and necklaces, the thief had taken, not the largest but the finest and most valuable stones. The mountings were lying upon the table. I saw them there, despoiled of their jewels, like flowers from which the beautiful colored petals had been ruthlessly plucked. And this theft must have been committed at the time Lady Jerland was taking her tea; in broad daylight, in a stateroom opening on a much frequented corridor; moreover, the thief had been obliged to force open the door of the stateroom, search for the jewel-case, which was hidden at the bottom of a hat-box, open it, select his booty and remove it from the mountings. Of course, all the passengers instantly reached the same conclusion; it was the work of Arsène Lupin.\"\n",
        "contexts.append(temp_text)\n",
        "\n",
        "#Crime scene:\n",
        "temp_text=\"“Admitting that we know the guilty party, which we do not, we are confronted by the fact that we do not know how the theft was committed. We are brought face to face with two obstacles: a door and a window—both closed and fastened. It is thus a double mystery. How could anyone enter, and, moreover, how could any one escape, leaving behind him a bolted door and a fastened window?”\"\n",
        "contexts.append(temp_text)\n",
        "\n",
        "#Any significant evidence:\n",
        "temp_text=\"And, as a matter of fact, Arsène Lupin had very little to say. For several months, Mon. Jules Bouvier, the examining judge, had exerted himself in vain. The investigation had been reduced to a few uninteresting arguments between the judge and the advocate, Maître Danval, one of the leaders of the bar. \"\n",
        "contexts.append(temp_text)\n",
        "temp_text=\"From time to time, through courtesy, Arsène Lupin would speak. One day he said: “Yes, monsieur, le judge, I quite agree with you: the robbery of the Crédit Lyonnais, the theft in the rue de Babylone, the issue of the counterfeit bank-notes, the burglaries at the various châteaux, Armesnil, Gouret, Imblevain, Groseillers, Malaquis, all my work, monsieur, I did it all.”\"\n",
        "contexts.append(temp_text)\n",
        "\n",
        "#Resolution of crime and evidence against perpetrator:\n",
        "temp_text=\"I think it would be very interesting to have Ganimard and Rozaine in the same picture. You take the camera. I am loaded down.” I gave her the camera, but too late for her to use it. Rozaine was already passing the detective. An American officer, standing behind Ganimard, leaned forward and whispered in his ear. The French detective shrugged his shoulders and Rozaine passed on. Then, my God, who was Arsène Lupin?\"\n",
        "contexts.append(temp_text)\n",
        "temp_text=\"“Yes,” said Miss Nelly, aloud, “who can it be?” Not more than twenty people now remained on board. She scrutinized them one by one, fearful that Arsène Lupin was not amongst them. “We cannot wait much longer,” I said to her. She started toward the gangway. I followed. But we had not taken ten steps when Ganimard barred our passage. “Well, what is it?” I exclaimed. “One moment, monsieur. What’s your hurry?” “I am escorting mademoiselle.”\"\n",
        "contexts.append(temp_text)\n",
        "temp_text=\"“One moment,” he repeated, in a tone of authority. Then, gazing into my eyes, he said: “Arsène Lupin, is it not?” I laughed, and replied: “No, simply Bernard d’Andrézy.” “Bernard d’Andrézy died in Macedonia three years ago.” “If Bernard d’Andrézy were dead, I should not be here. But you are mistaken. Here are my papers.” “They are his; and I can tell you exactly how they came into your possession.” “You are a fool!” I exclaimed. “Arsène Lupin sailed under the name of R—-” “Yes, another of your tricks; a false scent that deceived them at Havre. You play a good game, my boy, but this time luck is against you.” I hesitated a moment. Then he hit me a sharp blow on the right arm, which caused me to utter a cry of pain. He had struck the wound, yet unhealed, referred to in the telegram.\"\n",
        "contexts.append(temp_text)\n",
        "temp_text=\"I was obliged to surrender. There was no alternative. I turned to Miss Nelly, who had heard everything. Our eyes met; then she glanced at the Kodak I had placed in her hands, and made a gesture that conveyed to me the impression that she understood everything. Yes, there, between the narrow folds of black leather, in the hollow centre of the small object that I had taken the precaution to place in her hands before Ganimard arrested me, it was there I had deposited Rozaine’s twenty thousand francs and Lady Jerland’s pearls and diamonds.\"\n",
        "contexts.append(temp_text)\n",
        "temp_text=\"Oh! I pledge my oath that, at that solemn moment, when I was in the grasp of Ganimard and his two assistants, I was perfectly indifferent to everything, to my arrest, the hostility of the people, everything except this one question: what will Miss Nelly do with the things I had confided to her?\"\n",
        "contexts.append(temp_text)\n",
        "\n"
      ],
      "execution_count": 73,
      "outputs": []
    },
    {
      "cell_type": "code",
      "metadata": {
        "id": "5k0SiGc8vjDi"
      },
      "source": [
        "(contexts)"
      ],
      "execution_count": null,
      "outputs": []
    },
    {
      "cell_type": "markdown",
      "metadata": {
        "id": "S9-98VGh3XGG"
      },
      "source": [
        "#Questions and answers template\n",
        "Q=\"What is Lupin's job?\", A=\"gentleman-burglar\",Paragraph=1"
      ]
    },
    {
      "cell_type": "code",
      "metadata": {
        "id": "QK7kHgcpCrsk"
      },
      "source": [
        "QA_pair=[]\n",
        "#\n",
        "Q=\"Who is Arsène Lupin?\"\n",
        "A=\"gentleman-burglar\"\n",
        "P=2\n",
        "temp_QA_pair={\"Q\":Q,\"A\":A,\"P\":P}\n",
        "QA_pair.append(temp_QA_pair)\n",
        "#\n",
        "Q=\"Who is Ganimard?\"\n",
        "A=\"our shrewdest detective\"\n",
        "P=1\n",
        "temp_QA_pair={\"Q\":Q,\"A\":A,\"P\":P}\n",
        "QA_pair.append(temp_QA_pair)\n",
        "\n",
        "Q=\"Where did Lupin enter at one night?\"\n",
        "A=\"the residence of Baron Schormann\"\n",
        "P=2\n",
        "temp_QA_pair={\"Q\":Q,\"A\":A,\"P\":P}\n",
        "QA_pair.append(temp_QA_pair)\n",
        "\n",
        "Q=\"What did Lupin leave in the residence?\"\n",
        "A=\"his card on which he had scribbled these words\"\n",
        "P=2\n",
        "temp_QA_pair={\"Q\":Q,\"A\":A,\"P\":P}\n",
        "QA_pair.append(temp_QA_pair)\n",
        "\n",
        "Q=\"When did the newspapers narrate Lupin?\"\n",
        "A=\"during the past few months\"\n",
        "P=1\n",
        "temp_QA_pair={\"Q\":Q,\"A\":A,\"P\":P}\n",
        "QA_pair.append(temp_QA_pair)\n",
        "\n",
        "Q=\"How to discribe Lupin's disguise?\"\n",
        "A=\"the man of a thousand disguises\"\n",
        "P=3\n",
        "temp_QA_pair={\"Q\":Q,\"A\":A,\"P\":P}\n",
        "QA_pair.append(temp_QA_pair)\n",
        "#############\n",
        "Q=\"Who was stolen?\"\n",
        "A=\"Lady Jerland, Miss Nelly’s friend\"\n",
        "P=4\n",
        "temp_QA_pair={\"Q\":Q,\"A\":A,\"P\":P}\n",
        "QA_pair.append(temp_QA_pair)\n",
        "\n",
        "Q=\"What was stolen?\"\n",
        "A=\"diamond sunbursts, jeweled pendants, bracelets and necklaces\"\n",
        "P=5\n",
        "temp_QA_pair={\"Q\":Q,\"A\":A,\"P\":P}\n",
        "QA_pair.append(temp_QA_pair)\n",
        "#\n",
        "Q=\"When did the theft commit?\"\n",
        "A=\"at the time Lady Jerland was taking her tea\"\n",
        "P=5\n",
        "temp_QA_pair={\"Q\":Q,\"A\":A,\"P\":P}\n",
        "QA_pair.append(temp_QA_pair)\n",
        "#\n",
        "Q=\"Where did the theft commit?\"\n",
        "A=\"in a stateroom opening on a much frequented corridor\"\n",
        "P=5\n",
        "temp_QA_pair={\"Q\":Q,\"A\":A,\"P\":P}\n",
        "QA_pair.append(temp_QA_pair)\n",
        "#\n",
        "Q=\"What did the thief do?\"\n",
        "A=\"the thief had been obliged to force open the door of the stateroom\"\n",
        "P=5\n",
        "temp_QA_pair={\"Q\":Q,\"A\":A,\"P\":P}\n",
        "QA_pair.append(temp_QA_pair)\n",
        "#############\n",
        "# Q=\"how does the theft was committed?\"\n",
        "# A=\"we do not know\"\n",
        "# P=6\n",
        "# temp_QA_pair={\"Q\":Q,\"A\":A,\"P\":P}\n",
        "# QA_pair.append(temp_QA_pair)\n",
        "#\n",
        "Q=\"What are the obstacles in the room?\"\n",
        "A=\"a door and a window—both closed and fastened\"\n",
        "P=6\n",
        "temp_QA_pair={\"Q\":Q,\"A\":A,\"P\":P}\n",
        "QA_pair.append(temp_QA_pair)\n",
        "##############\n",
        "Q=\"Which crime are did by Lupin?\"\n",
        "A=\" the robbery of the Crédit Lyonnais, the theft in the rue de Babylone, the issue of the counterfeit bank-notes, the burglaries at the various châteaux, Armesnil, Gouret, Imblevain, Groseillers, Malaquis\"\n",
        "P=8\n",
        "temp_QA_pair={\"Q\":Q,\"A\":A,\"P\":P}\n",
        "QA_pair.append(temp_QA_pair)\n",
        "#\n",
        "Q=\"Who is the Jules Bouvier?\"\n",
        "A=\"the examining judge\"\n",
        "P=7\n",
        "temp_QA_pair={\"Q\":Q,\"A\":A,\"P\":P}\n",
        "QA_pair.append(temp_QA_pair)\n",
        "###############\n",
        "Q=\"Who are in the same picture?\"\n",
        "A=\"Ganimard and Rozaine\"\n",
        "P=9\n",
        "temp_QA_pair={\"Q\":Q,\"A\":A,\"P\":P}\n",
        "QA_pair.append(temp_QA_pair)\n",
        "#\n",
        "Q=\"How many people remained on board?\"\n",
        "A=\"Not more than twenty\"\n",
        "P=10\n",
        "temp_QA_pair={\"Q\":Q,\"A\":A,\"P\":P}\n",
        "QA_pair.append(temp_QA_pair)\n",
        "#\n",
        "Q=\"Where did Bernard d’Andrézy die?\"\n",
        "A=\"in Macedonia\"\n",
        "P=11\n",
        "temp_QA_pair={\"Q\":Q,\"A\":A,\"P\":P}\n",
        "QA_pair.append(temp_QA_pair)\n",
        "#\n",
        "Q=\"When did Bernard d’Andrézy die?\"\n",
        "A=\"three years ago\"\n",
        "P=11\n",
        "temp_QA_pair={\"Q\":Q,\"A\":A,\"P\":P}\n",
        "QA_pair.append(temp_QA_pair)\n",
        "#\n",
        "Q=\"Who disguise Bernard d’Andrézy?\"\n",
        "A=\"Arsène Lupin\"\n",
        "P=11\n",
        "temp_QA_pair={\"Q\":Q,\"A\":A,\"P\":P}\n",
        "QA_pair.append(temp_QA_pair)\n",
        "#\n",
        "Q=\"Who grasp Bernard d’Andrézy?\"\n",
        "A=\"Ganimard and his two assistants\"\n",
        "P=13\n",
        "temp_QA_pair={\"Q\":Q,\"A\":A,\"P\":P}\n",
        "QA_pair.append(temp_QA_pair)\n",
        "#\n",
        "Q=\"What are deposited by Lupin?\"\n",
        "A=\"Rozaine’s twenty thousand francs and Lady Jerland’s pearls and diamonds\"\n",
        "P=12\n",
        "temp_QA_pair={\"Q\":Q,\"A\":A,\"P\":P}\n",
        "QA_pair.append(temp_QA_pair)\n"
      ],
      "execution_count": 115,
      "outputs": []
    },
    {
      "cell_type": "code",
      "metadata": {
        "id": "l5Y326SXEGjY"
      },
      "source": [
        "QA_pair"
      ],
      "execution_count": null,
      "outputs": []
    },
    {
      "cell_type": "markdown",
      "metadata": {
        "id": "9XhsdS7Wis3T"
      },
      "source": [
        "val dataset"
      ]
    },
    {
      "cell_type": "code",
      "metadata": {
        "id": "RSABYeRxklCb"
      },
      "source": [
        "val_QA_pair"
      ],
      "execution_count": null,
      "outputs": []
    },
    {
      "cell_type": "code",
      "metadata": {
        "id": "hcn0hXrv0vmJ"
      },
      "source": [
        "#context\n",
        "val_contexts=[]\n",
        "#For introducing the protagonist and Introducing the antagonist:\n",
        "temp_text=\"Arsène Lupin in our midst! the irresponsible burglar whose exploits had been narrated in all the newspapers during the past few months! the mysterious individual with whom Ganimard, our shrewdest detective, had been engaged in an implacable conflict amidst interesting and picturesque surroundings. Arsène Lupin, the eccentric gentleman who operates only in the châteaux and salons, and who, one night, entered the residence of Baron Schormann, but emerged empty-handed, leaving, however, his card on which he had scribbled these words: “Arsène Lupin, gentleman-burglar, will return when the furniture is genuine.” Arsène Lupin, the man of a thousand disguises: in turn a chauffer, detective, bookmaker, Russian physician, Spanish bull-fighter, commercial traveler, robust youth, or decrepit old man.\"\n",
        "val_contexts.append(temp_text)\n",
        "#Introducing the crime and crime scene:\n",
        "temp_text=\"Then he pulled up his sleeve, removing his cuff, and showed us his arm. But that action did not deceive me. He had shown us his left arm, and I was on the point of calling his attention to the fact, when another incident diverted our attention. Lady Jerland, Miss Nelly’s friend, came running towards us in a state of great excitement, exclaiming: “My jewels, my pearls! Some one has stolen them all!” No, they were not all gone, as we soon found out. The thief had taken only part of them; a very curious thing. Of the diamond sunbursts, jeweled pendants, bracelets and necklaces, the thief had taken, not the largest but the finest and most valuable stones. The mountings were lying upon the table. I saw them there, despoiled of their jewels, like flowers from which the beautiful colored petals had been ruthlessly plucked. And this theft must have been committed at the time Lady Jerland was taking her tea; in broad daylight, in a stateroom opening on a much frequented corridor; moreover, the thief had been obliged to force open the door of the stateroom, search for the jewel-case, which was hidden at the bottom of a hat-box, open it, select his booty and remove it from the mountings. Of course, all the passengers instantly reached the same conclusion; it was the work of Arsène Lupin.\"\n",
        "val_contexts.append(temp_text)\n",
        "#Crime scene:\n",
        "temp_text=\"“Admitting that we know the guilty party, which we do not, we are confronted by the fact that we do not know how the theft was committed. We are brought face to face with two obstacles: a door and a window—both closed and fastened. It is thus a double mystery. How could anyone enter, and, moreover, how could any one escape, leaving behind him a bolted door and a fastened window?”\"\n",
        "val_contexts.append(temp_text)\n",
        "#Any significant evidence:\n",
        "temp_text=\"And, as a matter of fact, Arsène Lupin had very little to say. For several months, Mon. Jules Bouvier, the examining judge, had exerted himself in vain. The investigation had been reduced to a few uninteresting arguments between the judge and the advocate, Maître Danval, one of the leaders of the bar. From time to time, through courtesy, Arsène Lupin would speak. One day he said: “Yes, monsieur, le judge, I quite agree with you: the robbery of the Crédit Lyonnais, the theft in the rue de Babylone, the issue of the counterfeit bank-notes, the burglaries at the various châteaux, Armesnil, Gouret, Imblevain, Groseillers, Malaquis, all my work, monsieur, I did it all.” \"\n",
        "val_contexts.append(temp_text)\n",
        "#Resolution of crime and evidence against perpetrator:\n",
        "temp_text=\"Then, gazing into my eyes, he said: “Arsène Lupin, is it not?” I laughed, and replied: “No, simply Bernard d’Andrézy.” “Bernard d’Andrézy died in Macedonia three years ago.” “If Bernard d’Andrézy were dead, I should not be here. But you are mistaken. Here are my papers.” “They are his; and I can tell you exactly how they came into your possession.” “You are a fool!” I exclaimed. “Arsène Lupin sailed under the name of R—-” “Yes, another of your tricks; a false scent that deceived them at Havre. You play a good game, my boy, but this time luck is against you.” I hesitated a moment. Then he hit me a sharp blow on the right arm, which caused me to utter a cry of pain. He had struck the wound, yet unhealed, referred to in the telegram. I was obliged to surrender. There was no alternative. I turned to Miss Nelly, who had heard everything. Our eyes met; then she glanced at the Kodak I had placed in her hands, and made a gesture that conveyed to me the impression that she understood everything. Yes, there, between the narrow folds of black leather, in the hollow centre of the small object that I had taken the precaution to place in her hands before Ganimard arrested me, it was there I had deposited Rozaine’s twenty thousand francs and Lady Jerland’s pearls and diamonds. \"\n",
        "val_contexts.append(temp_text)\n",
        "#Resolution of crime and evidence against perpetrator:\n",
        "temp_text=\"Oh! I pledge my oath that, at that solemn moment, when I was in the grasp of Ganimard and his two assistants, I was perfectly indifferent to everything, to my arrest, the hostility of the people, everything except this one question: what will Miss Nelly do with the things I had confided to her?\"\n",
        "val_contexts.append(temp_text)\n"
      ],
      "execution_count": 5,
      "outputs": []
    },
    {
      "cell_type": "code",
      "metadata": {
        "id": "5Jwao6WSRWjw"
      },
      "source": [
        "val_QA_pair=[]\n",
        "#\n",
        "Q=\"Who is the burglar?\"\n",
        "A=\"Arsène Lupin\"\n",
        "P=2\n",
        "temp_QA_pair={\"Q\":Q,\"A\":A,\"P\":P}\n",
        "val_QA_pair.append(temp_QA_pair)\n",
        "#\n",
        "Q=\"Who is the detective?\"\n",
        "A=\"Ganimard\"\n",
        "P=1\n",
        "temp_QA_pair={\"Q\":Q,\"A\":A,\"P\":P}\n",
        "val_QA_pair.append(temp_QA_pair)\n",
        "#\n",
        "Q=\"What was taken by theft?\"\n",
        "A=\"diamond sunbursts, jeweled pendants, bracelets and necklaces\"\n",
        "P=5\n",
        "temp_QA_pair={\"Q\":Q,\"A\":A,\"P\":P}\n",
        "val_QA_pair.append(temp_QA_pair)\n",
        "#\n",
        "Q=\"What were the obstacles in crime scene?\"\n",
        "A=\"a door and a window—both closed and fastened\"\n",
        "P=6\n",
        "temp_QA_pair={\"Q\":Q,\"A\":A,\"P\":P}\n",
        "val_QA_pair.append(temp_QA_pair)\n",
        "#\n",
        "Q=\"what is the evidence?\"\n",
        "A=\"the theft in the rue de Babylone, the issue of the counterfeit bank-notes, the burglaries at the various châteaux, Armesnil, Gouret, Imblevain, Groseillers, Malaquis, all my work, monsieur, I did it all\"\n",
        "P=8\n",
        "temp_QA_pair={\"Q\":Q,\"A\":A,\"P\":P}\n",
        "val_QA_pair.append(temp_QA_pair)\n",
        "#\n",
        "Q=\"Who did Lupin disguise?\"\n",
        "A=\"Bernard d’Andrézy\"\n",
        "P=11\n",
        "temp_QA_pair={\"Q\":Q,\"A\":A,\"P\":P}\n",
        "val_QA_pair.append(temp_QA_pair)\n",
        "#\n",
        "Q=\"Where did Bernard d’Andrézy die?\"\n",
        "A=\"in Macedonia\"\n",
        "P=11\n",
        "temp_QA_pair={\"Q\":Q,\"A\":A,\"P\":P}\n",
        "val_QA_pair.append(temp_QA_pair)\n",
        "#\n",
        "Q=\"Who grasp Bernard d’Andrézy?\"\n",
        "A=\"Ganimard and his two assistants\"\n",
        "P=13\n",
        "temp_QA_pair={\"Q\":Q,\"A\":A,\"P\":P}\n",
        "val_QA_pair.append(temp_QA_pair)"
      ],
      "execution_count": 166,
      "outputs": []
    },
    {
      "cell_type": "markdown",
      "metadata": {
        "id": "VP6UaPUmL8gq"
      },
      "source": [
        "#Create QA training set"
      ]
    },
    {
      "cell_type": "code",
      "metadata": {
        "id": "3ev_iKFSyNNw"
      },
      "source": [
        "def answer_position_find(contexts,paragraph_index,answer):\n",
        "  search_context = contexts[paragraph_index-1]\n",
        "  match = re.search(answer,search_context)\n",
        "  if match:\n",
        "    return match.span()\n",
        "  else:\n",
        "    print(answer+\" has error\")\n",
        "    return False"
      ],
      "execution_count": 70,
      "outputs": []
    },
    {
      "cell_type": "code",
      "metadata": {
        "id": "ozVPQBC4L4fT"
      },
      "source": [
        "def create_QA_training_set(QA_pair,contexts):\n",
        "  train_questions=[]\n",
        "  train_answers=[]\n",
        "  train_answers_paraIndex=[]\n",
        "  for temp_QA_pair in QA_pair:\n",
        "    #print(temp_QA_pair)\n",
        "    temp_question=temp_QA_pair['Q']\n",
        "    paragraph_index=temp_QA_pair['P']\n",
        "    temp_answer=temp_QA_pair['A']\n",
        "    answer_position=answer_position_find(contexts,paragraph_index,temp_answer)\n",
        "    if answer_position:\n",
        "      print(temp_question)\n",
        "      answer_template={\"answer_end\":answer_position[1],\"answer_start\":answer_position[0],\"text\":temp_answer};\n",
        "      train_answers.append(answer_template)\n",
        "      print(answer_template)\n",
        "      train_answers_paraIndex.append(paragraph_index)\n",
        "      train_questions.append(temp_question)\n",
        "  return train_questions,train_answers,train_answers_paraIndex"
      ],
      "execution_count": 71,
      "outputs": []
    },
    {
      "cell_type": "code",
      "metadata": {
        "id": "gVHTEAfsM2HK"
      },
      "source": [
        "train_questions,train_answers,train_answers_paraIndex=create_QA_training_set(QA_pair,contexts)"
      ],
      "execution_count": null,
      "outputs": []
    },
    {
      "cell_type": "code",
      "metadata": {
        "colab": {
          "base_uri": "https://localhost:8080/"
        },
        "id": "6ihGaz2S0cuJ",
        "outputId": "b6a86b68-94f4-4996-b4e5-90d702e227f1"
      },
      "source": [
        "val_questions,val_answers,val_answers_paraIndex=create_QA_training_set(val_QA_pair,contexts)"
      ],
      "execution_count": 167,
      "outputs": [
        {
          "output_type": "stream",
          "name": "stdout",
          "text": [
            "Who is the burglar?\n",
            "{'answer_end': 12, 'answer_start': 0, 'text': 'Arsène Lupin'}\n",
            "Who is the detective?\n",
            "{'answer_end': 180, 'answer_start': 172, 'text': 'Ganimard'}\n",
            "What was taken by theft?\n",
            "{'answer_end': 178, 'answer_start': 118, 'text': 'diamond sunbursts, jeweled pendants, bracelets and necklaces'}\n",
            "What were the obstacles in crime scene?\n",
            "{'answer_end': 230, 'answer_start': 186, 'text': 'a door and a window—both closed and fastened'}\n",
            "what is the evidence?\n",
            "{'answer_end': 368, 'answer_start': 166, 'text': 'the theft in the rue de Babylone, the issue of the counterfeit bank-notes, the burglaries at the various châteaux, Armesnil, Gouret, Imblevain, Groseillers, Malaquis, all my work, monsieur, I did it all'}\n",
            "Who did Lupin disguise?\n",
            "{'answer_end': 167, 'answer_start': 150, 'text': 'Bernard d’Andrézy'}\n",
            "Where did Bernard d’Andrézy die?\n",
            "{'answer_end': 206, 'answer_start': 194, 'text': 'in Macedonia'}\n",
            "Who grasp Bernard d’Andrézy?\n",
            "{'answer_end': 108, 'answer_start': 77, 'text': 'Ganimard and his two assistants'}\n"
          ]
        }
      ]
    },
    {
      "cell_type": "code",
      "metadata": {
        "id": "RV8Gck2XSuuF"
      },
      "source": [
        "test_val_contexts=[]\n",
        "for i in val_answers_paraIndex:\n",
        "  test_val_contexts.append(contexts[i-1])\n"
      ],
      "execution_count": 168,
      "outputs": []
    },
    {
      "cell_type": "code",
      "metadata": {
        "colab": {
          "base_uri": "https://localhost:8080/"
        },
        "id": "3vTWrvhK2ogd",
        "outputId": "4350456c-5109-465c-a57c-e4beb07dab8d"
      },
      "source": [
        "val_questions"
      ],
      "execution_count": 158,
      "outputs": [
        {
          "output_type": "execute_result",
          "data": {
            "text/plain": [
              "['Who is the gentleman-burglar?',\n",
              " 'Who is the detective?',\n",
              " 'What was taken?',\n",
              " 'What were the obstacles in crime scene?',\n",
              " 'what is the evidence?',\n",
              " 'Who did Lupin disguise?',\n",
              " 'Where did Bernard d’Andrézy die?',\n",
              " 'Who grasp Bernard d’Andrézy?']"
            ]
          },
          "metadata": {},
          "execution_count": 158
        }
      ]
    },
    {
      "cell_type": "markdown",
      "metadata": {
        "id": "zUWpZLpB4I80"
      },
      "source": [
        "#create training contexts"
      ]
    },
    {
      "cell_type": "code",
      "metadata": {
        "id": "S4LhDO5I4Hxs"
      },
      "source": [
        "train_contexts=[]\n",
        "for i in train_answers_paraIndex:\n",
        "  train_contexts.append(contexts[i-1])"
      ],
      "execution_count": 117,
      "outputs": []
    },
    {
      "cell_type": "code",
      "metadata": {
        "id": "ewKJ19LzQin_"
      },
      "source": [
        "train_contexts"
      ],
      "execution_count": null,
      "outputs": []
    },
    {
      "cell_type": "markdown",
      "metadata": {
        "id": "7zElKfoA5U94"
      },
      "source": [
        "#encoding and tokenize"
      ]
    },
    {
      "cell_type": "code",
      "metadata": {
        "id": "K7ULXUB35bOE"
      },
      "source": [
        "from transformers import DistilBertTokenizerFast\n",
        "tokenizer = DistilBertTokenizerFast.from_pretrained('distilbert-base-uncased')\n",
        "\n",
        "train_encodings = tokenizer(train_contexts, train_questions, truncation=True, padding=True)"
      ],
      "execution_count": 118,
      "outputs": []
    },
    {
      "cell_type": "code",
      "metadata": {
        "id": "ZOWLdbJr5bVa"
      },
      "source": [
        "def add_token_positions(encodings, answers):\n",
        "    start_positions = []\n",
        "    end_positions = []\n",
        "    for i in range(len(answers)):\n",
        "        start_positions.append(encodings.char_to_token(i, answers[i]['answer_start']))\n",
        "        end_positions.append(encodings.char_to_token(i, answers[i]['answer_end'] - 1))\n",
        "\n",
        "        # if start position is None, the answer passage has been truncated\n",
        "        if start_positions[-1] is None:\n",
        "            start_positions[-1] = tokenizer.model_max_length\n",
        "        if end_positions[-1] is None:\n",
        "            end_positions[-1] = tokenizer.model_max_length\n",
        "\n",
        "    encodings.update({'start_positions': start_positions, 'end_positions': end_positions})\n",
        "\n",
        "add_token_positions(train_encodings, train_answers)"
      ],
      "execution_count": 119,
      "outputs": []
    },
    {
      "cell_type": "markdown",
      "metadata": {
        "id": "z4w6XoYd5iJW"
      },
      "source": [
        "#pytorch"
      ]
    },
    {
      "cell_type": "code",
      "metadata": {
        "id": "0on5SYly5bYH"
      },
      "source": [
        "import torch\n",
        "\n",
        "class SquadDataset(torch.utils.data.Dataset):\n",
        "    def __init__(self, encodings):\n",
        "        self.encodings = encodings\n",
        "\n",
        "    def __getitem__(self, idx):\n",
        "        return {key: torch.tensor(val[idx]) for key, val in self.encodings.items()}\n",
        "\n",
        "    def __len__(self):\n",
        "        return len(self.encodings.input_ids)\n",
        "\n",
        "train_dataset = SquadDataset(train_encodings)"
      ],
      "execution_count": 120,
      "outputs": []
    },
    {
      "cell_type": "code",
      "metadata": {
        "id": "LiEoHk4TZjUB"
      },
      "source": [
        "from torch.utils.data import DataLoader\n",
        "from transformers import AdamW\n",
        "from transformers import DistilBertForQuestionAnswering"
      ],
      "execution_count": 92,
      "outputs": []
    },
    {
      "cell_type": "code",
      "metadata": {
        "id": "dD_T0BVb5bau",
        "colab": {
          "base_uri": "https://localhost:8080/"
        },
        "outputId": "b9a5cd3f-6f8a-4fe0-e3f1-414d5bcbef96"
      },
      "source": [
        "model = DistilBertForQuestionAnswering.from_pretrained(\"distilbert-base-uncased\")"
      ],
      "execution_count": 121,
      "outputs": [
        {
          "output_type": "stream",
          "name": "stderr",
          "text": [
            "Some weights of the model checkpoint at distilbert-base-uncased were not used when initializing DistilBertForQuestionAnswering: ['vocab_projector.weight', 'vocab_layer_norm.bias', 'vocab_transform.bias', 'vocab_transform.weight', 'vocab_projector.bias', 'vocab_layer_norm.weight']\n",
            "- This IS expected if you are initializing DistilBertForQuestionAnswering from the checkpoint of a model trained on another task or with another architecture (e.g. initializing a BertForSequenceClassification model from a BertForPreTraining model).\n",
            "- This IS NOT expected if you are initializing DistilBertForQuestionAnswering from the checkpoint of a model that you expect to be exactly identical (initializing a BertForSequenceClassification model from a BertForSequenceClassification model).\n",
            "Some weights of DistilBertForQuestionAnswering were not initialized from the model checkpoint at distilbert-base-uncased and are newly initialized: ['qa_outputs.weight', 'qa_outputs.bias']\n",
            "You should probably TRAIN this model on a down-stream task to be able to use it for predictions and inference.\n"
          ]
        }
      ]
    },
    {
      "cell_type": "code",
      "metadata": {
        "id": "U1yrPAA45qos"
      },
      "source": [
        "device = torch.device('cuda') if torch.cuda.is_available() else torch.device('cpu')\n",
        "\n",
        "model.to(device)\n",
        "model.train()\n",
        "\n",
        "train_loader = DataLoader(train_dataset, batch_size=16, shuffle=True)\n",
        "\n",
        "optim = AdamW(model.parameters(), lr=5e-5)\n",
        "\n",
        "for epoch in range(3):\n",
        "    for batch in train_loader:\n",
        "        optim.zero_grad()\n",
        "        input_ids = batch['input_ids'].to(device)\n",
        "        attention_mask = batch['attention_mask'].to(device)\n",
        "        start_positions = batch['start_positions'].to(device)\n",
        "        end_positions = batch['end_positions'].to(device)\n",
        "        outputs = model(input_ids, attention_mask=attention_mask, start_positions=start_positions, end_positions=end_positions)\n",
        "        loss = outputs[0]\n",
        "        loss.backward()\n",
        "        optim.step()\n",
        "\n",
        "model.eval()"
      ],
      "execution_count": null,
      "outputs": []
    },
    {
      "cell_type": "markdown",
      "metadata": {
        "id": "XijYtOiyRNb-"
      },
      "source": [
        "#result"
      ]
    },
    {
      "cell_type": "code",
      "metadata": {
        "id": "gne3tJFnU-c3"
      },
      "source": [
        "torch.save(model.state_dict(), \"lupin_model.pt\")"
      ],
      "execution_count": 389,
      "outputs": []
    },
    {
      "cell_type": "code",
      "metadata": {
        "colab": {
          "base_uri": "https://localhost:8080/"
        },
        "id": "qai0G9xRQ_V0",
        "outputId": "00276bf1-ccc1-474d-baaa-3b5c9c29cc82"
      },
      "source": [
        "question=\"what is the evidence?\"\n",
        "text=contexts[8-1]\n",
        "inputs = tokenizer(question, text, add_special_tokens=True, return_tensors=\"pt\")\n",
        "input_ids = inputs[\"input_ids\"].tolist()[0]\n",
        "outputs = model(**inputs)\n",
        "answer_start_scores = outputs.start_logits\n",
        "answer_end_scores = outputs.end_logits\n",
        "# Get the most likely beginning of answer with the argmax of the score\n",
        "answer_start = torch.argmax(answer_start_scores)\n",
        "# Get the most likely end of answer with the argmax of the score\n",
        "answer_end = torch.argmax(answer_end_scores) + 1\n",
        "answer = tokenizer.convert_tokens_to_string(tokenizer.convert_ids_to_tokens(input_ids[answer_start:answer_end]))\n",
        "print(f\"Question: {question}\")\n",
        "print(f\"Answer: {answer}\")"
      ],
      "execution_count": 152,
      "outputs": [
        {
          "output_type": "stream",
          "name": "stdout",
          "text": [
            "Question: what is the evidence?\n",
            "Answer: the rue de babylone, the issue of the counterfeit bank - notes, the burglaries at the various chateaux, armesnil, gouret, imblevain, groseillers, malaquis\n"
          ]
        }
      ]
    },
    {
      "cell_type": "code",
      "metadata": {
        "id": "cvbzwMAcDGHq"
      },
      "source": [
        ""
      ],
      "execution_count": null,
      "outputs": []
    },
    {
      "cell_type": "code",
      "metadata": {
        "colab": {
          "base_uri": "https://localhost:8080/"
        },
        "id": "J-B-oMuuCsxq",
        "outputId": "3112c1b5-b3c5-4bc8-e6ff-4a8118a5f101"
      },
      "source": [
        "question_list=[]\n",
        "answer_list=[]\n",
        "for i in range(len(val_questions)):\n",
        "  question=val_questions[i]\n",
        "  question_list.append(question)\n",
        "  text=test_val_contexts[i]\n",
        "  inputs = tokenizer(question, text, add_special_tokens=True, return_tensors=\"pt\")\n",
        "  input_ids = inputs[\"input_ids\"].tolist()[0]\n",
        "  outputs = model(**inputs)\n",
        "  answer_start_scores = outputs.start_logits\n",
        "  answer_end_scores = outputs.end_logits\n",
        "  # Get the most likely beginning of answer with the argmax of the score\n",
        "  answer_start = torch.argmax(answer_start_scores)\n",
        "  # Get the most likely end of answer with the argmax of the score\n",
        "  answer_end = torch.argmax(answer_end_scores) + 1\n",
        "  answer = tokenizer.convert_tokens_to_string(tokenizer.convert_ids_to_tokens(input_ids[answer_start:answer_end]))\n",
        "  answer_list.append(answer)\n",
        "  print(f\"Question: {question}\")\n",
        "  print(f\"Correct answer: {val_answers[i]['text']}\")\n",
        "  print(f\"Model answer: {answer}\")"
      ],
      "execution_count": 169,
      "outputs": [
        {
          "output_type": "stream",
          "name": "stdout",
          "text": [
            "Question: Who is the burglar?\n",
            "Correct answer: Arsène Lupin\n",
            "Model answer: gentleman - burglar\n",
            "Question: Who is the detective?\n",
            "Correct answer: Ganimard\n",
            "Model answer: our shrewdest detective\n",
            "Question: What was taken by theft?\n",
            "Correct answer: diamond sunbursts, jeweled pendants, bracelets and necklaces\n",
            "Model answer: at the time lady jerland was taking her tea\n",
            "Question: What were the obstacles in crime scene?\n",
            "Correct answer: a door and a window—both closed and fastened\n",
            "Model answer: a door and a window — both closed and fastened\n",
            "Question: what is the evidence?\n",
            "Correct answer: the theft in the rue de Babylone, the issue of the counterfeit bank-notes, the burglaries at the various châteaux, Armesnil, Gouret, Imblevain, Groseillers, Malaquis, all my work, monsieur, I did it all\n",
            "Model answer: the rue de babylone, the issue of the counterfeit bank - notes, the burglaries at the various chateaux, armesnil, gouret, imblevain, groseillers, malaquis\n",
            "Question: Who did Lupin disguise?\n",
            "Correct answer: Bernard d’Andrézy\n",
            "Model answer: arsene lupin, is it not? ” i laughed, and replied : “ no, simply bernard d ’ andrezy. ” “ bernard d ’ andrezy died in macedonia three years ago\n",
            "Question: Where did Bernard d’Andrézy die?\n",
            "Correct answer: in Macedonia\n",
            "Model answer: arsene lupin, is it not? ” i laughed, and replied : “ no, simply bernard d ’ andrezy. ” “ bernard d ’ andrezy died in macedonia three years ago\n",
            "Question: Who grasp Bernard d’Andrézy?\n",
            "Correct answer: Ganimard and his two assistants\n",
            "Model answer: ganimard and his two assistants\n"
          ]
        }
      ]
    },
    {
      "cell_type": "code",
      "metadata": {
        "id": "zbHyGfeTF17m"
      },
      "source": [
        "answer_list1=[\"(arsène) lupin\",\"ganimard(, our shrewdest detective)\",\"diamond sunbursts\",\"a door and a window (— both closed and fastened)\",\"the rue de babylone, the issue of the counterfeit bank - notes, the burglaries at the various chateaux, armesnil, gouret, imblevain, groseillers, malaquis\",\"arsene lupin, is it not? ” i laughed, and replied : “ no, simply bernard d ’ andrezy. ” “ bernard d ’ andrezy died in macedonia three years ago\",\"arsene lupin, is it not? ” i laughed, and replied : “ no, simply bernard d ’ andrezy. ” “ bernard d ’ andrezy died in macedonia three years ago\",\"ganimard and his two assistants\"]"
      ],
      "execution_count": 170,
      "outputs": []
    },
    {
      "cell_type": "code",
      "metadata": {
        "id": "S7CYhVR_G_rW"
      },
      "source": [
        "import pandas as pd\n",
        "table_result={\"Question\":[],\"Correct answer\":[],\"Model answer\":[]}\n",
        "for i in range(len(val_questions)):\n",
        "  table_result[\"Question\"].append(val_questions[i])\n",
        "  table_result[\"Correct answer\"].append(val_answers[i]['text'])\n",
        "  table_result[\"Model answer\"].append(answer_list1[i])\n"
      ],
      "execution_count": 171,
      "outputs": []
    },
    {
      "cell_type": "code",
      "metadata": {
        "id": "ueURVEJqIaAz"
      },
      "source": [
        "table_result"
      ],
      "execution_count": null,
      "outputs": []
    },
    {
      "cell_type": "code",
      "metadata": {
        "colab": {
          "base_uri": "https://localhost:8080/",
          "height": 670
        },
        "id": "bTimO2WWIZi-",
        "outputId": "b1c3b36b-a60e-44ce-b601-291fd4a679d0"
      },
      "source": [
        "import matplotlib.pyplot as plt\n",
        "pd.options.display.max_colwidth=40\n",
        "display(table_show.style.set_properties(**{'text-align': 'left',    'white-space': 'pre-wrap',}))\n",
        "pd.options.display.max_colwidth=40\n",
        "table_show = pd.DataFrame(table_result)\n",
        "display(table_show)\n",
        "# pd.set_option('display.max_rows', None)\n",
        "# pd.set_option('display.max_columns', None)\n",
        "# pd.set_option('display.width', None)\n",
        "# pd.set_option('display.max_colwidth', None)\n",
        "# print(table_show)"
      ],
      "execution_count": 188,
      "outputs": [
        {
          "output_type": "display_data",
          "data": {
            "text/html": [
              "<style  type=\"text/css\" >\n",
              "#T_e97af9b8_50dc_11ec_920c_0242ac1c0002row0_col0,#T_e97af9b8_50dc_11ec_920c_0242ac1c0002row0_col1,#T_e97af9b8_50dc_11ec_920c_0242ac1c0002row0_col2,#T_e97af9b8_50dc_11ec_920c_0242ac1c0002row1_col0,#T_e97af9b8_50dc_11ec_920c_0242ac1c0002row1_col1,#T_e97af9b8_50dc_11ec_920c_0242ac1c0002row1_col2,#T_e97af9b8_50dc_11ec_920c_0242ac1c0002row2_col0,#T_e97af9b8_50dc_11ec_920c_0242ac1c0002row2_col1,#T_e97af9b8_50dc_11ec_920c_0242ac1c0002row2_col2,#T_e97af9b8_50dc_11ec_920c_0242ac1c0002row3_col0,#T_e97af9b8_50dc_11ec_920c_0242ac1c0002row3_col1,#T_e97af9b8_50dc_11ec_920c_0242ac1c0002row3_col2,#T_e97af9b8_50dc_11ec_920c_0242ac1c0002row4_col0,#T_e97af9b8_50dc_11ec_920c_0242ac1c0002row4_col1,#T_e97af9b8_50dc_11ec_920c_0242ac1c0002row4_col2,#T_e97af9b8_50dc_11ec_920c_0242ac1c0002row5_col0,#T_e97af9b8_50dc_11ec_920c_0242ac1c0002row5_col1,#T_e97af9b8_50dc_11ec_920c_0242ac1c0002row5_col2,#T_e97af9b8_50dc_11ec_920c_0242ac1c0002row6_col0,#T_e97af9b8_50dc_11ec_920c_0242ac1c0002row6_col1,#T_e97af9b8_50dc_11ec_920c_0242ac1c0002row6_col2,#T_e97af9b8_50dc_11ec_920c_0242ac1c0002row7_col0,#T_e97af9b8_50dc_11ec_920c_0242ac1c0002row7_col1,#T_e97af9b8_50dc_11ec_920c_0242ac1c0002row7_col2{\n",
              "            text-align:  left;\n",
              "            white-space:  pre-wrap;\n",
              "        }</style><table id=\"T_e97af9b8_50dc_11ec_920c_0242ac1c0002\" class=\"dataframe\"><thead>    <tr>        <th class=\"blank level0\" ></th>        <th class=\"col_heading level0 col0\" >Question</th>        <th class=\"col_heading level0 col1\" >Correct answer</th>        <th class=\"col_heading level0 col2\" >Model answer</th>    </tr></thead><tbody>\n",
              "                <tr>\n",
              "                        <th id=\"T_e97af9b8_50dc_11ec_920c_0242ac1c0002level0_row0\" class=\"row_heading level0 row0\" >0</th>\n",
              "                        <td id=\"T_e97af9b8_50dc_11ec_920c_0242ac1c0002row0_col0\" class=\"data row0 col0\" >Who is the burglar?</td>\n",
              "                        <td id=\"T_e97af9b8_50dc_11ec_920c_0242ac1c0002row0_col1\" class=\"data row0 col1\" >Arsène Lupin</td>\n",
              "                        <td id=\"T_e97af9b8_50dc_11ec_920c_0242ac1c0002row0_col2\" class=\"data row0 col2\" >(arsène) lupin</td>\n",
              "            </tr>\n",
              "            <tr>\n",
              "                        <th id=\"T_e97af9b8_50dc_11ec_920c_0242ac1c0002level0_row1\" class=\"row_heading level0 row1\" >1</th>\n",
              "                        <td id=\"T_e97af9b8_50dc_11ec_920c_0242ac1c0002row1_col0\" class=\"data row1 col0\" >Who is the detective?</td>\n",
              "                        <td id=\"T_e97af9b8_50dc_11ec_920c_0242ac1c0002row1_col1\" class=\"data row1 col1\" >Ganimard</td>\n",
              "                        <td id=\"T_e97af9b8_50dc_11ec_920c_0242ac1c0002row1_col2\" class=\"data row1 col2\" >ganimard(, our shrewdest detective)</td>\n",
              "            </tr>\n",
              "            <tr>\n",
              "                        <th id=\"T_e97af9b8_50dc_11ec_920c_0242ac1c0002level0_row2\" class=\"row_heading level0 row2\" >2</th>\n",
              "                        <td id=\"T_e97af9b8_50dc_11ec_920c_0242ac1c0002row2_col0\" class=\"data row2 col0\" >What was taken by theft?</td>\n",
              "                        <td id=\"T_e97af9b8_50dc_11ec_920c_0242ac1c0002row2_col1\" class=\"data row2 col1\" >diamond sunbursts, jeweled pendants, bracelets and necklaces</td>\n",
              "                        <td id=\"T_e97af9b8_50dc_11ec_920c_0242ac1c0002row2_col2\" class=\"data row2 col2\" >diamond sunbursts</td>\n",
              "            </tr>\n",
              "            <tr>\n",
              "                        <th id=\"T_e97af9b8_50dc_11ec_920c_0242ac1c0002level0_row3\" class=\"row_heading level0 row3\" >3</th>\n",
              "                        <td id=\"T_e97af9b8_50dc_11ec_920c_0242ac1c0002row3_col0\" class=\"data row3 col0\" >What were the obstacles in crime scene?</td>\n",
              "                        <td id=\"T_e97af9b8_50dc_11ec_920c_0242ac1c0002row3_col1\" class=\"data row3 col1\" >a door and a window—both closed and fastened</td>\n",
              "                        <td id=\"T_e97af9b8_50dc_11ec_920c_0242ac1c0002row3_col2\" class=\"data row3 col2\" >a door and a window (— both closed and fastened)</td>\n",
              "            </tr>\n",
              "            <tr>\n",
              "                        <th id=\"T_e97af9b8_50dc_11ec_920c_0242ac1c0002level0_row4\" class=\"row_heading level0 row4\" >4</th>\n",
              "                        <td id=\"T_e97af9b8_50dc_11ec_920c_0242ac1c0002row4_col0\" class=\"data row4 col0\" >what is the evidence?</td>\n",
              "                        <td id=\"T_e97af9b8_50dc_11ec_920c_0242ac1c0002row4_col1\" class=\"data row4 col1\" >the theft in the rue de Babylone, the issue of the counterfeit bank-notes, the burglaries at the various châteaux, Armesnil, Gouret, Imblevain, Groseillers, Malaquis, all my work, monsieur, I did it all</td>\n",
              "                        <td id=\"T_e97af9b8_50dc_11ec_920c_0242ac1c0002row4_col2\" class=\"data row4 col2\" >the rue de babylone, the issue of the counterfeit bank - notes, the burglaries at the various chateaux, armesnil, gouret, imblevain, groseillers, malaquis</td>\n",
              "            </tr>\n",
              "            <tr>\n",
              "                        <th id=\"T_e97af9b8_50dc_11ec_920c_0242ac1c0002level0_row5\" class=\"row_heading level0 row5\" >5</th>\n",
              "                        <td id=\"T_e97af9b8_50dc_11ec_920c_0242ac1c0002row5_col0\" class=\"data row5 col0\" >Who did Lupin disguise?</td>\n",
              "                        <td id=\"T_e97af9b8_50dc_11ec_920c_0242ac1c0002row5_col1\" class=\"data row5 col1\" >Bernard d’Andrézy</td>\n",
              "                        <td id=\"T_e97af9b8_50dc_11ec_920c_0242ac1c0002row5_col2\" class=\"data row5 col2\" >arsene lupin, is it not? ” i laughed, and replied : “ no, simply bernard d ’ andrezy. ” “ bernard d ’ andrezy died in macedonia three years ago</td>\n",
              "            </tr>\n",
              "            <tr>\n",
              "                        <th id=\"T_e97af9b8_50dc_11ec_920c_0242ac1c0002level0_row6\" class=\"row_heading level0 row6\" >6</th>\n",
              "                        <td id=\"T_e97af9b8_50dc_11ec_920c_0242ac1c0002row6_col0\" class=\"data row6 col0\" >Where did Bernard d’Andrézy die?</td>\n",
              "                        <td id=\"T_e97af9b8_50dc_11ec_920c_0242ac1c0002row6_col1\" class=\"data row6 col1\" >in Macedonia</td>\n",
              "                        <td id=\"T_e97af9b8_50dc_11ec_920c_0242ac1c0002row6_col2\" class=\"data row6 col2\" >arsene lupin, is it not? ” i laughed, and replied : “ no, simply bernard d ’ andrezy. ” “ bernard d ’ andrezy died in macedonia three years ago</td>\n",
              "            </tr>\n",
              "            <tr>\n",
              "                        <th id=\"T_e97af9b8_50dc_11ec_920c_0242ac1c0002level0_row7\" class=\"row_heading level0 row7\" >7</th>\n",
              "                        <td id=\"T_e97af9b8_50dc_11ec_920c_0242ac1c0002row7_col0\" class=\"data row7 col0\" >Who grasp Bernard d’Andrézy?</td>\n",
              "                        <td id=\"T_e97af9b8_50dc_11ec_920c_0242ac1c0002row7_col1\" class=\"data row7 col1\" >Ganimard and his two assistants</td>\n",
              "                        <td id=\"T_e97af9b8_50dc_11ec_920c_0242ac1c0002row7_col2\" class=\"data row7 col2\" >ganimard and his two assistants</td>\n",
              "            </tr>\n",
              "    </tbody></table>"
            ],
            "text/plain": [
              "<pandas.io.formats.style.Styler at 0x7f5a33346750>"
            ]
          },
          "metadata": {}
        },
        {
          "output_type": "display_data",
          "data": {
            "text/html": [
              "<div>\n",
              "<style scoped>\n",
              "    .dataframe tbody tr th:only-of-type {\n",
              "        vertical-align: middle;\n",
              "    }\n",
              "\n",
              "    .dataframe tbody tr th {\n",
              "        vertical-align: top;\n",
              "    }\n",
              "\n",
              "    .dataframe thead th {\n",
              "        text-align: right;\n",
              "    }\n",
              "</style>\n",
              "<table border=\"1\" class=\"dataframe\">\n",
              "  <thead>\n",
              "    <tr style=\"text-align: right;\">\n",
              "      <th></th>\n",
              "      <th>Question</th>\n",
              "      <th>Correct answer</th>\n",
              "      <th>Model answer</th>\n",
              "    </tr>\n",
              "  </thead>\n",
              "  <tbody>\n",
              "    <tr>\n",
              "      <th>0</th>\n",
              "      <td>Who is the burglar?</td>\n",
              "      <td>Arsène Lupin</td>\n",
              "      <td>(arsène) lupin</td>\n",
              "    </tr>\n",
              "    <tr>\n",
              "      <th>1</th>\n",
              "      <td>Who is the detective?</td>\n",
              "      <td>Ganimard</td>\n",
              "      <td>ganimard(, our shrewdest detective)</td>\n",
              "    </tr>\n",
              "    <tr>\n",
              "      <th>2</th>\n",
              "      <td>What was taken by theft?</td>\n",
              "      <td>diamond sunbursts, jeweled pendants,...</td>\n",
              "      <td>diamond sunbursts</td>\n",
              "    </tr>\n",
              "    <tr>\n",
              "      <th>3</th>\n",
              "      <td>What were the obstacles in crime scene?</td>\n",
              "      <td>a door and a window—both closed and ...</td>\n",
              "      <td>a door and a window (— both closed a...</td>\n",
              "    </tr>\n",
              "    <tr>\n",
              "      <th>4</th>\n",
              "      <td>what is the evidence?</td>\n",
              "      <td>the theft in the rue de Babylone, th...</td>\n",
              "      <td>the rue de babylone, the issue of th...</td>\n",
              "    </tr>\n",
              "    <tr>\n",
              "      <th>5</th>\n",
              "      <td>Who did Lupin disguise?</td>\n",
              "      <td>Bernard d’Andrézy</td>\n",
              "      <td>arsene lupin, is it not? ” i laughed...</td>\n",
              "    </tr>\n",
              "    <tr>\n",
              "      <th>6</th>\n",
              "      <td>Where did Bernard d’Andrézy die?</td>\n",
              "      <td>in Macedonia</td>\n",
              "      <td>arsene lupin, is it not? ” i laughed...</td>\n",
              "    </tr>\n",
              "    <tr>\n",
              "      <th>7</th>\n",
              "      <td>Who grasp Bernard d’Andrézy?</td>\n",
              "      <td>Ganimard and his two assistants</td>\n",
              "      <td>ganimard and his two assistants</td>\n",
              "    </tr>\n",
              "  </tbody>\n",
              "</table>\n",
              "</div>"
            ],
            "text/plain": [
              "                                  Question                           Correct answer                             Model answer\n",
              "0                      Who is the burglar?                             Arsène Lupin                           (arsène) lupin\n",
              "1                    Who is the detective?                                 Ganimard      ganimard(, our shrewdest detective)\n",
              "2                 What was taken by theft?  diamond sunbursts, jeweled pendants,...                        diamond sunbursts\n",
              "3  What were the obstacles in crime scene?  a door and a window—both closed and ...  a door and a window (— both closed a...\n",
              "4                    what is the evidence?  the theft in the rue de Babylone, th...  the rue de babylone, the issue of th...\n",
              "5                  Who did Lupin disguise?                        Bernard d’Andrézy  arsene lupin, is it not? ” i laughed...\n",
              "6         Where did Bernard d’Andrézy die?                             in Macedonia  arsene lupin, is it not? ” i laughed...\n",
              "7             Who grasp Bernard d’Andrézy?          Ganimard and his two assistants          ganimard and his two assistants"
            ]
          },
          "metadata": {}
        }
      ]
    },
    {
      "cell_type": "code",
      "metadata": {
        "id": "HjRtOBRPXvLP"
      },
      "source": [
        "#\n",
        "for i in range(len(train_questions)):\n",
        "  question=train_questions[i]\n",
        "  text=train_contexts[i]\n",
        "  inputs = tokenizer(question, text, add_special_tokens=True, return_tensors=\"pt\")\n",
        "  input_ids = inputs[\"input_ids\"].tolist()[0]\n",
        "  outputs = model(**inputs)\n",
        "  answer_start_scores = outputs.start_logits\n",
        "  answer_end_scores = outputs.end_logits\n",
        "  # Get the most likely beginning of answer with the argmax of the score\n",
        "  answer_start = torch.argmax(answer_start_scores)\n",
        "  # Get the most likely end of answer with the argmax of the score\n",
        "  answer_end = torch.argmax(answer_end_scores) + 1\n",
        "  answer = tokenizer.convert_tokens_to_string(tokenizer.convert_ids_to_tokens(input_ids[answer_start:answer_end]))\n",
        "  print(f\"Question: {question}\")\n",
        "  print(f\"Answer: {answer}\")"
      ],
      "execution_count": null,
      "outputs": []
    },
    {
      "cell_type": "code",
      "metadata": {
        "colab": {
          "base_uri": "https://localhost:8080/"
        },
        "id": "I3XWcC6BSlEm",
        "outputId": "dc5b9b53-047c-4a76-ee83-50c5fd3710cd"
      },
      "source": [
        "#1\n",
        "for i in range(len(val_questions)):\n",
        "  question=val_questions[i]\n",
        "  text=test_val_contexts[i]\n",
        "  inputs = tokenizer(question, text, add_special_tokens=True, return_tensors=\"pt\")\n",
        "  input_ids = inputs[\"input_ids\"].tolist()[0]\n",
        "  outputs = model(**inputs)\n",
        "  answer_start_scores = outputs.start_logits\n",
        "  answer_end_scores = outputs.end_logits\n",
        "  # Get the most likely beginning of answer with the argmax of the score\n",
        "  answer_start = torch.argmax(answer_start_scores)\n",
        "  # Get the most likely end of answer with the argmax of the score\n",
        "  answer_end = torch.argmax(answer_end_scores) + 1\n",
        "  answer = tokenizer.convert_tokens_to_string(tokenizer.convert_ids_to_tokens(input_ids[answer_start:answer_end]))\n",
        "  print(f\"Question: {question}\")\n",
        "  print(f\"Answer: {answer}\")"
      ],
      "execution_count": 443,
      "outputs": [
        {
          "output_type": "stream",
          "name": "stdout",
          "text": [
            "Question: Who is the burglar?\n",
            "Answer: during the past few months! the mysterious individual with whom ganimard, our shrewdest detective, had been engaged in an implacable conflict amidst interesting and picturesque surroundings. arsene lupin, the eccentric gentleman who operates only in the chateaux and salons, and who, one night, entered the residence of baron schormann, but emerged empty - handed, leaving, however, his card on which he had scribbled these words : “ arsene lupin, gentleman - burglar, will return when the furniture is genuine. ” arsene lupin, the man of a thousand disguises\n",
            "Question: Who is the detective?\n",
            "Answer: during the past few months! the mysterious individual with whom ganimard, our shrewdest detective, had been engaged in an implacable conflict amidst interesting and picturesque surroundings. arsene lupin, the eccentric gentleman who operates only in the chateaux and salons, and who, one night, entered the residence of baron schormann, but emerged empty - handed, leaving, however, his card on which he had scribbled these words : “ arsene lupin, gentleman - burglar, will return when the furniture is genuine. ” arsene lupin, the man of a thousand disguises\n",
            "Question: What was stolen?\n",
            "Answer: my jewels, my pearls\n",
            "Question: What were the obstacles?\n",
            "Answer: a door and a window — both closed and fastened\n",
            "Question: Who did Lupin disguise?\n",
            "Answer: three years ago. ” “ if bernard d ’ andrezy were dead, i should not be here. but you are mistaken. here are my papers. ” “ they are his ; and i can tell you exactly how they came into your possession. ” “ you are a fool! ” i exclaimed. “ arsene lupin sailed under the name of r — - ” “ yes, another of your tricks ; a false scent that deceived them at havre. you play a good game, my boy, but this time luck is against you. ” i hesitated a moment. then he hit me a sharp blow on the right arm, which caused me to utter a cry of pain. he had struck the wound, yet unhealed, referred to in the telegram. i was obliged to surrender. there was no alternative. i turned to miss nelly, who had heard everything. our eyes met ; then she glanced at the kodak i had placed in her hands, and made a gesture that conveyed to me the impression that she understood everything. yes, there, between the narrow folds of black leather, in the hollow centre of the small object that i had taken the precaution to place in her hands before ganimard arrested me, it was there i had deposited rozaine ’ s twenty thousand francs and lady jerland ’ s pearls and diamonds\n",
            "Question: Who die in three years ago?\n",
            "Answer: in macedonia three years ago. ” “ if bernard d ’ andrezy were dead, i should not be here. but you are mistaken. here are my papers. ” “ they are his ; and i can tell you exactly how they came into your possession. ” “ you are a fool! ” i exclaimed. “ arsene lupin sailed under the name of r — - ” “ yes, another of your tricks ; a false scent that deceived them at havre. you play a good game, my boy, but this time luck is against you. ” i hesitated a moment. then he hit me a sharp blow on the right arm, which caused me to utter a cry of pain. he had struck the wound, yet unhealed, referred to in the telegram. i was obliged to surrender. there was no alternative. i turned to miss nelly, who had heard everything. our eyes met ; then she glanced at the kodak i had placed in her hands, and made a gesture that conveyed to me the impression that she understood everything. yes, there, between the narrow folds of black leather, in the hollow centre of the small object that i had taken the precaution to place in her hands before ganimard arrested me, it was there i had deposited rozaine ’ s twenty thousand francs and lady jerland ’ s pearls and diamonds\n"
          ]
        }
      ]
    },
    {
      "cell_type": "code",
      "metadata": {
        "colab": {
          "base_uri": "https://localhost:8080/"
        },
        "id": "RlWYKgRnFnz8",
        "outputId": "3f1cbb44-8e7e-43dc-9f44-a61692ca68fc"
      },
      "source": [
        "#2\n",
        "for i in range(len(val_questions)):\n",
        "  question=val_questions[i]\n",
        "  text=test_val_contexts[i]\n",
        "  inputs = tokenizer(question, text, add_special_tokens=True, return_tensors=\"pt\")\n",
        "  input_ids = inputs[\"input_ids\"].tolist()[0]\n",
        "  outputs = model(**inputs)\n",
        "  answer_start_scores = outputs.start_logits\n",
        "  answer_end_scores = outputs.end_logits\n",
        "  # Get the most likely beginning of answer with the argmax of the score\n",
        "  answer_start = torch.argmax(answer_start_scores)\n",
        "  # Get the most likely end of answer with the argmax of the score\n",
        "  answer_end = torch.argmax(answer_end_scores) + 1\n",
        "  answer = tokenizer.convert_tokens_to_string(tokenizer.convert_ids_to_tokens(input_ids[answer_start:answer_end]))\n",
        "  print(f\"Question: {question}\")\n",
        "  print(f\"Answer: {answer}\")"
      ],
      "execution_count": 445,
      "outputs": [
        {
          "output_type": "stream",
          "name": "stdout",
          "text": [
            "Question: Who is the burglar?\n",
            "Answer: during the past few months\n",
            "Question: Who is the detective?\n",
            "Answer: during the past few months\n",
            "Question: What was stolen?\n",
            "Answer: \n",
            "Question: What were the obstacles?\n",
            "Answer: a door and a window — both closed and fastened\n",
            "Question: Who did Lupin disguise?\n",
            "Answer: three years ago\n",
            "Question: Who die in three years ago?\n",
            "Answer: three years ago\n"
          ]
        }
      ]
    },
    {
      "cell_type": "code",
      "metadata": {
        "colab": {
          "base_uri": "https://localhost:8080/"
        },
        "id": "6UxsW7puOLVF",
        "outputId": "1c90bda1-b16d-4d5f-d5fa-14e7b284e703"
      },
      "source": [
        "#2nd\n",
        "for i in range(len(val_questions)):\n",
        "  question=val_questions[i]\n",
        "  text=test_val_contexts[i]\n",
        "  inputs = tokenizer(question, text, add_special_tokens=True, return_tensors=\"pt\")\n",
        "  input_ids = inputs[\"input_ids\"].tolist()[0]\n",
        "  outputs = model(**inputs)\n",
        "  answer_start_scores = outputs.start_logits\n",
        "  answer_end_scores = outputs.end_logits\n",
        "  # Get the most likely beginning of answer with the argmax of the score\n",
        "  answer_start = torch.argmax(answer_start_scores)\n",
        "  # Get the most likely end of answer with the argmax of the score\n",
        "  answer_end = torch.argmax(answer_end_scores) + 1\n",
        "  answer = tokenizer.convert_tokens_to_string(tokenizer.convert_ids_to_tokens(input_ids[answer_start:answer_end]))\n",
        "  print(f\"Question: {question}\")\n",
        "  print(f\"Answer: {answer}\")"
      ],
      "execution_count": 393,
      "outputs": [
        {
          "output_type": "stream",
          "name": "stdout",
          "text": [
            "Question: Who is the burglar?\n",
            "Answer: our shrewdest detective\n",
            "Question: Who is the detective?\n",
            "Answer: our shrewdest detective, had been engaged in an implacable conflict amidst interesting and picturesque surroundings. arsene lupin, the eccentric gentleman who operates only in the chateaux and salons, and who, one night, entered the residence of baron schormann\n",
            "Question: What was stolen?\n",
            "Answer: the thief had been obliged to force open the door of the stateroom\n",
            "Question: What were the obstacles?\n",
            "Answer: a door and a window — both closed and fastened\n",
            "Question: Who is the examining judge?\n",
            "Answer: the examining judge\n",
            "Question: Who did Lupin disguise?\n",
            "Answer: rozaine ’ s twenty thousand francs and lady jerland ’ s pearls and diamonds\n",
            "Question: Who die in three years ago?\n",
            "Answer: rozaine ’ s twenty thousand francs and lady jerland ’ s pearls and diamonds\n"
          ]
        }
      ]
    },
    {
      "cell_type": "code",
      "metadata": {
        "colab": {
          "base_uri": "https://localhost:8080/"
        },
        "id": "-4LbLdI5O9nF",
        "outputId": "afd0801a-b2ae-4f8a-9356-f742ede9ba3e"
      },
      "source": [
        "#3\n",
        "for i in range(len(val_questions)):\n",
        "  question=val_questions[i]\n",
        "  text=test_val_contexts[i]\n",
        "  inputs = tokenizer(question, text, add_special_tokens=True, return_tensors=\"pt\")\n",
        "  input_ids = inputs[\"input_ids\"].tolist()[0]\n",
        "  outputs = model(**inputs)\n",
        "  answer_start_scores = outputs.start_logits\n",
        "  answer_end_scores = outputs.end_logits\n",
        "  # Get the most likely beginning of answer with the argmax of the score\n",
        "  answer_start = torch.argmax(answer_start_scores)\n",
        "  # Get the most likely end of answer with the argmax of the score\n",
        "  answer_end = torch.argmax(answer_end_scores) + 1\n",
        "  answer = tokenizer.convert_tokens_to_string(tokenizer.convert_ids_to_tokens(input_ids[answer_start:answer_end]))\n",
        "  print(f\"Question: {question}\")\n",
        "  print(f\"Answer: {answer}\")"
      ],
      "execution_count": 396,
      "outputs": [
        {
          "output_type": "stream",
          "name": "stdout",
          "text": [
            "Question: Who is the burglar?\n",
            "Answer: our shrewdest detective\n",
            "Question: Who is the detective?\n",
            "Answer: our shrewdest detective\n",
            "Question: What was stolen?\n",
            "Answer: lady jerland, miss nelly ’ s friend\n",
            "Question: What were the obstacles?\n",
            "Answer: a door and a window — both closed and fastened\n",
            "Question: Who is the examining judge?\n",
            "Answer: the examining judge\n",
            "Question: Who did Lupin disguise?\n",
            "Answer: \n",
            "Question: Who die in three years ago?\n",
            "Answer: \n"
          ]
        }
      ]
    },
    {
      "cell_type": "code",
      "metadata": {
        "colab": {
          "base_uri": "https://localhost:8080/"
        },
        "id": "q6A2e7hSPmZk",
        "outputId": "fad7d9a5-db6b-4df8-929b-d6fbdfbc627d"
      },
      "source": [
        "#4\n",
        "for i in range(len(val_questions)):\n",
        "  question=val_questions[i]\n",
        "  text=test_val_contexts[i]\n",
        "  inputs = tokenizer(question, text, add_special_tokens=True, return_tensors=\"pt\")\n",
        "  input_ids = inputs[\"input_ids\"].tolist()[0]\n",
        "  outputs = model(**inputs)\n",
        "  answer_start_scores = outputs.start_logits\n",
        "  answer_end_scores = outputs.end_logits\n",
        "  # Get the most likely beginning of answer with the argmax of the score\n",
        "  answer_start = torch.argmax(answer_start_scores)\n",
        "  # Get the most likely end of answer with the argmax of the score\n",
        "  answer_end = torch.argmax(answer_end_scores) + 1\n",
        "  answer = tokenizer.convert_tokens_to_string(tokenizer.convert_ids_to_tokens(input_ids[answer_start:answer_end]))\n",
        "  print(f\"Question: {question}\")\n",
        "  print(f\"Answer: {answer}\")"
      ],
      "execution_count": 399,
      "outputs": [
        {
          "output_type": "stream",
          "name": "stdout",
          "text": [
            "Question: Who is the burglar?\n",
            "Answer: our shrewdest detective\n",
            "Question: Who is the detective?\n",
            "Answer: our shrewdest detective\n",
            "Question: What was stolen?\n",
            "Answer: lady jerland, miss nelly ’ s friend\n",
            "Question: What were the obstacles?\n",
            "Answer: a door and a window — both closed and fastened\n",
            "Question: Who is the examining judge?\n",
            "Answer: the examining judge\n",
            "Question: Who did Lupin disguise?\n",
            "Answer: in macedonia\n",
            "Question: Who die in three years ago?\n",
            "Answer: in macedonia\n"
          ]
        }
      ]
    },
    {
      "cell_type": "code",
      "metadata": {
        "colab": {
          "base_uri": "https://localhost:8080/"
        },
        "id": "YUeJvqe6porY",
        "outputId": "d64379ec-5ef3-4318-c087-987118e3ae13"
      },
      "source": [
        "#1\n",
        "for i in range(len(train_questions)):\n",
        "  question=train_questions[i]\n",
        "  text=train_contexts[i]\n",
        "  inputs = tokenizer(question, text, add_special_tokens=True, return_tensors=\"pt\")\n",
        "  input_ids = inputs[\"input_ids\"].tolist()[0]\n",
        "  outputs = model(**inputs)\n",
        "  answer_start_scores = outputs.start_logits\n",
        "  answer_end_scores = outputs.end_logits\n",
        "  # Get the most likely beginning of answer with the argmax of the score\n",
        "  answer_start = torch.argmax(answer_start_scores)\n",
        "  # Get the most likely end of answer with the argmax of the score\n",
        "  answer_end = torch.argmax(answer_end_scores) + 1\n",
        "  answer = tokenizer.convert_tokens_to_string(tokenizer.convert_ids_to_tokens(input_ids[answer_start:answer_end]))\n",
        "  print(f\"Question: {question}\")\n",
        "  print(f\"Answer: {answer}\")"
      ],
      "execution_count": 391,
      "outputs": [
        {
          "output_type": "stream",
          "name": "stdout",
          "text": [
            "Question: Who is Lupin?\n",
            "Answer: the eccentric gentleman who operates only in the chateaux and salons, and who, one night, entered the residence of baron schormann\n",
            "Question: Who is Ganimard?\n",
            "Answer: \n",
            "Question: Where did Lupin enter?\n",
            "Answer: the eccentric gentleman who operates only in the chateaux and salons, and who, one night, entered the residence of baron schormann\n",
            "Question: What did Lupin leave in the residence?\n",
            "Answer: the eccentric gentleman who operates only in the chateaux and salons, and who, one night, entered the residence of baron schormann\n",
            "Question: When did the newspapers narrate Lupin?\n",
            "Answer: \n",
            "Question: How to discribe Lupin's disguise?\n",
            "Answer: the man of a thousand disguises\n",
            "Question: Who was stolen?\n",
            "Answer: lady jerland, miss nelly ’ s friend, came running towards us in a state of great excitement, exclaiming : “ my jewels, my pearls\n",
            "Question: What was stolen?\n",
            "Answer: lady jerland, miss nelly ’ s friend, came running towards us in a state of great excitement, exclaiming : “ my jewels, my pearls\n",
            "Question: When did the theft commit?\n",
            "Answer: the thief had been obliged to force open the door of the stateroom\n",
            "Question: Where did the theft commit?\n",
            "Answer: the thief had been obliged to force open the door of the stateroom\n",
            "Question: What did the thief do?\n",
            "Answer: the thief had been obliged to force open the door of the stateroom\n",
            "Question: What are the obstacles in the room?\n",
            "Answer: the theft was committed. we are brought face to face with two obstacles : a door and a window — both closed and fastened\n",
            "Question: Which crime are did by Lupin?\n",
            "Answer: arsene lupin would speak. one day he said : “ yes, monsieur, le judge, i quite agree with you : the robbery of the credit lyonnais\n",
            "Question: Who is the Jules Bouvier?\n",
            "Answer: the examining judge\n",
            "Question: Who are in the same picture?\n",
            "Answer: ganimard and rozaine\n",
            "Question: How many people remained on board?\n",
            "Answer: \n",
            "Question: Where did Bernard d’Andrézy die?\n",
            "Answer: \n",
            "Question: When did Bernard d’Andrézy die?\n",
            "Answer: \n",
            "Question: Who disguise Bernard d’Andrézy?\n",
            "Answer: arsene lupin\n",
            "Question: Who grasp Bernard d’Andrézy?\n",
            "Answer: ganimard and his two assistants\n",
            "Question: What are deposited by Lupin?\n",
            "Answer: rozaine ’ s twenty thousand francs and lady jerland ’ s pearls and diamonds\n"
          ]
        }
      ]
    },
    {
      "cell_type": "code",
      "metadata": {
        "colab": {
          "base_uri": "https://localhost:8080/"
        },
        "id": "MAUb6CJuOeS2",
        "outputId": "ad6f0501-517c-4989-8225-d3515944282a"
      },
      "source": [
        "#2\n",
        "for i in range(len(train_questions)):\n",
        "  question=train_questions[i]\n",
        "  text=train_contexts[i]\n",
        "  inputs = tokenizer(question, text, add_special_tokens=True, return_tensors=\"pt\")\n",
        "  input_ids = inputs[\"input_ids\"].tolist()[0]\n",
        "  outputs = model(**inputs)\n",
        "  answer_start_scores = outputs.start_logits\n",
        "  answer_end_scores = outputs.end_logits\n",
        "  # Get the most likely beginning of answer with the argmax of the score\n",
        "  answer_start = torch.argmax(answer_start_scores)\n",
        "  # Get the most likely end of answer with the argmax of the score\n",
        "  answer_end = torch.argmax(answer_end_scores) + 1\n",
        "  answer = tokenizer.convert_tokens_to_string(tokenizer.convert_ids_to_tokens(input_ids[answer_start:answer_end]))\n",
        "  print(f\"Question: {question}\")\n",
        "  print(f\"Answer: {answer}\")"
      ],
      "execution_count": 394,
      "outputs": [
        {
          "output_type": "stream",
          "name": "stdout",
          "text": [
            "Question: Who is Lupin?\n",
            "Answer: the residence of baron schormann\n",
            "Question: Who is Ganimard?\n",
            "Answer: our shrewdest detective\n",
            "Question: Where did Lupin enter?\n",
            "Answer: the eccentric gentleman who operates only in the chateaux and salons, and who, one night, entered the residence of baron schormann\n",
            "Question: What did Lupin leave in the residence?\n",
            "Answer: the eccentric gentleman who operates only in the chateaux and salons, and who, one night, entered the residence of baron schormann\n",
            "Question: When did the newspapers narrate Lupin?\n",
            "Answer: our shrewdest detective\n",
            "Question: How to discribe Lupin's disguise?\n",
            "Answer: the man of a thousand disguises\n",
            "Question: Who was stolen?\n",
            "Answer: lady jerland, miss nelly ’ s friend, came running towards us in a state of great excitement, exclaiming : “ my jewels, my pearls\n",
            "Question: What was stolen?\n",
            "Answer: lady jerland, miss nelly ’ s friend, came running towards us in a state of great excitement, exclaiming : “ my jewels, my pearls\n",
            "Question: When did the theft commit?\n",
            "Answer: the thief had been obliged to force open the door of the stateroom\n",
            "Question: Where did the theft commit?\n",
            "Answer: the thief had been obliged to force open the door of the stateroom\n",
            "Question: What did the thief do?\n",
            "Answer: the thief had been obliged to force open the door of the stateroom\n",
            "Question: What are the obstacles in the room?\n",
            "Answer: a door and a window — both closed and fastened\n",
            "Question: Which crime are did by Lupin?\n",
            "Answer: the rue de babylone, the issue of the counterfeit bank - notes, the burglaries at the various chateaux, armesnil, gouret, imblevain, groseillers, malaquis\n",
            "Question: Who is the Jules Bouvier?\n",
            "Answer: the examining judge\n",
            "Question: Who are in the same picture?\n",
            "Answer: ganimard and rozaine\n",
            "Question: How many people remained on board?\n",
            "Answer: \n",
            "Question: Where did Bernard d’Andrézy die?\n",
            "Answer: \n",
            "Question: When did Bernard d’Andrézy die?\n",
            "Answer: \n",
            "Question: Who disguise Bernard d’Andrézy?\n",
            "Answer: \n",
            "Question: Who grasp Bernard d’Andrézy?\n",
            "Answer: ganimard and his two assistants\n",
            "Question: What are deposited by Lupin?\n",
            "Answer: rozaine ’ s twenty thousand francs and lady jerland ’ s pearls and diamonds\n"
          ]
        }
      ]
    },
    {
      "cell_type": "code",
      "metadata": {
        "colab": {
          "base_uri": "https://localhost:8080/"
        },
        "id": "3_UI8gu5PDNe",
        "outputId": "15337a8e-95bf-4763-890f-f9bad02f763c"
      },
      "source": [
        "#3\n",
        "for i in range(len(train_questions)):\n",
        "  question=train_questions[i]\n",
        "  text=train_contexts[i]\n",
        "  inputs = tokenizer(question, text, add_special_tokens=True, return_tensors=\"pt\")\n",
        "  input_ids = inputs[\"input_ids\"].tolist()[0]\n",
        "  outputs = model(**inputs)\n",
        "  answer_start_scores = outputs.start_logits\n",
        "  answer_end_scores = outputs.end_logits\n",
        "  # Get the most likely beginning of answer with the argmax of the score\n",
        "  answer_start = torch.argmax(answer_start_scores)\n",
        "  # Get the most likely end of answer with the argmax of the score\n",
        "  answer_end = torch.argmax(answer_end_scores) + 1\n",
        "  answer = tokenizer.convert_tokens_to_string(tokenizer.convert_ids_to_tokens(input_ids[answer_start:answer_end]))\n",
        "  print(f\"Question: {question}\")\n",
        "  print(f\"Answer: {answer}\")"
      ],
      "execution_count": 397,
      "outputs": [
        {
          "output_type": "stream",
          "name": "stdout",
          "text": [
            "Question: Who is Lupin?\n",
            "Answer: the residence of baron schormann, but emerged empty - handed, leaving, however, his card on which he had scribbled these words : “ arsene lupin, gentleman - burglar\n",
            "Question: Who is Ganimard?\n",
            "Answer: our shrewdest detective\n",
            "Question: Where did Lupin enter?\n",
            "Answer: the residence of baron schormann\n",
            "Question: What did Lupin leave in the residence?\n",
            "Answer: the residence of baron schormann\n",
            "Question: When did the newspapers narrate Lupin?\n",
            "Answer: our shrewdest detective\n",
            "Question: How to discribe Lupin's disguise?\n",
            "Answer: the man of a thousand disguises\n",
            "Question: Who was stolen?\n",
            "Answer: lady jerland, miss nelly ’ s friend\n",
            "Question: What was stolen?\n",
            "Answer: lady jerland, miss nelly ’ s friend\n",
            "Question: When did the theft commit?\n",
            "Answer: the thief had been obliged to force open the door of the stateroom\n",
            "Question: Where did the theft commit?\n",
            "Answer: the thief had been obliged to force open the door of the stateroom\n",
            "Question: What did the thief do?\n",
            "Answer: the thief had been obliged to force open the door of the stateroom\n",
            "Question: What are the obstacles in the room?\n",
            "Answer: a door and a window — both closed and fastened\n",
            "Question: Which crime are did by Lupin?\n",
            "Answer: the rue de babylone, the issue of the counterfeit bank - notes, the burglaries at the various chateaux, armesnil, gouret, imblevain, groseillers, malaquis\n",
            "Question: Who is the Jules Bouvier?\n",
            "Answer: the examining judge\n",
            "Question: Who are in the same picture?\n",
            "Answer: ganimard and rozaine\n",
            "Question: How many people remained on board?\n",
            "Answer: not more than twenty\n",
            "Question: Where did Bernard d’Andrézy die?\n",
            "Answer: \n",
            "Question: When did Bernard d’Andrézy die?\n",
            "Answer: \n",
            "Question: Who disguise Bernard d’Andrézy?\n",
            "Answer: \n",
            "Question: Who grasp Bernard d’Andrézy?\n",
            "Answer: ganimard and his two assistants\n",
            "Question: What are deposited by Lupin?\n",
            "Answer: rozaine ’ s twenty thousand francs and lady jerland ’ s pearls and diamonds\n"
          ]
        }
      ]
    },
    {
      "cell_type": "code",
      "metadata": {
        "colab": {
          "base_uri": "https://localhost:8080/"
        },
        "id": "z3THpk5DPt0C",
        "outputId": "26982e85-3363-4f51-d953-1481a43a4f77"
      },
      "source": [
        "#4\n",
        "for i in range(len(train_questions)):\n",
        "  question=train_questions[i]\n",
        "  text=train_contexts[i]\n",
        "  inputs = tokenizer(question, text, add_special_tokens=True, return_tensors=\"pt\")\n",
        "  input_ids = inputs[\"input_ids\"].tolist()[0]\n",
        "  outputs = model(**inputs)\n",
        "  answer_start_scores = outputs.start_logits\n",
        "  answer_end_scores = outputs.end_logits\n",
        "  # Get the most likely beginning of answer with the argmax of the score\n",
        "  answer_start = torch.argmax(answer_start_scores)\n",
        "  # Get the most likely end of answer with the argmax of the score\n",
        "  answer_end = torch.argmax(answer_end_scores) + 1\n",
        "  answer = tokenizer.convert_tokens_to_string(tokenizer.convert_ids_to_tokens(input_ids[answer_start:answer_end]))\n",
        "  print(f\"Question: {question}\")\n",
        "  print(f\"Answer: {answer}\")"
      ],
      "execution_count": 400,
      "outputs": [
        {
          "output_type": "stream",
          "name": "stdout",
          "text": [
            "Question: Who is Lupin?\n",
            "Answer: the residence of baron schormann\n",
            "Question: Who is Ganimard?\n",
            "Answer: our shrewdest detective\n",
            "Question: Where did Lupin enter?\n",
            "Answer: the residence of baron schormann\n",
            "Question: What did Lupin leave in the residence?\n",
            "Answer: the residence of baron schormann\n",
            "Question: When did the newspapers narrate Lupin?\n",
            "Answer: our shrewdest detective\n",
            "Question: How to discribe Lupin's disguise?\n",
            "Answer: the man of a thousand disguises\n",
            "Question: Who was stolen?\n",
            "Answer: lady jerland, miss nelly ’ s friend\n",
            "Question: What was stolen?\n",
            "Answer: lady jerland, miss nelly ’ s friend\n",
            "Question: When did the theft commit?\n",
            "Answer: at the time lady jerland was taking her tea\n",
            "Question: Where did the theft commit?\n",
            "Answer: at the time lady jerland was taking her tea\n",
            "Question: What did the thief do?\n",
            "Answer: at the time lady jerland was taking her tea\n",
            "Question: What are the obstacles in the room?\n",
            "Answer: a door and a window — both closed and fastened\n",
            "Question: Which crime are did by Lupin?\n",
            "Answer: the rue de babylone, the issue of the counterfeit bank - notes, the burglaries at the various chateaux, armesnil, gouret, imblevain, groseillers, malaquis\n",
            "Question: Who is the Jules Bouvier?\n",
            "Answer: the examining judge\n",
            "Question: Who are in the same picture?\n",
            "Answer: ganimard and rozaine\n",
            "Question: How many people remained on board?\n",
            "Answer: not more than twenty\n",
            "Question: Where did Bernard d’Andrézy die?\n",
            "Answer: \n",
            "Question: When did Bernard d’Andrézy die?\n",
            "Answer: \n",
            "Question: Who disguise Bernard d’Andrézy?\n",
            "Answer: \n",
            "Question: Who grasp Bernard d’Andrézy?\n",
            "Answer: ganimard and his two assistants\n",
            "Question: What are deposited by Lupin?\n",
            "Answer: rozaine ’ s twenty thousand francs and lady jerland ’ s pearls and diamonds\n"
          ]
        }
      ]
    },
    {
      "cell_type": "code",
      "metadata": {
        "id": "h5yvM9mKPu1K"
      },
      "source": [
        ""
      ],
      "execution_count": null,
      "outputs": []
    },
    {
      "cell_type": "code",
      "metadata": {
        "colab": {
          "base_uri": "https://localhost:8080/"
        },
        "id": "B2BCJAEeL_YS",
        "outputId": "41f1c991-4beb-423f-addb-bdc80a008f4a"
      },
      "source": [
        "#3rd\n",
        "for i in range(len(train_questions)):\n",
        "  question=train_questions[i]\n",
        "  text=train_contexts[i]\n",
        "  inputs = tokenizer(question, text, add_special_tokens=True, return_tensors=\"pt\")\n",
        "  input_ids = inputs[\"input_ids\"].tolist()[0]\n",
        "  outputs = model(**inputs)\n",
        "  answer_start_scores = outputs.start_logits\n",
        "  answer_end_scores = outputs.end_logits\n",
        "  # Get the most likely beginning of answer with the argmax of the score\n",
        "  answer_start = torch.argmax(answer_start_scores)\n",
        "  # Get the most likely end of answer with the argmax of the score\n",
        "  answer_end = torch.argmax(answer_end_scores) + 1\n",
        "  answer = tokenizer.convert_tokens_to_string(tokenizer.convert_ids_to_tokens(input_ids[answer_start:answer_end]))\n",
        "  print(f\"Question: {question}\")\n",
        "  print(f\"Answer: {answer}\")"
      ],
      "execution_count": 380,
      "outputs": [
        {
          "output_type": "stream",
          "name": "stdout",
          "text": [
            "Question: Who is Lupin?\n",
            "Answer: gentleman - burglar\n",
            "Question: Who is Ganimard?\n",
            "Answer: ganimard? [SEP] arsene lupin in our midst! the irresponsible burglar whose exploits had been narrated in all the newspapers during the past few months! the mysterious individual with whom ganimard, our shrewdest detective\n",
            "Question: Where did Lupin enter?\n",
            "Answer: gentleman - burglar\n",
            "Question: What did Lupin leave in the residence?\n",
            "Answer: gentleman - burglar\n",
            "Question: When did the newspapers narrate Lupin?\n",
            "Answer: our shrewdest detective\n",
            "Question: How to discribe Lupin's disguise?\n",
            "Answer: the man of a thousand disguises\n",
            "Question: Who was stolen?\n",
            "Answer: my jewels, my pearls\n",
            "Question: What was stolen?\n",
            "Answer: my jewels, my pearls\n",
            "Question: When did the theft commit?\n",
            "Answer: at the time lady jerland was taking her tea\n",
            "Question: Where did the theft commit?\n",
            "Answer: at the time lady jerland was taking her tea\n",
            "Question: What did the thief do?\n",
            "Answer: at the time lady jerland was taking her tea\n",
            "Question: What are the obstacles in the room?\n",
            "Answer: a door and a window — both closed and fastened\n",
            "Question: Which crime are did by Lupin?\n",
            "Answer: the rue de babylone, the issue of the counterfeit bank - notes, the burglaries at the various chateaux, armesnil, gouret, imblevain, groseillers, malaquis\n",
            "Question: Who is the Jules Bouvier?\n",
            "Answer: the examining judge\n",
            "Question: Who are in the same picture?\n",
            "Answer: ganimard and rozaine\n",
            "Question: How many people remained on board?\n",
            "Answer: not more than twenty\n",
            "Question: Where did Bernard d’Andrézy die?\n",
            "Answer: three years ago\n",
            "Question: When did Bernard d’Andrézy die?\n",
            "Answer: three years ago\n",
            "Question: Who disguise Bernard d’Andrézy?\n",
            "Answer: three years ago\n",
            "Question: Who grasp Bernard d’Andrézy?\n",
            "Answer: ganimard and his two assistants\n",
            "Question: What are deposited by Lupin?\n",
            "Answer: rozaine ’ s twenty thousand francs and lady jerland ’ s pearls and diamonds\n"
          ]
        }
      ]
    }
  ]
}